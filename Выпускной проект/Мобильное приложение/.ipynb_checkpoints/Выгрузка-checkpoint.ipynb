{
 "cells": [
  {
   "cell_type": "markdown",
   "id": "512bc394",
   "metadata": {
    "toc": true
   },
   "source": [
    "<h1>Table of Contents<span class=\"tocSkip\"></span></h1>\n",
    "<div class=\"toc\"><ul class=\"toc-item\"></ul></div>"
   ]
  },
  {
   "cell_type": "code",
   "execution_count": 1,
   "id": "6e971450",
   "metadata": {},
   "outputs": [],
   "source": [
    "import pandas as pd"
   ]
  },
  {
   "cell_type": "code",
   "execution_count": 2,
   "id": "5295f985",
   "metadata": {},
   "outputs": [],
   "source": [
    "# загрузка данных\n",
    "try:\n",
    "    mobile, soures = (\n",
    "        pd.read_csv('datasets/mobile_dataset.csv'), \n",
    "        pd.read_csv('datasets/mobile_soures.csv'), \n",
    "    )\n",
    "except:\n",
    "    mobile, soures = (\n",
    "        pd.read_csv('https://code.s3.yandex.net/datasets/mobile_dataset.csv'), \n",
    "        pd.read_csv('https://code.s3.yandex.net/datasets/mobile_soures.csv'),  \n",
    "    )"
   ]
  },
  {
   "cell_type": "code",
   "execution_count": 3,
   "id": "27b7a1d7",
   "metadata": {},
   "outputs": [],
   "source": [
    "# переименование колонок\n",
    "mobile.columns = [x.strip().replace('.', '_') for x in mobile.columns.values]\n",
    "soures = soures.rename(columns = {'userId':'user_id'})"
   ]
  },
  {
   "cell_type": "code",
   "execution_count": 4,
   "id": "cb216275",
   "metadata": {},
   "outputs": [
    {
     "data": {
      "text/html": [
       "<div>\n",
       "<style scoped>\n",
       "    .dataframe tbody tr th:only-of-type {\n",
       "        vertical-align: middle;\n",
       "    }\n",
       "\n",
       "    .dataframe tbody tr th {\n",
       "        vertical-align: top;\n",
       "    }\n",
       "\n",
       "    .dataframe thead th {\n",
       "        text-align: right;\n",
       "    }\n",
       "</style>\n",
       "<table border=\"1\" class=\"dataframe\">\n",
       "  <thead>\n",
       "    <tr style=\"text-align: right;\">\n",
       "      <th></th>\n",
       "      <th>event_time</th>\n",
       "      <th>event_name</th>\n",
       "      <th>user_id</th>\n",
       "      <th>source</th>\n",
       "    </tr>\n",
       "  </thead>\n",
       "  <tbody>\n",
       "    <tr>\n",
       "      <th>74192</th>\n",
       "      <td>2019-11-03 23:46:47.068179</td>\n",
       "      <td>map</td>\n",
       "      <td>d157bffc-264d-4464-8220-1cc0c42f43a9</td>\n",
       "      <td>google</td>\n",
       "    </tr>\n",
       "    <tr>\n",
       "      <th>74193</th>\n",
       "      <td>2019-11-03 23:46:58.914787</td>\n",
       "      <td>advert_open</td>\n",
       "      <td>d157bffc-264d-4464-8220-1cc0c42f43a9</td>\n",
       "      <td>google</td>\n",
       "    </tr>\n",
       "    <tr>\n",
       "      <th>74194</th>\n",
       "      <td>2019-11-03 23:47:01.232230</td>\n",
       "      <td>tips_show</td>\n",
       "      <td>d157bffc-264d-4464-8220-1cc0c42f43a9</td>\n",
       "      <td>google</td>\n",
       "    </tr>\n",
       "    <tr>\n",
       "      <th>74195</th>\n",
       "      <td>2019-11-03 23:47:47.475102</td>\n",
       "      <td>advert_open</td>\n",
       "      <td>d157bffc-264d-4464-8220-1cc0c42f43a9</td>\n",
       "      <td>google</td>\n",
       "    </tr>\n",
       "    <tr>\n",
       "      <th>74196</th>\n",
       "      <td>2019-11-03 23:47:50.087645</td>\n",
       "      <td>tips_show</td>\n",
       "      <td>d157bffc-264d-4464-8220-1cc0c42f43a9</td>\n",
       "      <td>google</td>\n",
       "    </tr>\n",
       "  </tbody>\n",
       "</table>\n",
       "</div>"
      ],
      "text/plain": [
       "                       event_time   event_name  \\\n",
       "74192  2019-11-03 23:46:47.068179          map   \n",
       "74193  2019-11-03 23:46:58.914787  advert_open   \n",
       "74194  2019-11-03 23:47:01.232230    tips_show   \n",
       "74195  2019-11-03 23:47:47.475102  advert_open   \n",
       "74196  2019-11-03 23:47:50.087645    tips_show   \n",
       "\n",
       "                                    user_id  source  \n",
       "74192  d157bffc-264d-4464-8220-1cc0c42f43a9  google  \n",
       "74193  d157bffc-264d-4464-8220-1cc0c42f43a9  google  \n",
       "74194  d157bffc-264d-4464-8220-1cc0c42f43a9  google  \n",
       "74195  d157bffc-264d-4464-8220-1cc0c42f43a9  google  \n",
       "74196  d157bffc-264d-4464-8220-1cc0c42f43a9  google  "
      ]
     },
     "execution_count": 4,
     "metadata": {},
     "output_type": "execute_result"
    }
   ],
   "source": [
    "# объединение 2х датасетов по user_id\n",
    "mobile = mobile.merge(soures, on='user_id', how='outer')\n",
    "mobile.tail()"
   ]
  },
  {
   "cell_type": "code",
   "execution_count": 5,
   "id": "63e0b6ab",
   "metadata": {},
   "outputs": [],
   "source": [
    "# сохранение датасета в фрмате csv\n",
    "mobile.to_csv('datasets/dash_mobile.csv', index=False)"
   ]
  },
  {
   "cell_type": "code",
   "execution_count": null,
   "id": "2259abe1",
   "metadata": {},
   "outputs": [],
   "source": []
  }
 ],
 "metadata": {
  "kernelspec": {
   "display_name": "Python 3 (ipykernel)",
   "language": "python",
   "name": "python3"
  },
  "language_info": {
   "codemirror_mode": {
    "name": "ipython",
    "version": 3
   },
   "file_extension": ".py",
   "mimetype": "text/x-python",
   "name": "python",
   "nbconvert_exporter": "python",
   "pygments_lexer": "ipython3",
   "version": "3.9.15"
  },
  "toc": {
   "base_numbering": 1,
   "nav_menu": {},
   "number_sections": true,
   "sideBar": true,
   "skip_h1_title": true,
   "title_cell": "Table of Contents",
   "title_sidebar": "Contents",
   "toc_cell": true,
   "toc_position": {},
   "toc_section_display": true,
   "toc_window_display": false
  }
 },
 "nbformat": 4,
 "nbformat_minor": 5
}
