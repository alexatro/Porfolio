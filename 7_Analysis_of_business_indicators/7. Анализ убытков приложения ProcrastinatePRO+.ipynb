{
 "cells": [
  {
   "cell_type": "markdown",
   "metadata": {},
   "source": [
    "# Анализ бизнес-показателей приложения Procrastinate Pro+"
   ]
  },
  {
   "cell_type": "markdown",
   "metadata": {},
   "source": [
    "**Описание проекта**\n",
    "\n",
    "Вы — маркетинговый аналитик развлекательного приложения Procrastinate Pro+. Несмотря на огромные вложения в рекламу, последние несколько месяцев компания терпит убытки. Ваша задача — разобраться в причинах и помочь компании выйти в плюс.\n",
    "Есть данные о пользователях, привлечённых с 1 мая по 27 октября 2019 года:\n",
    "лог сервера с данными об их посещениях,\n",
    "выгрузка их покупок за этот период,\n",
    "рекламные расходы.\n",
    "\n",
    "**Описание данных**\n",
    "\n",
    "В распоряжении три датасета: \n",
    "- `visits_info_short.csv` хранит лог сервера с информацией о посещениях сайта, \n",
    "- `orders_info_short.csv` — информацию о заказах, \n",
    "- `costs_info_short.csv` — информацию о расходах на рекламу.\n",
    "\n",
    "1. Структура visits_info_short.csv:\n",
    "- `User Id` — уникальный идентификатор пользователя,\n",
    "- `Region` — страна пользователя,\n",
    "- `Device` — тип устройства пользователя,\n",
    "- `Channel` — идентификатор источника перехода,\n",
    "- `Session Start` — дата и время начала сессии,\n",
    "- `Session End` — дата и время окончания сессии.\n",
    "\n",
    "2. Структура orders_info_short.csv:\n",
    "- `User Id` — уникальный идентификатор пользователя,\n",
    "- `Event Dt` — дата и время покупки,\n",
    "- `Revenue` — сумма заказа.\n",
    "\n",
    "3. Структура costs_info_short.csv:\n",
    "- `dt` — дата проведения рекламной кампании,\n",
    "- `Channel` — идентификатор рекламного источника,\n",
    "- `costs` — расходы на эту кампанию.\n",
    "\n",
    "**Цели исследования:**\n",
    "\n",
    "- Выяснить откуда приходят пользователи и какими устройствами они пользуются,\n",
    "- Определить сколько стоит привлечение пользователей из различных рекламных каналов;\n",
    "- Определить сколько денег приносит каждый клиент,\n",
    "- Выяснить когда расходы на привлечение клиента окупаются,\n",
    "- Определить какие факторы мешают привлечению клиентов.\n",
    "\n",
    "**Ход работы:**\n",
    "\n",
    "1. Обзор данных.\n",
    "2. Предобработка данных.\n",
    "3. Задать функции для расчёта и анализа LTV, ROI, удержания и конверсии.\n",
    "4. Построение таблиц, отражающую количество пользователей и долю платящих из каждой страны, для каждого устройства и для каждого канала привлечения.\n",
    "5. Проведение анализа расходов на маркетинг.\n",
    "6. Проведение анализа окупаемости рекламы.\n",
    "7. Написание общего вывода.\n"
   ]
  },
  {
   "cell_type": "markdown",
   "metadata": {
    "id": "r-BO88CnWVwe"
   },
   "source": [
    "### Загрузите данные и подготовьте их к анализу"
   ]
  },
  {
   "cell_type": "markdown",
   "metadata": {
    "id": "LCZi0P80WVwj"
   },
   "source": [
    "Загрузите данные о визитах, заказах и рекламных расходах из CSV-файлов в переменные.\n",
    "\n",
    "**Пути к файлам**\n",
    "\n",
    "- визиты: `/datasets/visits_info_short.csv`. [Скачать датасет](https://code.s3.yandex.net/datasets/visits_info_short.csv);\n",
    "- заказы: `/datasets/orders_info_short.csv`. [Скачать датасет](https://code.s3.yandex.net/datasets/orders_info_short.csv);\n",
    "- расходы: `/datasets/costs_info_short.csv`. [Скачать датасет](https://code.s3.yandex.net/datasets/costs_info_short.csv).\n",
    "\n",
    "Изучите данные и выполните предобработку. Есть ли в данных пропуски и дубликаты? Убедитесь, что типы данных во всех колонках соответствуют сохранённым в них значениям. Обратите внимание на столбцы с датой и временем."
   ]
  },
  {
   "cell_type": "code",
   "execution_count": 1,
   "metadata": {
    "id": "_vsKinGUWVwk"
   },
   "outputs": [],
   "source": [
    "import pandas as pd\n",
    "import numpy as np\n",
    "import seaborn as sns\n",
    "from datetime import datetime, timedelta\n",
    "from matplotlib import pyplot as plt"
   ]
  },
  {
   "cell_type": "code",
   "execution_count": 2,
   "metadata": {},
   "outputs": [],
   "source": [
    "# настройка отображения вещественных чисел в датасфрейме\n",
    "pd.options.display.float_format = '{:.2f}'.format"
   ]
  },
  {
   "cell_type": "code",
   "execution_count": 3,
   "metadata": {},
   "outputs": [],
   "source": [
    "try:\n",
    "    visits, orders, costs = (\n",
    "        pd.read_csv('datasets/visits_info_short.csv'), \n",
    "        pd.read_csv('datasets/orders_info_short.csv'), \n",
    "        pd.read_csv('datasets/costs_info_short.csv'), \n",
    "    )\n",
    "except:\n",
    "    visits, orders, costs = (\n",
    "        pd.read_csv('https://code.s3.yandex.net/datasets/visits_info_short.csv'), \n",
    "        pd.read_csv('https://code.s3.yandex.net/datasets/orders_info_short.csv'), \n",
    "        pd.read_csv('https://code.s3.yandex.net/datasets/costs_info_short.csv'), \n",
    "    )"
   ]
  },
  {
   "cell_type": "markdown",
   "metadata": {},
   "source": [
    "#### Знакомство с датасетами"
   ]
  },
  {
   "cell_type": "code",
   "execution_count": 4,
   "metadata": {},
   "outputs": [
    {
     "data": {
      "text/html": [
       "<div>\n",
       "<style scoped>\n",
       "    .dataframe tbody tr th:only-of-type {\n",
       "        vertical-align: middle;\n",
       "    }\n",
       "\n",
       "    .dataframe tbody tr th {\n",
       "        vertical-align: top;\n",
       "    }\n",
       "\n",
       "    .dataframe thead th {\n",
       "        text-align: right;\n",
       "    }\n",
       "</style>\n",
       "<table border=\"1\" class=\"dataframe\">\n",
       "  <thead>\n",
       "    <tr style=\"text-align: right;\">\n",
       "      <th></th>\n",
       "      <th>User Id</th>\n",
       "      <th>Region</th>\n",
       "      <th>Device</th>\n",
       "      <th>Channel</th>\n",
       "      <th>Session Start</th>\n",
       "      <th>Session End</th>\n",
       "    </tr>\n",
       "  </thead>\n",
       "  <tbody>\n",
       "    <tr>\n",
       "      <th>0</th>\n",
       "      <td>981449118918</td>\n",
       "      <td>United States</td>\n",
       "      <td>iPhone</td>\n",
       "      <td>organic</td>\n",
       "      <td>2019-05-01 02:36:01</td>\n",
       "      <td>2019-05-01 02:45:01</td>\n",
       "    </tr>\n",
       "    <tr>\n",
       "      <th>1</th>\n",
       "      <td>278965908054</td>\n",
       "      <td>United States</td>\n",
       "      <td>iPhone</td>\n",
       "      <td>organic</td>\n",
       "      <td>2019-05-01 04:46:31</td>\n",
       "      <td>2019-05-01 04:47:35</td>\n",
       "    </tr>\n",
       "    <tr>\n",
       "      <th>2</th>\n",
       "      <td>590706206550</td>\n",
       "      <td>United States</td>\n",
       "      <td>Mac</td>\n",
       "      <td>organic</td>\n",
       "      <td>2019-05-01 14:09:25</td>\n",
       "      <td>2019-05-01 15:32:08</td>\n",
       "    </tr>\n",
       "    <tr>\n",
       "      <th>3</th>\n",
       "      <td>326433527971</td>\n",
       "      <td>United States</td>\n",
       "      <td>Android</td>\n",
       "      <td>TipTop</td>\n",
       "      <td>2019-05-01 00:29:59</td>\n",
       "      <td>2019-05-01 00:54:25</td>\n",
       "    </tr>\n",
       "    <tr>\n",
       "      <th>4</th>\n",
       "      <td>349773784594</td>\n",
       "      <td>United States</td>\n",
       "      <td>Mac</td>\n",
       "      <td>organic</td>\n",
       "      <td>2019-05-01 03:33:35</td>\n",
       "      <td>2019-05-01 03:57:40</td>\n",
       "    </tr>\n",
       "  </tbody>\n",
       "</table>\n",
       "</div>"
      ],
      "text/plain": [
       "        User Id         Region   Device  Channel        Session Start  \\\n",
       "0  981449118918  United States   iPhone  organic  2019-05-01 02:36:01   \n",
       "1  278965908054  United States   iPhone  organic  2019-05-01 04:46:31   \n",
       "2  590706206550  United States      Mac  organic  2019-05-01 14:09:25   \n",
       "3  326433527971  United States  Android   TipTop  2019-05-01 00:29:59   \n",
       "4  349773784594  United States      Mac  organic  2019-05-01 03:33:35   \n",
       "\n",
       "           Session End  \n",
       "0  2019-05-01 02:45:01  \n",
       "1  2019-05-01 04:47:35  \n",
       "2  2019-05-01 15:32:08  \n",
       "3  2019-05-01 00:54:25  \n",
       "4  2019-05-01 03:57:40  "
      ]
     },
     "execution_count": 4,
     "metadata": {},
     "output_type": "execute_result"
    }
   ],
   "source": [
    "visits.head()"
   ]
  },
  {
   "cell_type": "code",
   "execution_count": 5,
   "metadata": {},
   "outputs": [
    {
     "name": "stdout",
     "output_type": "stream",
     "text": [
      "<class 'pandas.core.frame.DataFrame'>\n",
      "RangeIndex: 309901 entries, 0 to 309900\n",
      "Data columns (total 6 columns):\n",
      " #   Column         Non-Null Count   Dtype \n",
      "---  ------         --------------   ----- \n",
      " 0   User Id        309901 non-null  int64 \n",
      " 1   Region         309901 non-null  object\n",
      " 2   Device         309901 non-null  object\n",
      " 3   Channel        309901 non-null  object\n",
      " 4   Session Start  309901 non-null  object\n",
      " 5   Session End    309901 non-null  object\n",
      "dtypes: int64(1), object(5)\n",
      "memory usage: 14.2+ MB\n"
     ]
    }
   ],
   "source": [
    "visits.info()"
   ]
  },
  {
   "cell_type": "code",
   "execution_count": 6,
   "metadata": {},
   "outputs": [
    {
     "data": {
      "text/html": [
       "<div>\n",
       "<style scoped>\n",
       "    .dataframe tbody tr th:only-of-type {\n",
       "        vertical-align: middle;\n",
       "    }\n",
       "\n",
       "    .dataframe tbody tr th {\n",
       "        vertical-align: top;\n",
       "    }\n",
       "\n",
       "    .dataframe thead th {\n",
       "        text-align: right;\n",
       "    }\n",
       "</style>\n",
       "<table border=\"1\" class=\"dataframe\">\n",
       "  <thead>\n",
       "    <tr style=\"text-align: right;\">\n",
       "      <th></th>\n",
       "      <th>User Id</th>\n",
       "      <th>Event Dt</th>\n",
       "      <th>Revenue</th>\n",
       "    </tr>\n",
       "  </thead>\n",
       "  <tbody>\n",
       "    <tr>\n",
       "      <th>0</th>\n",
       "      <td>188246423999</td>\n",
       "      <td>2019-05-01 23:09:52</td>\n",
       "      <td>4.99</td>\n",
       "    </tr>\n",
       "    <tr>\n",
       "      <th>1</th>\n",
       "      <td>174361394180</td>\n",
       "      <td>2019-05-01 12:24:04</td>\n",
       "      <td>4.99</td>\n",
       "    </tr>\n",
       "    <tr>\n",
       "      <th>2</th>\n",
       "      <td>529610067795</td>\n",
       "      <td>2019-05-01 11:34:04</td>\n",
       "      <td>4.99</td>\n",
       "    </tr>\n",
       "    <tr>\n",
       "      <th>3</th>\n",
       "      <td>319939546352</td>\n",
       "      <td>2019-05-01 15:34:40</td>\n",
       "      <td>4.99</td>\n",
       "    </tr>\n",
       "    <tr>\n",
       "      <th>4</th>\n",
       "      <td>366000285810</td>\n",
       "      <td>2019-05-01 13:59:51</td>\n",
       "      <td>4.99</td>\n",
       "    </tr>\n",
       "  </tbody>\n",
       "</table>\n",
       "</div>"
      ],
      "text/plain": [
       "        User Id             Event Dt  Revenue\n",
       "0  188246423999  2019-05-01 23:09:52     4.99\n",
       "1  174361394180  2019-05-01 12:24:04     4.99\n",
       "2  529610067795  2019-05-01 11:34:04     4.99\n",
       "3  319939546352  2019-05-01 15:34:40     4.99\n",
       "4  366000285810  2019-05-01 13:59:51     4.99"
      ]
     },
     "execution_count": 6,
     "metadata": {},
     "output_type": "execute_result"
    }
   ],
   "source": [
    "orders.head()"
   ]
  },
  {
   "cell_type": "code",
   "execution_count": 7,
   "metadata": {},
   "outputs": [
    {
     "name": "stdout",
     "output_type": "stream",
     "text": [
      "<class 'pandas.core.frame.DataFrame'>\n",
      "RangeIndex: 40212 entries, 0 to 40211\n",
      "Data columns (total 3 columns):\n",
      " #   Column    Non-Null Count  Dtype  \n",
      "---  ------    --------------  -----  \n",
      " 0   User Id   40212 non-null  int64  \n",
      " 1   Event Dt  40212 non-null  object \n",
      " 2   Revenue   40212 non-null  float64\n",
      "dtypes: float64(1), int64(1), object(1)\n",
      "memory usage: 942.6+ KB\n"
     ]
    }
   ],
   "source": [
    "orders.info()"
   ]
  },
  {
   "cell_type": "code",
   "execution_count": 8,
   "metadata": {},
   "outputs": [
    {
     "data": {
      "text/html": [
       "<div>\n",
       "<style scoped>\n",
       "    .dataframe tbody tr th:only-of-type {\n",
       "        vertical-align: middle;\n",
       "    }\n",
       "\n",
       "    .dataframe tbody tr th {\n",
       "        vertical-align: top;\n",
       "    }\n",
       "\n",
       "    .dataframe thead th {\n",
       "        text-align: right;\n",
       "    }\n",
       "</style>\n",
       "<table border=\"1\" class=\"dataframe\">\n",
       "  <thead>\n",
       "    <tr style=\"text-align: right;\">\n",
       "      <th></th>\n",
       "      <th>dt</th>\n",
       "      <th>Channel</th>\n",
       "      <th>costs</th>\n",
       "    </tr>\n",
       "  </thead>\n",
       "  <tbody>\n",
       "    <tr>\n",
       "      <th>0</th>\n",
       "      <td>2019-05-01</td>\n",
       "      <td>FaceBoom</td>\n",
       "      <td>113.30</td>\n",
       "    </tr>\n",
       "    <tr>\n",
       "      <th>1</th>\n",
       "      <td>2019-05-02</td>\n",
       "      <td>FaceBoom</td>\n",
       "      <td>78.10</td>\n",
       "    </tr>\n",
       "    <tr>\n",
       "      <th>2</th>\n",
       "      <td>2019-05-03</td>\n",
       "      <td>FaceBoom</td>\n",
       "      <td>85.80</td>\n",
       "    </tr>\n",
       "    <tr>\n",
       "      <th>3</th>\n",
       "      <td>2019-05-04</td>\n",
       "      <td>FaceBoom</td>\n",
       "      <td>136.40</td>\n",
       "    </tr>\n",
       "    <tr>\n",
       "      <th>4</th>\n",
       "      <td>2019-05-05</td>\n",
       "      <td>FaceBoom</td>\n",
       "      <td>122.10</td>\n",
       "    </tr>\n",
       "  </tbody>\n",
       "</table>\n",
       "</div>"
      ],
      "text/plain": [
       "           dt   Channel  costs\n",
       "0  2019-05-01  FaceBoom 113.30\n",
       "1  2019-05-02  FaceBoom  78.10\n",
       "2  2019-05-03  FaceBoom  85.80\n",
       "3  2019-05-04  FaceBoom 136.40\n",
       "4  2019-05-05  FaceBoom 122.10"
      ]
     },
     "execution_count": 8,
     "metadata": {},
     "output_type": "execute_result"
    }
   ],
   "source": [
    "costs.head()"
   ]
  },
  {
   "cell_type": "code",
   "execution_count": 9,
   "metadata": {},
   "outputs": [
    {
     "name": "stdout",
     "output_type": "stream",
     "text": [
      "<class 'pandas.core.frame.DataFrame'>\n",
      "RangeIndex: 1800 entries, 0 to 1799\n",
      "Data columns (total 3 columns):\n",
      " #   Column   Non-Null Count  Dtype  \n",
      "---  ------   --------------  -----  \n",
      " 0   dt       1800 non-null   object \n",
      " 1   Channel  1800 non-null   object \n",
      " 2   costs    1800 non-null   float64\n",
      "dtypes: float64(1), object(2)\n",
      "memory usage: 42.3+ KB\n"
     ]
    }
   ],
   "source": [
    "costs.info()"
   ]
  },
  {
   "cell_type": "markdown",
   "metadata": {},
   "source": [
    "Во всех датасетах отсутствуют пропуски, данные полные.\n",
    "Названия колонок не соответствуют \"питоновскому\" стандарту. Нужно перевести все названия в нижний регистр и заменить пробелы между словами на нижнее подчеркивание. \n",
    "Также необходимо столбцы с датой и временем привести к типу дата для дальнейшей работы."
   ]
  },
  {
   "cell_type": "markdown",
   "metadata": {},
   "source": [
    "#### Преобразование датасетов"
   ]
  },
  {
   "cell_type": "code",
   "execution_count": 10,
   "metadata": {},
   "outputs": [],
   "source": [
    "# функция для переименования колонок\n",
    "def renaming_columns(columns):\n",
    "    columns = columns.str.lower().str.strip().str.replace(' ', '_')\n",
    "    return columns"
   ]
  },
  {
   "cell_type": "code",
   "execution_count": 11,
   "metadata": {},
   "outputs": [],
   "source": [
    "# преобразование названий колонок в \"питоновский вид\"\n",
    "visits.columns = renaming_columns(visits.columns)\n",
    "orders.columns = renaming_columns(orders.columns)\n",
    "costs.columns = renaming_columns(costs.columns)"
   ]
  },
  {
   "cell_type": "code",
   "execution_count": 12,
   "metadata": {},
   "outputs": [],
   "source": [
    "# преобразование данных о времени\n",
    "visits['session_start'] = pd.to_datetime(visits['session_start'])\n",
    "visits['session_end'] = pd.to_datetime(visits['session_end'])\n",
    "orders['event_dt'] = pd.to_datetime(orders['event_dt'])\n",
    "costs['dt'] = pd.to_datetime(costs['dt']).dt.date  "
   ]
  },
  {
   "cell_type": "code",
   "execution_count": 13,
   "metadata": {},
   "outputs": [
    {
     "data": {
      "text/plain": [
       "Index(['user_id', 'region', 'device', 'channel', 'session_start',\n",
       "       'session_end'],\n",
       "      dtype='object')"
      ]
     },
     "execution_count": 13,
     "metadata": {},
     "output_type": "execute_result"
    }
   ],
   "source": [
    "# вывод названий колонок\n",
    "visits.columns"
   ]
  },
  {
   "cell_type": "code",
   "execution_count": 14,
   "metadata": {
    "scrolled": true
   },
   "outputs": [
    {
     "name": "stdout",
     "output_type": "stream",
     "text": [
      "region\n",
      "['United States' 'UK' 'France' 'Germany']\n",
      "----------------------------------------------------------------------\n",
      "device\n",
      "['iPhone' 'Mac' 'Android' 'PC']\n",
      "----------------------------------------------------------------------\n",
      "channel\n",
      "['organic' 'TipTop' 'RocketSuperAds' 'YRabbit' 'FaceBoom' 'MediaTornado'\n",
      " 'AdNonSense' 'LeapBob' 'WahooNetBanner' 'OppleCreativeMedia'\n",
      " 'lambdaMediaAds']\n",
      "----------------------------------------------------------------------\n"
     ]
    }
   ],
   "source": [
    "# знакомство с уникальными значениями некоторых столбцов\n",
    "for col in ['region', 'device', 'channel']:\n",
    "    print(col)\n",
    "    print(visits[col].unique())\n",
    "    print('-'*70)"
   ]
  },
  {
   "cell_type": "code",
   "execution_count": 15,
   "metadata": {},
   "outputs": [
    {
     "name": "stdout",
     "output_type": "stream",
     "text": [
      "visits\n",
      "Количество дубликатов: 0\n",
      "Количество пропусков:\n",
      "user_id          0\n",
      "region           0\n",
      "device           0\n",
      "channel          0\n",
      "session_start    0\n",
      "session_end      0\n",
      "dtype: int64\n",
      "------------------------------\n",
      "orders\n",
      "Количество дубликатов: 0\n",
      "Количество пропусков:\n",
      "user_id     0\n",
      "event_dt    0\n",
      "revenue     0\n",
      "dtype: int64\n",
      "------------------------------\n",
      "costs\n",
      "Количество дубликатов: 0\n",
      "Количество пропусков:\n",
      "dt         0\n",
      "channel    0\n",
      "costs      0\n",
      "dtype: int64\n",
      "------------------------------\n"
     ]
    }
   ],
   "source": [
    "# проверка на дубликаты и пропуски\n",
    "dataframes = {\n",
    "    'visits': visits,\n",
    "    'orders': orders,\n",
    "    'costs': costs,\n",
    "}\n",
    "\n",
    "for name, df in dataframes.items():\n",
    "    print(name)\n",
    "    print('Количество дубликатов:', df.duplicated().sum())\n",
    "    print('Количество пропусков:')\n",
    "    print(df.isnull().sum ())\n",
    "    print('-'*30)"
   ]
  },
  {
   "cell_type": "code",
   "execution_count": 16,
   "metadata": {},
   "outputs": [
    {
     "data": {
      "text/html": [
       "<div>\n",
       "<style scoped>\n",
       "    .dataframe tbody tr th:only-of-type {\n",
       "        vertical-align: middle;\n",
       "    }\n",
       "\n",
       "    .dataframe tbody tr th {\n",
       "        vertical-align: top;\n",
       "    }\n",
       "\n",
       "    .dataframe thead th {\n",
       "        text-align: right;\n",
       "    }\n",
       "</style>\n",
       "<table border=\"1\" class=\"dataframe\">\n",
       "  <thead>\n",
       "    <tr style=\"text-align: right;\">\n",
       "      <th></th>\n",
       "      <th>user_id</th>\n",
       "      <th>region</th>\n",
       "      <th>device</th>\n",
       "      <th>channel</th>\n",
       "      <th>session_start</th>\n",
       "      <th>session_end</th>\n",
       "    </tr>\n",
       "  </thead>\n",
       "  <tbody>\n",
       "  </tbody>\n",
       "</table>\n",
       "</div>"
      ],
      "text/plain": [
       "Empty DataFrame\n",
       "Columns: [user_id, region, device, channel, session_start, session_end]\n",
       "Index: []"
      ]
     },
     "execution_count": 16,
     "metadata": {},
     "output_type": "execute_result"
    }
   ],
   "source": [
    "# проверка случаев, когда окончание сессии было раньше чем её начало\n",
    "visits.loc[visits['session_start'] > visits['session_end']]"
   ]
  },
  {
   "cell_type": "code",
   "execution_count": 17,
   "metadata": {},
   "outputs": [
    {
     "data": {
      "text/html": [
       "<div>\n",
       "<style scoped>\n",
       "    .dataframe tbody tr th:only-of-type {\n",
       "        vertical-align: middle;\n",
       "    }\n",
       "\n",
       "    .dataframe tbody tr th {\n",
       "        vertical-align: top;\n",
       "    }\n",
       "\n",
       "    .dataframe thead th {\n",
       "        text-align: right;\n",
       "    }\n",
       "</style>\n",
       "<table border=\"1\" class=\"dataframe\">\n",
       "  <thead>\n",
       "    <tr style=\"text-align: right;\">\n",
       "      <th></th>\n",
       "      <th>user_id</th>\n",
       "      <th>event_dt</th>\n",
       "      <th>revenue</th>\n",
       "    </tr>\n",
       "  </thead>\n",
       "  <tbody>\n",
       "  </tbody>\n",
       "</table>\n",
       "</div>"
      ],
      "text/plain": [
       "Empty DataFrame\n",
       "Columns: [user_id, event_dt, revenue]\n",
       "Index: []"
      ]
     },
     "execution_count": 17,
     "metadata": {},
     "output_type": "execute_result"
    }
   ],
   "source": [
    "# проверка суммы заказа на отрцательные числа, либо равных 0\n",
    "orders.loc[orders['revenue'] <= 0]"
   ]
  },
  {
   "cell_type": "code",
   "execution_count": 18,
   "metadata": {},
   "outputs": [
    {
     "data": {
      "text/html": [
       "<div>\n",
       "<style scoped>\n",
       "    .dataframe tbody tr th:only-of-type {\n",
       "        vertical-align: middle;\n",
       "    }\n",
       "\n",
       "    .dataframe tbody tr th {\n",
       "        vertical-align: top;\n",
       "    }\n",
       "\n",
       "    .dataframe thead th {\n",
       "        text-align: right;\n",
       "    }\n",
       "</style>\n",
       "<table border=\"1\" class=\"dataframe\">\n",
       "  <thead>\n",
       "    <tr style=\"text-align: right;\">\n",
       "      <th></th>\n",
       "      <th>dt</th>\n",
       "      <th>channel</th>\n",
       "      <th>costs</th>\n",
       "    </tr>\n",
       "  </thead>\n",
       "  <tbody>\n",
       "  </tbody>\n",
       "</table>\n",
       "</div>"
      ],
      "text/plain": [
       "Empty DataFrame\n",
       "Columns: [dt, channel, costs]\n",
       "Index: []"
      ]
     },
     "execution_count": 18,
     "metadata": {},
     "output_type": "execute_result"
    }
   ],
   "source": [
    "# проверка расходов на маркетинг на отрцательные числа, либо равных 0\n",
    "costs.loc[costs['costs'] <= 0]"
   ]
  },
  {
   "cell_type": "markdown",
   "metadata": {},
   "source": [
    "Качество исходных данных хорошее. Нет дубликатов и пропусков. Сумма заказа и расходы на маркетинг больше нуля, что соответствует нашему требованию. Т.к. эти данные должны имееть цену.\n",
    "Также все в порядке с началом и окончанием сессии: нет сессий, где окончание сессии было раньше чем её начало.\n",
    "\n",
    "- Исправлены названия столбцов. \n",
    "- Колонки со времением преобразованы в тип данных datetime. \n",
    "- В уникальных значениях столбцов не обнаружены неявные дубликаты."
   ]
  },
  {
   "cell_type": "markdown",
   "metadata": {
    "heading_collapsed": true,
    "id": "AS1eCqCpWVwk"
   },
   "source": [
    "### Задайте функции для расчёта и анализа LTV, ROI, удержания и конверсии.\n",
    "\n",
    "Разрешается использовать функции, с которыми вы познакомились в теоретических уроках.\n",
    "\n",
    "Это функции для вычисления значений метрик:\n",
    "\n",
    "- `get_profiles()` — для создания профилей пользователей,\n",
    "- `get_retention()` — для подсчёта Retention Rate,\n",
    "- `get_conversion()` — для подсчёта конверсии,\n",
    "- `get_ltv()` — для подсчёта LTV.\n",
    "\n",
    "А также функции для построения графиков:\n",
    "\n",
    "- `filter_data()` — для сглаживания данных,\n",
    "- `plot_retention()` — для построения графика Retention Rate,\n",
    "- `plot_conversion()` — для построения графика конверсии,\n",
    "- `plot_ltv_roi` — для визуализации LTV и ROI."
   ]
  },
  {
   "cell_type": "markdown",
   "metadata": {
    "heading_collapsed": true,
    "hidden": true
   },
   "source": [
    "#### Функция для создания пользовательских профилей"
   ]
  },
  {
   "cell_type": "code",
   "execution_count": 19,
   "metadata": {
    "hidden": true,
    "id": "igOfMgBpWVwl"
   },
   "outputs": [],
   "source": [
    "def get_profiles(sessions, orders, ad_costs):\n",
    "\n",
    "    # находим параметры первых посещений\n",
    "    profiles = (\n",
    "        sessions.sort_values(by=['user_id', 'session_start'])\n",
    "        .groupby('user_id')\n",
    "        .agg(\n",
    "            {\n",
    "                'session_start': 'first',\n",
    "                'channel': 'first',\n",
    "                'device': 'first',\n",
    "                'region': 'first',\n",
    "            }\n",
    "        )\n",
    "        .rename(columns={'session_start': 'first_ts'})\n",
    "        .reset_index()\n",
    "    )\n",
    "\n",
    "    # для когортного анализа определяем дату первого посещения\n",
    "    # и первый день месяца, в который это посещение произошло\n",
    "    profiles['dt'] = profiles['first_ts'].dt.date\n",
    "    profiles['month'] = profiles['first_ts'].astype('datetime64[M]')\n",
    "\n",
    "    # добавляем признак платящих пользователей\n",
    "    profiles['payer'] = profiles['user_id'].isin(orders['user_id'].unique())\n",
    "\n",
    "    # считаем количество уникальных пользователей\n",
    "    # с одинаковыми источником и датой привлечения\n",
    "    new_users = (\n",
    "        profiles.groupby(['dt', 'channel'])\n",
    "        .agg({'user_id': 'nunique'})\n",
    "        .rename(columns={'user_id': 'unique_users'})\n",
    "        .reset_index()\n",
    "    )\n",
    "\n",
    "    # объединяем траты на рекламу и число привлечённых пользователей\n",
    "    ad_costs = ad_costs.merge(new_users, on=['dt', 'channel'], how='left')\n",
    "\n",
    "    # делим рекламные расходы на число привлечённых пользователей\n",
    "    ad_costs['acquisition_cost'] = ad_costs['costs'] / ad_costs['unique_users']\n",
    "\n",
    "    # добавляем стоимость привлечения в профили\n",
    "    profiles = profiles.merge(\n",
    "        ad_costs[['dt', 'channel', 'acquisition_cost']],\n",
    "        on=['dt', 'channel'],\n",
    "        how='left',\n",
    "    )\n",
    "\n",
    "    # стоимость привлечения органических пользователей равна нулю\n",
    "    profiles['acquisition_cost'] = profiles['acquisition_cost'].fillna(0)\n",
    "\n",
    "    return profiles\n"
   ]
  },
  {
   "cell_type": "markdown",
   "metadata": {
    "heading_collapsed": true,
    "hidden": true
   },
   "source": [
    "#### Функция для расчёта удержания"
   ]
  },
  {
   "cell_type": "code",
   "execution_count": 20,
   "metadata": {
    "hidden": true
   },
   "outputs": [],
   "source": [
    "def get_retention(\n",
    "    profiles,\n",
    "    sessions,\n",
    "    observation_date,\n",
    "    horizon_days,\n",
    "    dimensions=[],\n",
    "    ignore_horizon=False,\n",
    "):\n",
    "\n",
    "    # добавляем столбец payer в передаваемый dimensions список\n",
    "    dimensions = ['payer'] + dimensions\n",
    "\n",
    "    # исключаем пользователей, не «доживших» до горизонта анализа\n",
    "    last_suitable_acquisition_date = observation_date\n",
    "    if not ignore_horizon:\n",
    "        last_suitable_acquisition_date = observation_date - timedelta(\n",
    "            days=horizon_days - 1\n",
    "        )\n",
    "    result_raw = profiles.query('dt <= @last_suitable_acquisition_date')\n",
    "\n",
    "    # собираем «сырые» данные для расчёта удержания\n",
    "    result_raw = result_raw.merge(\n",
    "        sessions[['user_id', 'session_start']], on='user_id', how='left'\n",
    "    )\n",
    "    result_raw['lifetime'] = (\n",
    "        result_raw['session_start'] - result_raw['first_ts']\n",
    "    ).dt.days\n",
    "\n",
    "    # функция для группировки таблицы по желаемым признакам\n",
    "    def group_by_dimensions(df, dims, horizon_days):\n",
    "        result = df.pivot_table(\n",
    "            index=dims, columns='lifetime', values='user_id', aggfunc='nunique'\n",
    "        )\n",
    "        cohort_sizes = (\n",
    "            df.groupby(dims)\n",
    "            .agg({'user_id': 'nunique'})\n",
    "            .rename(columns={'user_id': 'cohort_size'})\n",
    "        )\n",
    "        result = cohort_sizes.merge(result, on=dims, how='left').fillna(0)\n",
    "        result = result.div(result['cohort_size'], axis=0)\n",
    "        result = result[['cohort_size'] + list(range(horizon_days))]\n",
    "        result['cohort_size'] = cohort_sizes\n",
    "        return result\n",
    "\n",
    "    # получаем таблицу удержания\n",
    "    result_grouped = group_by_dimensions(result_raw, dimensions, horizon_days)\n",
    "\n",
    "    # получаем таблицу динамики удержания\n",
    "    result_in_time = group_by_dimensions(\n",
    "        result_raw, dimensions + ['dt'], horizon_days\n",
    "    )\n",
    "\n",
    "    # возвращаем обе таблицы и сырые данные\n",
    "    return result_raw, result_grouped, result_in_time "
   ]
  },
  {
   "cell_type": "markdown",
   "metadata": {
    "heading_collapsed": true,
    "hidden": true
   },
   "source": [
    "#### Функция для расчёта конверсии"
   ]
  },
  {
   "cell_type": "code",
   "execution_count": 21,
   "metadata": {
    "hidden": true
   },
   "outputs": [],
   "source": [
    "def get_conversion(\n",
    "    profiles,\n",
    "    purchases,\n",
    "    observation_date,\n",
    "    horizon_days,\n",
    "    dimensions=[],\n",
    "    ignore_horizon=False,\n",
    "):\n",
    "\n",
    "    # исключаем пользователей, не «доживших» до горизонта анализа\n",
    "    last_suitable_acquisition_date = observation_date\n",
    "    if not ignore_horizon:\n",
    "        last_suitable_acquisition_date = observation_date - timedelta(\n",
    "            days=horizon_days - 1\n",
    "        )\n",
    "    result_raw = profiles.query('dt <= @last_suitable_acquisition_date')\n",
    "\n",
    "    # определяем дату и время первой покупки для каждого пользователя\n",
    "    first_purchases = (\n",
    "        purchases.sort_values(by=['user_id', 'event_dt'])\n",
    "        .groupby('user_id')\n",
    "        .agg({'event_dt': 'first'})\n",
    "        .reset_index()\n",
    "    )\n",
    "\n",
    "    # добавляем данные о покупках в профили\n",
    "    result_raw = result_raw.merge(\n",
    "        first_purchases[['user_id', 'event_dt']], on='user_id', how='left'\n",
    "    )\n",
    "\n",
    "    # рассчитываем лайфтайм для каждой покупки\n",
    "    result_raw['lifetime'] = (\n",
    "        result_raw['event_dt'] - result_raw['first_ts']\n",
    "    ).dt.days\n",
    "\n",
    "    # группируем по cohort, если в dimensions ничего нет\n",
    "    if len(dimensions) == 0:\n",
    "        result_raw['cohort'] = 'All users' \n",
    "        dimensions = dimensions + ['cohort']\n",
    "\n",
    "    # функция для группировки таблицы по желаемым признакам\n",
    "    def group_by_dimensions(df, dims, horizon_days):\n",
    "        result = df.pivot_table(\n",
    "            index=dims, columns='lifetime', values='user_id', aggfunc='nunique'\n",
    "        )\n",
    "        result = result.fillna(0).cumsum(axis = 1)\n",
    "        cohort_sizes = (\n",
    "            df.groupby(dims)\n",
    "            .agg({'user_id': 'nunique'})\n",
    "            .rename(columns={'user_id': 'cohort_size'})\n",
    "        )\n",
    "        result = cohort_sizes.merge(result, on=dims, how='left').fillna(0)\n",
    "        # делим каждую «ячейку» в строке на размер когорты\n",
    "        # и получаем conversion rate\n",
    "        result = result.div(result['cohort_size'], axis=0)\n",
    "        result = result[['cohort_size'] + list(range(horizon_days))]\n",
    "        result['cohort_size'] = cohort_sizes\n",
    "        return result\n",
    "\n",
    "    # получаем таблицу конверсии\n",
    "    result_grouped = group_by_dimensions(result_raw, dimensions, horizon_days)\n",
    "\n",
    "    # для таблицы динамики конверсии убираем 'cohort' из dimensions\n",
    "    if 'cohort' in dimensions: \n",
    "        dimensions = []\n",
    "\n",
    "    # получаем таблицу динамики конверсии\n",
    "    result_in_time = group_by_dimensions(\n",
    "        result_raw, dimensions + ['dt'], horizon_days\n",
    "    )\n",
    "\n",
    "    # возвращаем обе таблицы и сырые данные\n",
    "    return result_raw, result_grouped, result_in_time "
   ]
  },
  {
   "cell_type": "markdown",
   "metadata": {
    "heading_collapsed": true,
    "hidden": true
   },
   "source": [
    "#### Функция для расчёта LTV и ROI"
   ]
  },
  {
   "cell_type": "code",
   "execution_count": 22,
   "metadata": {
    "hidden": true
   },
   "outputs": [],
   "source": [
    "def get_ltv(\n",
    "    profiles,\n",
    "    purchases,\n",
    "    observation_date,\n",
    "    horizon_days,\n",
    "    dimensions=[],\n",
    "    ignore_horizon=False,\n",
    "):\n",
    "\n",
    "    # исключаем пользователей, не «доживших» до горизонта анализа\n",
    "    last_suitable_acquisition_date = observation_date\n",
    "    if not ignore_horizon:\n",
    "        last_suitable_acquisition_date = observation_date - timedelta(\n",
    "            days=horizon_days - 1\n",
    "        )\n",
    "    result_raw = profiles.query('dt <= @last_suitable_acquisition_date')\n",
    "    # добавляем данные о покупках в профили\n",
    "    result_raw = result_raw.merge(\n",
    "        purchases[['user_id', 'event_dt', 'revenue']], on='user_id', how='left'\n",
    "    )\n",
    "    # рассчитываем лайфтайм пользователя для каждой покупки\n",
    "    result_raw['lifetime'] = (\n",
    "        result_raw['event_dt'] - result_raw['first_ts']\n",
    "    ).dt.days\n",
    "    # группируем по cohort, если в dimensions ничего нет\n",
    "    if len(dimensions) == 0:\n",
    "        result_raw['cohort'] = 'All users'\n",
    "        dimensions = dimensions + ['cohort']\n",
    "\n",
    "    # функция группировки по желаемым признакам\n",
    "    def group_by_dimensions(df, dims, horizon_days):\n",
    "        # строим «треугольную» таблицу выручки\n",
    "        result = df.pivot_table(\n",
    "            index=dims, columns='lifetime', values='revenue', aggfunc='sum'\n",
    "        )\n",
    "        # находим сумму выручки с накоплением\n",
    "        result = result.fillna(0).cumsum(axis=1)\n",
    "        # вычисляем размеры когорт\n",
    "        cohort_sizes = (\n",
    "            df.groupby(dims)\n",
    "            .agg({'user_id': 'nunique'})\n",
    "            .rename(columns={'user_id': 'cohort_size'})\n",
    "        )\n",
    "        # объединяем размеры когорт и таблицу выручки\n",
    "        result = cohort_sizes.merge(result, on=dims, how='left').fillna(0)\n",
    "        # считаем LTV: делим каждую «ячейку» в строке на размер когорты\n",
    "        result = result.div(result['cohort_size'], axis=0)\n",
    "        # исключаем все лайфтаймы, превышающие горизонт анализа\n",
    "        result = result[['cohort_size'] + list(range(horizon_days))]\n",
    "        # восстанавливаем размеры когорт\n",
    "        result['cohort_size'] = cohort_sizes\n",
    "\n",
    "        # собираем датафрейм с данными пользователей и значениями CAC, \n",
    "        # добавляя параметры из dimensions\n",
    "        cac = df[['user_id', 'acquisition_cost'] + dims].drop_duplicates()\n",
    "\n",
    "        # считаем средний CAC по параметрам из dimensions\n",
    "        cac = (\n",
    "            cac.groupby(dims)\n",
    "            .agg({'acquisition_cost': 'mean'})\n",
    "            .rename(columns={'acquisition_cost': 'cac'})\n",
    "        )\n",
    "\n",
    "        # считаем ROI: делим LTV на CAC\n",
    "        roi = result.div(cac['cac'], axis=0)\n",
    "\n",
    "        # удаляем строки с бесконечным ROI\n",
    "        roi = roi[~roi['cohort_size'].isin([np.inf])]\n",
    "\n",
    "        # восстанавливаем размеры когорт в таблице ROI\n",
    "        roi['cohort_size'] = cohort_sizes\n",
    "\n",
    "        # добавляем CAC в таблицу ROI\n",
    "        roi['cac'] = cac['cac']\n",
    "\n",
    "        # в финальной таблице оставляем размеры когорт, CAC\n",
    "        # и ROI в лайфтаймы, не превышающие горизонт анализа\n",
    "        roi = roi[['cohort_size', 'cac'] + list(range(horizon_days))]\n",
    "\n",
    "        # возвращаем таблицы LTV и ROI\n",
    "        return result, roi\n",
    "\n",
    "    # получаем таблицы LTV и ROI\n",
    "    result_grouped, roi_grouped = group_by_dimensions(\n",
    "        result_raw, dimensions, horizon_days\n",
    "    )\n",
    "\n",
    "    # для таблиц динамики убираем 'cohort' из dimensions\n",
    "    if 'cohort' in dimensions:\n",
    "        dimensions = []\n",
    "\n",
    "    # получаем таблицы динамики LTV и ROI\n",
    "    result_in_time, roi_in_time = group_by_dimensions(\n",
    "        result_raw, dimensions + ['dt'], horizon_days\n",
    "    )\n",
    "\n",
    "    return (\n",
    "        result_raw,  # сырые данные\n",
    "        result_grouped,  # таблица LTV\n",
    "        result_in_time,  # таблица динамики LTV\n",
    "        roi_grouped,  # таблица ROI\n",
    "        roi_in_time,  # таблица динамики ROI\n",
    "    ) "
   ]
  },
  {
   "cell_type": "markdown",
   "metadata": {
    "heading_collapsed": true,
    "hidden": true
   },
   "source": [
    "#### Функция для сглаживания фрейма"
   ]
  },
  {
   "cell_type": "code",
   "execution_count": 23,
   "metadata": {
    "hidden": true
   },
   "outputs": [],
   "source": [
    "def filter_data(df, window):\n",
    "    # для каждого столбца применяем скользящее среднее\n",
    "    for column in df.columns.values:\n",
    "        df[column] = df[column].rolling(window).mean() \n",
    "    return df "
   ]
  },
  {
   "cell_type": "markdown",
   "metadata": {
    "heading_collapsed": true,
    "hidden": true
   },
   "source": [
    "#### Функция для визуализации удержания"
   ]
  },
  {
   "cell_type": "code",
   "execution_count": 24,
   "metadata": {
    "hidden": true
   },
   "outputs": [],
   "source": [
    "def plot_retention(retention, retention_history, horizon, window=7):\n",
    "\n",
    "    # задаём размер сетки для графиков\n",
    "    plt.figure(figsize=(15, 10))\n",
    "\n",
    "    # исключаем размеры когорт и удержание первого дня\n",
    "    retention = retention.drop(columns=['cohort_size', 0])\n",
    "    # в таблице динамики оставляем только нужный лайфтайм\n",
    "    retention_history = retention_history.drop(columns=['cohort_size'])[\n",
    "        [horizon - 1]\n",
    "    ]\n",
    "\n",
    "    # если в индексах таблицы удержания только payer,\n",
    "    # добавляем второй признак — cohort\n",
    "    if retention.index.nlevels == 1:\n",
    "        retention['cohort'] = 'All users'\n",
    "        retention = retention.reset_index().set_index(['cohort', 'payer'])\n",
    "\n",
    "    # в таблице графиков — два столбца и две строки, четыре ячейки\n",
    "    # в первой строим кривые удержания платящих пользователей\n",
    "    ax1 = plt.subplot(2, 2, 1)\n",
    "    retention.query('payer == True').droplevel('payer').T.plot(\n",
    "        grid=True, ax=ax1\n",
    "    )\n",
    "    plt.legend()\n",
    "    plt.xlabel('Лайфтайм')\n",
    "    plt.title('Удержание платящих пользователей')\n",
    "\n",
    "    # во второй ячейке строим кривые удержания неплатящих\n",
    "    # вертикальная ось — от графика из первой ячейки\n",
    "    ax2 = plt.subplot(2, 2, 2, sharey=ax1)\n",
    "    retention.query('payer == False').droplevel('payer').T.plot(\n",
    "        grid=True, ax=ax2\n",
    "    )\n",
    "    plt.legend()\n",
    "    plt.xlabel('Лайфтайм')\n",
    "    plt.title('Удержание неплатящих пользователей')\n",
    "\n",
    "    # в третьей ячейке — динамика удержания платящих\n",
    "    ax3 = plt.subplot(2, 2, 3)\n",
    "    # получаем названия столбцов для сводной таблицы\n",
    "    columns = [\n",
    "        name\n",
    "        for name in retention_history.index.names\n",
    "        if name not in ['dt', 'payer']\n",
    "    ]\n",
    "    # фильтруем данные и строим график\n",
    "    filtered_data = retention_history.query('payer == True').pivot_table(\n",
    "        index='dt', columns=columns, values=horizon - 1, aggfunc='mean'\n",
    "    )\n",
    "    filter_data(filtered_data, window).plot(grid=True, ax=ax3)\n",
    "    plt.xlabel('Дата привлечения')\n",
    "    plt.title(\n",
    "        'Динамика удержания платящих пользователей на {}-й день'.format(\n",
    "            horizon\n",
    "        )\n",
    "    )\n",
    "\n",
    "    # в чётвертой ячейке — динамика удержания неплатящих\n",
    "    ax4 = plt.subplot(2, 2, 4, sharey=ax3)\n",
    "    # фильтруем данные и строим график\n",
    "    filtered_data = retention_history.query('payer == False').pivot_table(\n",
    "        index='dt', columns=columns, values=horizon - 1, aggfunc='mean'\n",
    "    )\n",
    "    filter_data(filtered_data, window).plot(grid=True, ax=ax4)\n",
    "    plt.xlabel('Дата привлечения')\n",
    "    plt.title(\n",
    "        'Динамика удержания неплатящих пользователей на {}-й день'.format(\n",
    "            horizon\n",
    "        )\n",
    "    )\n",
    "    \n",
    "    plt.tight_layout()\n",
    "    plt.show() "
   ]
  },
  {
   "cell_type": "markdown",
   "metadata": {
    "heading_collapsed": true,
    "hidden": true
   },
   "source": [
    "#### Функция для визуализации конверсии"
   ]
  },
  {
   "cell_type": "code",
   "execution_count": 25,
   "metadata": {
    "hidden": true
   },
   "outputs": [],
   "source": [
    "def plot_conversion(conversion, conversion_history, horizon, window=7):\n",
    "\n",
    "    # задаём размер сетки для графиков\n",
    "    plt.figure(figsize=(15, 5))\n",
    "\n",
    "    # исключаем размеры когорт\n",
    "    conversion = conversion.drop(columns=['cohort_size'])\n",
    "    # в таблице динамики оставляем только нужный лайфтайм\n",
    "    conversion_history = conversion_history.drop(columns=['cohort_size'])[\n",
    "        [horizon - 1]\n",
    "    ]\n",
    "\n",
    "    # первый график — кривые конверсии\n",
    "    ax1 = plt.subplot(1, 2, 1)\n",
    "    conversion.T.plot(grid=True, ax=ax1)\n",
    "    plt.legend()\n",
    "    plt.xlabel('Лайфтайм')\n",
    "    plt.title('Конверсия пользователей')\n",
    "\n",
    "    # второй график — динамика конверсии\n",
    "    ax2 = plt.subplot(1, 2, 2, sharey=ax1)\n",
    "    columns = [\n",
    "        # столбцами сводной таблицы станут все столбцы индекса, кроме даты\n",
    "        name for name in conversion_history.index.names if name not in ['dt']\n",
    "    ]\n",
    "    filtered_data = conversion_history.pivot_table(\n",
    "        index='dt', columns=columns, values=horizon - 1, aggfunc='mean'\n",
    "    )\n",
    "    filter_data(filtered_data, window).plot(grid=True, ax=ax2)\n",
    "    plt.xlabel('Дата привлечения')\n",
    "    plt.title('Динамика конверсии пользователей на {}-й день'.format(horizon))\n",
    "\n",
    "    plt.tight_layout()\n",
    "    plt.show() "
   ]
  },
  {
   "cell_type": "markdown",
   "metadata": {
    "heading_collapsed": true,
    "hidden": true
   },
   "source": [
    "#### Функция для визуализации LTV и ROI"
   ]
  },
  {
   "cell_type": "code",
   "execution_count": 26,
   "metadata": {
    "hidden": true
   },
   "outputs": [],
   "source": [
    "# функция для визуализации LTV и ROI\n",
    "\n",
    "def plot_ltv_roi(ltv, ltv_history, roi, roi_history, horizon, window=7):\n",
    "\n",
    "    # задаём сетку отрисовки графиков\n",
    "    plt.figure(figsize=(20, 10))\n",
    "\n",
    "    # из таблицы ltv исключаем размеры когорт\n",
    "    ltv = ltv.drop(columns=['cohort_size'])\n",
    "    # в таблице динамики ltv оставляем только нужный лайфтайм\n",
    "    ltv_history = ltv_history.drop(columns=['cohort_size'])[[horizon - 1]]\n",
    "\n",
    "    # стоимость привлечения запишем в отдельный фрейм\n",
    "    cac_history = roi_history[['cac']]\n",
    "\n",
    "    # из таблицы roi исключаем размеры когорт и cac\n",
    "    roi = roi.drop(columns=['cohort_size', 'cac'])\n",
    "    # в таблице динамики roi оставляем только нужный лайфтайм\n",
    "    roi_history = roi_history.drop(columns=['cohort_size', 'cac'])[\n",
    "        [horizon - 1]\n",
    "    ]\n",
    "\n",
    "    # первый график — кривые ltv\n",
    "    ax1 = plt.subplot(2, 3, 1)\n",
    "    ltv.T.plot(grid=True, ax=ax1)\n",
    "    plt.legend()\n",
    "    plt.xlabel('Лайфтайм')\n",
    "    plt.title('LTV')\n",
    "\n",
    "    # второй график — динамика ltv\n",
    "    ax2 = plt.subplot(2, 3, 2, sharey=ax1)\n",
    "    # столбцами сводной таблицы станут все столбцы индекса, кроме даты\n",
    "    columns = [name for name in ltv_history.index.names if name not in ['dt']]\n",
    "    filtered_data = ltv_history.pivot_table(\n",
    "        index='dt', columns=columns, values=horizon - 1, aggfunc='mean'\n",
    "    )\n",
    "    filter_data(filtered_data, window).plot(grid=True, ax=ax2)\n",
    "    plt.xlabel('Дата привлечения')\n",
    "    plt.title('Динамика LTV пользователей на {}-й день'.format(horizon))\n",
    "\n",
    "    # третий график — динамика cac\n",
    "    ax3 = plt.subplot(2, 3, 3, sharey=ax1)\n",
    "    # столбцами сводной таблицы станут все столбцы индекса, кроме даты\n",
    "    columns = [name for name in cac_history.index.names if name not in ['dt']]\n",
    "    filtered_data = cac_history.pivot_table(\n",
    "        index='dt', columns=columns, values='cac', aggfunc='mean'\n",
    "    )\n",
    "    filter_data(filtered_data, window).plot(grid=True, ax=ax3)\n",
    "    plt.xlabel('Дата привлечения')\n",
    "    plt.title('Динамика стоимости привлечения пользователей')\n",
    "\n",
    "    # четвёртый график — кривые roi\n",
    "    ax4 = plt.subplot(2, 3, 4)\n",
    "    roi.T.plot(grid=True, ax=ax4)\n",
    "    plt.axhline(y=1, color='red', linestyle='--', label='Уровень окупаемости')\n",
    "    plt.legend()\n",
    "    plt.xlabel('Лайфтайм')\n",
    "    plt.title('ROI')\n",
    "\n",
    "    # пятый график — динамика roi\n",
    "    ax5 = plt.subplot(2, 3, 5, sharey=ax4)\n",
    "    # столбцами сводной таблицы станут все столбцы индекса, кроме даты\n",
    "    columns = [name for name in roi_history.index.names if name not in ['dt']]\n",
    "    filtered_data = roi_history.pivot_table(\n",
    "        index='dt', columns=columns, values=horizon - 1, aggfunc='mean'\n",
    "    )\n",
    "    filter_data(filtered_data, window).plot(grid=True, ax=ax5)\n",
    "    plt.axhline(y=1, color='red', linestyle='--', label='Уровень окупаемости')\n",
    "    plt.xlabel('Дата привлечения')\n",
    "    plt.title('Динамика ROI пользователей на {}-й день'.format(horizon))\n",
    "\n",
    "    plt.tight_layout()\n",
    "    plt.show() "
   ]
  },
  {
   "cell_type": "markdown",
   "metadata": {
    "hidden": true
   },
   "source": [
    "<div class=\"alert alert-block alert-success\">✔️\n",
    "    \n",
    "\n",
    "__Комментарий от ревьюера №1__\n",
    "    \n",
    "Хорошо, все необходимые функции были заданы, можно приступать к расчета и анализу👀"
   ]
  },
  {
   "cell_type": "markdown",
   "metadata": {
    "id": "V-KBT-KMWVwl"
   },
   "source": [
    "### Исследовательский анализ данных\n",
    "\n",
    "- Составьте профили пользователей. Определите минимальную и максимальную даты привлечения пользователей.\n",
    "- Выясните, из каких стран пользователи приходят в приложение и на какую страну приходится больше всего платящих пользователей. Постройте таблицу, отражающую количество пользователей и долю платящих из каждой страны.\n",
    "- Узнайте, какими устройствами пользуются клиенты и какие устройства предпочитают платящие пользователи. Постройте таблицу, отражающую количество пользователей и долю платящих для каждого устройства.\n",
    "- Изучите рекламные источники привлечения и определите каналы, из которых пришло больше всего платящих пользователей. Постройте таблицу, отражающую количество пользователей и долю платящих для каждого канала привлечения.\n",
    "\n",
    "После каждого пункта сформулируйте выводы."
   ]
  },
  {
   "cell_type": "markdown",
   "metadata": {},
   "source": [
    "#### Профили пользователей"
   ]
  },
  {
   "cell_type": "code",
   "execution_count": 27,
   "metadata": {
    "id": "oOLsbJpNWVwm"
   },
   "outputs": [
    {
     "ename": "TypeError",
     "evalue": "Cannot cast DatetimeArray to dtype datetime64[M]",
     "output_type": "error",
     "traceback": [
      "\u001b[1;31m---------------------------------------------------------------------------\u001b[0m",
      "\u001b[1;31mTypeError\u001b[0m                                 Traceback (most recent call last)",
      "Cell \u001b[1;32mIn[27], line 2\u001b[0m\n\u001b[0;32m      1\u001b[0m \u001b[38;5;66;03m# создание профилей пользователей\u001b[39;00m\n\u001b[1;32m----> 2\u001b[0m profiles \u001b[38;5;241m=\u001b[39m get_profiles(visits, orders, costs)\n\u001b[0;32m      3\u001b[0m profiles\u001b[38;5;241m.\u001b[39mhead()\n",
      "Cell \u001b[1;32mIn[19], line 22\u001b[0m, in \u001b[0;36mget_profiles\u001b[1;34m(sessions, orders, ad_costs)\u001b[0m\n\u001b[0;32m     19\u001b[0m \u001b[38;5;66;03m# для когортного анализа определяем дату первого посещения\u001b[39;00m\n\u001b[0;32m     20\u001b[0m \u001b[38;5;66;03m# и первый день месяца, в который это посещение произошло\u001b[39;00m\n\u001b[0;32m     21\u001b[0m profiles[\u001b[38;5;124m'\u001b[39m\u001b[38;5;124mdt\u001b[39m\u001b[38;5;124m'\u001b[39m] \u001b[38;5;241m=\u001b[39m profiles[\u001b[38;5;124m'\u001b[39m\u001b[38;5;124mfirst_ts\u001b[39m\u001b[38;5;124m'\u001b[39m]\u001b[38;5;241m.\u001b[39mdt\u001b[38;5;241m.\u001b[39mdate\n\u001b[1;32m---> 22\u001b[0m profiles[\u001b[38;5;124m'\u001b[39m\u001b[38;5;124mmonth\u001b[39m\u001b[38;5;124m'\u001b[39m] \u001b[38;5;241m=\u001b[39m profiles[\u001b[38;5;124m'\u001b[39m\u001b[38;5;124mfirst_ts\u001b[39m\u001b[38;5;124m'\u001b[39m]\u001b[38;5;241m.\u001b[39mastype(\u001b[38;5;124m'\u001b[39m\u001b[38;5;124mdatetime64[M]\u001b[39m\u001b[38;5;124m'\u001b[39m)\n\u001b[0;32m     24\u001b[0m \u001b[38;5;66;03m# добавляем признак платящих пользователей\u001b[39;00m\n\u001b[0;32m     25\u001b[0m profiles[\u001b[38;5;124m'\u001b[39m\u001b[38;5;124mpayer\u001b[39m\u001b[38;5;124m'\u001b[39m] \u001b[38;5;241m=\u001b[39m profiles[\u001b[38;5;124m'\u001b[39m\u001b[38;5;124muser_id\u001b[39m\u001b[38;5;124m'\u001b[39m]\u001b[38;5;241m.\u001b[39misin(orders[\u001b[38;5;124m'\u001b[39m\u001b[38;5;124muser_id\u001b[39m\u001b[38;5;124m'\u001b[39m]\u001b[38;5;241m.\u001b[39munique())\n",
      "File \u001b[1;32m~\\anaconda3\\Lib\\site-packages\\pandas\\core\\generic.py:6324\u001b[0m, in \u001b[0;36mNDFrame.astype\u001b[1;34m(self, dtype, copy, errors)\u001b[0m\n\u001b[0;32m   6317\u001b[0m     results \u001b[38;5;241m=\u001b[39m [\n\u001b[0;32m   6318\u001b[0m         \u001b[38;5;28mself\u001b[39m\u001b[38;5;241m.\u001b[39miloc[:, i]\u001b[38;5;241m.\u001b[39mastype(dtype, copy\u001b[38;5;241m=\u001b[39mcopy)\n\u001b[0;32m   6319\u001b[0m         \u001b[38;5;28;01mfor\u001b[39;00m i \u001b[38;5;129;01min\u001b[39;00m \u001b[38;5;28mrange\u001b[39m(\u001b[38;5;28mlen\u001b[39m(\u001b[38;5;28mself\u001b[39m\u001b[38;5;241m.\u001b[39mcolumns))\n\u001b[0;32m   6320\u001b[0m     ]\n\u001b[0;32m   6322\u001b[0m \u001b[38;5;28;01melse\u001b[39;00m:\n\u001b[0;32m   6323\u001b[0m     \u001b[38;5;66;03m# else, only a single dtype is given\u001b[39;00m\n\u001b[1;32m-> 6324\u001b[0m     new_data \u001b[38;5;241m=\u001b[39m \u001b[38;5;28mself\u001b[39m\u001b[38;5;241m.\u001b[39m_mgr\u001b[38;5;241m.\u001b[39mastype(dtype\u001b[38;5;241m=\u001b[39mdtype, copy\u001b[38;5;241m=\u001b[39mcopy, errors\u001b[38;5;241m=\u001b[39merrors)\n\u001b[0;32m   6325\u001b[0m     \u001b[38;5;28;01mreturn\u001b[39;00m \u001b[38;5;28mself\u001b[39m\u001b[38;5;241m.\u001b[39m_constructor(new_data)\u001b[38;5;241m.\u001b[39m__finalize__(\u001b[38;5;28mself\u001b[39m, method\u001b[38;5;241m=\u001b[39m\u001b[38;5;124m\"\u001b[39m\u001b[38;5;124mastype\u001b[39m\u001b[38;5;124m\"\u001b[39m)\n\u001b[0;32m   6327\u001b[0m \u001b[38;5;66;03m# GH 33113: handle empty frame or series\u001b[39;00m\n",
      "File \u001b[1;32m~\\anaconda3\\Lib\\site-packages\\pandas\\core\\internals\\managers.py:451\u001b[0m, in \u001b[0;36mBaseBlockManager.astype\u001b[1;34m(self, dtype, copy, errors)\u001b[0m\n\u001b[0;32m    448\u001b[0m \u001b[38;5;28;01melif\u001b[39;00m using_copy_on_write():\n\u001b[0;32m    449\u001b[0m     copy \u001b[38;5;241m=\u001b[39m \u001b[38;5;28;01mFalse\u001b[39;00m\n\u001b[1;32m--> 451\u001b[0m \u001b[38;5;28;01mreturn\u001b[39;00m \u001b[38;5;28mself\u001b[39m\u001b[38;5;241m.\u001b[39mapply(\n\u001b[0;32m    452\u001b[0m     \u001b[38;5;124m\"\u001b[39m\u001b[38;5;124mastype\u001b[39m\u001b[38;5;124m\"\u001b[39m,\n\u001b[0;32m    453\u001b[0m     dtype\u001b[38;5;241m=\u001b[39mdtype,\n\u001b[0;32m    454\u001b[0m     copy\u001b[38;5;241m=\u001b[39mcopy,\n\u001b[0;32m    455\u001b[0m     errors\u001b[38;5;241m=\u001b[39merrors,\n\u001b[0;32m    456\u001b[0m     using_cow\u001b[38;5;241m=\u001b[39musing_copy_on_write(),\n\u001b[0;32m    457\u001b[0m )\n",
      "File \u001b[1;32m~\\anaconda3\\Lib\\site-packages\\pandas\\core\\internals\\managers.py:352\u001b[0m, in \u001b[0;36mBaseBlockManager.apply\u001b[1;34m(self, f, align_keys, **kwargs)\u001b[0m\n\u001b[0;32m    350\u001b[0m         applied \u001b[38;5;241m=\u001b[39m b\u001b[38;5;241m.\u001b[39mapply(f, \u001b[38;5;241m*\u001b[39m\u001b[38;5;241m*\u001b[39mkwargs)\n\u001b[0;32m    351\u001b[0m     \u001b[38;5;28;01melse\u001b[39;00m:\n\u001b[1;32m--> 352\u001b[0m         applied \u001b[38;5;241m=\u001b[39m \u001b[38;5;28mgetattr\u001b[39m(b, f)(\u001b[38;5;241m*\u001b[39m\u001b[38;5;241m*\u001b[39mkwargs)\n\u001b[0;32m    353\u001b[0m     result_blocks \u001b[38;5;241m=\u001b[39m extend_blocks(applied, result_blocks)\n\u001b[0;32m    355\u001b[0m out \u001b[38;5;241m=\u001b[39m \u001b[38;5;28mtype\u001b[39m(\u001b[38;5;28mself\u001b[39m)\u001b[38;5;241m.\u001b[39mfrom_blocks(result_blocks, \u001b[38;5;28mself\u001b[39m\u001b[38;5;241m.\u001b[39maxes)\n",
      "File \u001b[1;32m~\\anaconda3\\Lib\\site-packages\\pandas\\core\\internals\\blocks.py:511\u001b[0m, in \u001b[0;36mBlock.astype\u001b[1;34m(self, dtype, copy, errors, using_cow)\u001b[0m\n\u001b[0;32m    491\u001b[0m \u001b[38;5;250m\u001b[39m\u001b[38;5;124;03m\"\"\"\u001b[39;00m\n\u001b[0;32m    492\u001b[0m \u001b[38;5;124;03mCoerce to the new dtype.\u001b[39;00m\n\u001b[0;32m    493\u001b[0m \n\u001b[1;32m   (...)\u001b[0m\n\u001b[0;32m    507\u001b[0m \u001b[38;5;124;03mBlock\u001b[39;00m\n\u001b[0;32m    508\u001b[0m \u001b[38;5;124;03m\"\"\"\u001b[39;00m\n\u001b[0;32m    509\u001b[0m values \u001b[38;5;241m=\u001b[39m \u001b[38;5;28mself\u001b[39m\u001b[38;5;241m.\u001b[39mvalues\n\u001b[1;32m--> 511\u001b[0m new_values \u001b[38;5;241m=\u001b[39m astype_array_safe(values, dtype, copy\u001b[38;5;241m=\u001b[39mcopy, errors\u001b[38;5;241m=\u001b[39merrors)\n\u001b[0;32m    513\u001b[0m new_values \u001b[38;5;241m=\u001b[39m maybe_coerce_values(new_values)\n\u001b[0;32m    515\u001b[0m refs \u001b[38;5;241m=\u001b[39m \u001b[38;5;28;01mNone\u001b[39;00m\n",
      "File \u001b[1;32m~\\anaconda3\\Lib\\site-packages\\pandas\\core\\dtypes\\astype.py:242\u001b[0m, in \u001b[0;36mastype_array_safe\u001b[1;34m(values, dtype, copy, errors)\u001b[0m\n\u001b[0;32m    239\u001b[0m     dtype \u001b[38;5;241m=\u001b[39m dtype\u001b[38;5;241m.\u001b[39mnumpy_dtype\n\u001b[0;32m    241\u001b[0m \u001b[38;5;28;01mtry\u001b[39;00m:\n\u001b[1;32m--> 242\u001b[0m     new_values \u001b[38;5;241m=\u001b[39m astype_array(values, dtype, copy\u001b[38;5;241m=\u001b[39mcopy)\n\u001b[0;32m    243\u001b[0m \u001b[38;5;28;01mexcept\u001b[39;00m (\u001b[38;5;167;01mValueError\u001b[39;00m, \u001b[38;5;167;01mTypeError\u001b[39;00m):\n\u001b[0;32m    244\u001b[0m     \u001b[38;5;66;03m# e.g. _astype_nansafe can fail on object-dtype of strings\u001b[39;00m\n\u001b[0;32m    245\u001b[0m     \u001b[38;5;66;03m#  trying to convert to float\u001b[39;00m\n\u001b[0;32m    246\u001b[0m     \u001b[38;5;28;01mif\u001b[39;00m errors \u001b[38;5;241m==\u001b[39m \u001b[38;5;124m\"\u001b[39m\u001b[38;5;124mignore\u001b[39m\u001b[38;5;124m\"\u001b[39m:\n",
      "File \u001b[1;32m~\\anaconda3\\Lib\\site-packages\\pandas\\core\\dtypes\\astype.py:184\u001b[0m, in \u001b[0;36mastype_array\u001b[1;34m(values, dtype, copy)\u001b[0m\n\u001b[0;32m    180\u001b[0m     \u001b[38;5;28;01mreturn\u001b[39;00m values\n\u001b[0;32m    182\u001b[0m \u001b[38;5;28;01mif\u001b[39;00m \u001b[38;5;129;01mnot\u001b[39;00m \u001b[38;5;28misinstance\u001b[39m(values, np\u001b[38;5;241m.\u001b[39mndarray):\n\u001b[0;32m    183\u001b[0m     \u001b[38;5;66;03m# i.e. ExtensionArray\u001b[39;00m\n\u001b[1;32m--> 184\u001b[0m     values \u001b[38;5;241m=\u001b[39m values\u001b[38;5;241m.\u001b[39mastype(dtype, copy\u001b[38;5;241m=\u001b[39mcopy)\n\u001b[0;32m    186\u001b[0m \u001b[38;5;28;01melse\u001b[39;00m:\n\u001b[0;32m    187\u001b[0m     values \u001b[38;5;241m=\u001b[39m _astype_nansafe(values, dtype, copy\u001b[38;5;241m=\u001b[39mcopy)\n",
      "File \u001b[1;32m~\\anaconda3\\Lib\\site-packages\\pandas\\core\\arrays\\datetimes.py:701\u001b[0m, in \u001b[0;36mDatetimeArray.astype\u001b[1;34m(self, dtype, copy)\u001b[0m\n\u001b[0;32m    699\u001b[0m \u001b[38;5;28;01melif\u001b[39;00m is_period_dtype(dtype):\n\u001b[0;32m    700\u001b[0m     \u001b[38;5;28;01mreturn\u001b[39;00m \u001b[38;5;28mself\u001b[39m\u001b[38;5;241m.\u001b[39mto_period(freq\u001b[38;5;241m=\u001b[39mdtype\u001b[38;5;241m.\u001b[39mfreq)\n\u001b[1;32m--> 701\u001b[0m \u001b[38;5;28;01mreturn\u001b[39;00m dtl\u001b[38;5;241m.\u001b[39mDatetimeLikeArrayMixin\u001b[38;5;241m.\u001b[39mastype(\u001b[38;5;28mself\u001b[39m, dtype, copy)\n",
      "File \u001b[1;32m~\\anaconda3\\Lib\\site-packages\\pandas\\core\\arrays\\datetimelike.py:487\u001b[0m, in \u001b[0;36mDatetimeLikeArrayMixin.astype\u001b[1;34m(self, dtype, copy)\u001b[0m\n\u001b[0;32m    480\u001b[0m \u001b[38;5;28;01melif\u001b[39;00m (\n\u001b[0;32m    481\u001b[0m     is_datetime_or_timedelta_dtype(dtype)\n\u001b[0;32m    482\u001b[0m     \u001b[38;5;129;01mand\u001b[39;00m \u001b[38;5;129;01mnot\u001b[39;00m is_dtype_equal(\u001b[38;5;28mself\u001b[39m\u001b[38;5;241m.\u001b[39mdtype, dtype)\n\u001b[0;32m    483\u001b[0m ) \u001b[38;5;129;01mor\u001b[39;00m is_float_dtype(dtype):\n\u001b[0;32m    484\u001b[0m     \u001b[38;5;66;03m# disallow conversion between datetime/timedelta,\u001b[39;00m\n\u001b[0;32m    485\u001b[0m     \u001b[38;5;66;03m# and conversions for any datetimelike to float\u001b[39;00m\n\u001b[0;32m    486\u001b[0m     msg \u001b[38;5;241m=\u001b[39m \u001b[38;5;124mf\u001b[39m\u001b[38;5;124m\"\u001b[39m\u001b[38;5;124mCannot cast \u001b[39m\u001b[38;5;132;01m{\u001b[39;00m\u001b[38;5;28mtype\u001b[39m(\u001b[38;5;28mself\u001b[39m)\u001b[38;5;241m.\u001b[39m\u001b[38;5;18m__name__\u001b[39m\u001b[38;5;132;01m}\u001b[39;00m\u001b[38;5;124m to dtype \u001b[39m\u001b[38;5;132;01m{\u001b[39;00mdtype\u001b[38;5;132;01m}\u001b[39;00m\u001b[38;5;124m\"\u001b[39m\n\u001b[1;32m--> 487\u001b[0m     \u001b[38;5;28;01mraise\u001b[39;00m \u001b[38;5;167;01mTypeError\u001b[39;00m(msg)\n\u001b[0;32m    488\u001b[0m \u001b[38;5;28;01melse\u001b[39;00m:\n\u001b[0;32m    489\u001b[0m     \u001b[38;5;28;01mreturn\u001b[39;00m np\u001b[38;5;241m.\u001b[39masarray(\u001b[38;5;28mself\u001b[39m, dtype\u001b[38;5;241m=\u001b[39mdtype)\n",
      "\u001b[1;31mTypeError\u001b[0m: Cannot cast DatetimeArray to dtype datetime64[M]"
     ]
    }
   ],
   "source": [
    "# создание профилей пользователей\n",
    "profiles = get_profiles(visits, orders, costs)\n",
    "profiles.head()"
   ]
  },
  {
   "cell_type": "code",
   "execution_count": null,
   "metadata": {},
   "outputs": [],
   "source": [
    "# вывод максимальной даты привлечения пользователей\n",
    "profiles['first_ts'].dt.date.max()"
   ]
  },
  {
   "cell_type": "code",
   "execution_count": null,
   "metadata": {},
   "outputs": [],
   "source": [
    "# вывод минимальной даты привлечения пользователей\n",
    "profiles['first_ts'].dt.date.min()"
   ]
  },
  {
   "cell_type": "markdown",
   "metadata": {},
   "source": [
    "Есть данные о пользователях, привлеченных с 1 мая по 27 октября 2019 года."
   ]
  },
  {
   "cell_type": "markdown",
   "metadata": {},
   "source": [
    "#### Доля платящих пользователей из каждой страны"
   ]
  },
  {
   "cell_type": "code",
   "execution_count": null,
   "metadata": {},
   "outputs": [],
   "source": [
    "# функция для нахождения доли платящих пользователей по нужной колонке\n",
    "def paying_users(columns):\n",
    "    profiles_ = profiles.groupby(columns).agg({'user_id':'nunique', 'payer':['sum', 'mean']})                \n",
    "    profiles_.columns = ['id_unique', 'count_payer', 'percent_payer']\n",
    "    profiles_['percent_payer'] = profiles_['percent_payer'] * 100\n",
    "    \n",
    "    return profiles_.sort_values('percent_payer', ascending=False)\n",
    "    "
   ]
  },
  {
   "cell_type": "code",
   "execution_count": null,
   "metadata": {},
   "outputs": [],
   "source": [
    "profiles_payer_region = paying_users('region')\n",
    "profiles_payer_region"
   ]
  },
  {
   "cell_type": "markdown",
   "metadata": {},
   "source": [
    "- Несомненным лидиром по продажам и долей платящих пользователей является United States. \n",
    "- Примерно на 3% меньше доля у остальных стран Germany, UK, France, что составляет разницу чуть ли не в 2 раза меньше чем у United States. А количество платящих вообще в 10 раз меньше.\n",
    "- Между  странами Европы доля платящих пользователей и их количество распределенно примерно равномерно, отличие в долях составляет 0,1-0,3%."
   ]
  },
  {
   "cell_type": "markdown",
   "metadata": {},
   "source": [
    "#### Доля платящих пользователей для каждого устройства"
   ]
  },
  {
   "cell_type": "code",
   "execution_count": null,
   "metadata": {},
   "outputs": [],
   "source": [
    "profiles_payer_device = paying_users('device')\n",
    "profiles_payer_device"
   ]
  },
  {
   "cell_type": "markdown",
   "metadata": {},
   "source": [
    "- Самая большая доля платящих пользователей приходится на Mac. \n",
    "- iPhone занимает второе место уступая всего 0,15%. Зато по количеству платящих пользователей iPhone лидирует - в 1,5-2 выше, чем у других устройств.\n",
    "- Android находится на третьем месте, уступая Mac 0,5%. Но по количеству привлеченных пользователей примерно одинаково с Mac и РС.\n",
    "- Последнее место занимает PC и по доле привлеченных пользователей и по количеству платящих. У PC разница с лидером в доле составляет 1,3%.\n"
   ]
  },
  {
   "cell_type": "markdown",
   "metadata": {},
   "source": [
    "#### Доля платящих пользователей для каждого канала привлечения"
   ]
  },
  {
   "cell_type": "code",
   "execution_count": null,
   "metadata": {},
   "outputs": [],
   "source": [
    "profiles_payer_channel = paying_users('channel')\n",
    "profiles_payer_channel"
   ]
  },
  {
   "cell_type": "code",
   "execution_count": null,
   "metadata": {},
   "outputs": [],
   "source": [
    "sns.set() \n",
    "profiles_payer_channel['percent_payer'].plot(\n",
    "       kind='barh', \n",
    "       grid=True,  \n",
    "       legend=False, \n",
    "       figsize=(10, 5),\n",
    "       xlabel='Канал привлечения',\n",
    "       title='Доля платящих пользователей для каждого канала привлечения');\n"
   ]
  },
  {
   "cell_type": "markdown",
   "metadata": {},
   "source": [
    "- Лидирами по долям платящих являются FaceBoom, AdNonSense, lambdaMediaAds. У этих каналах более 10% доля платящих. Но FaceBoom лидирует также и по количеству платящих - более 3500 против 440 (AdNonSense) и 225 (lambdaMediaAds).\n",
    "\n",
    "- \"Среднее звено\" занимают каналы TipTop, RocketSuperAds, WahooNetBanner. У них примерно от 5 до 10% доли. Здесь TipTop \"возглавляет\" тройку каналов по доле и по количеству платящих - более 1800 против 350 (RocketSuperAds) и 450 (WahooNetBanner).\n",
    "\n",
    "- Менее 4% доли платящих у каналов YRabbit, MediaTornado, LeapBob, OppleCreativeMedia, organic. Но есть интересных факт - хоть у organic меньше всего доля платящих, зато больше всего количество платящих пользователей из этих каналов. У organic 1160 платящих пользователей, а у остальных количество составляет всего примерно 150-260.  "
   ]
  },
  {
   "cell_type": "markdown",
   "metadata": {
    "id": "80LRB5-eWVwm"
   },
   "source": [
    "### Маркетинг\n",
    "\n",
    "- Посчитайте общую сумму расходов на маркетинг.\n",
    "- Выясните, как траты распределены по рекламным источникам, то есть сколько денег потратили на каждый источник.\n",
    "- Постройте визуализацию динамики изменения расходов во времени (по неделям и месяцам) по каждому источнику. Постарайтесь отразить это на одном графике.\n",
    "- Узнайте, сколько в среднем стоило привлечение одного пользователя (CAC) из каждого источника. Используйте профили пользователей.\n",
    "\n",
    "Напишите промежуточные выводы."
   ]
  },
  {
   "cell_type": "markdown",
   "metadata": {},
   "source": [
    "#### Общая сумма расходов на маркетинг"
   ]
  },
  {
   "cell_type": "code",
   "execution_count": null,
   "metadata": {
    "id": "DQE9emXqWVwm"
   },
   "outputs": [],
   "source": [
    "total_cost = profiles['acquisition_cost'].sum()\n",
    "round(total_cost, 2)"
   ]
  },
  {
   "cell_type": "markdown",
   "metadata": {},
   "source": [
    "#### Распределение трат по рекламным источникам"
   ]
  },
  {
   "cell_type": "code",
   "execution_count": null,
   "metadata": {},
   "outputs": [],
   "source": [
    "# функция для создания сводной таблицы сгруппированной по каналам привлечения \n",
    "def channel_costs(aggfunc):\n",
    "    profiles_channel = (profiles\n",
    "                    .pivot_table(index='channel', values='acquisition_cost', aggfunc=aggfunc)\n",
    "                    .sort_values('acquisition_cost', ascending=False))\n",
    "    return profiles_channel"
   ]
  },
  {
   "cell_type": "code",
   "execution_count": null,
   "metadata": {},
   "outputs": [],
   "source": [
    "# удаление organic, т.к. этот канал не входит в бюджет\n",
    "profiles = profiles.query('channel != \"organic\"')"
   ]
  },
  {
   "cell_type": "code",
   "execution_count": null,
   "metadata": {},
   "outputs": [],
   "source": [
    "# распределение трат по рекламным источникам\n",
    "channel_total_cost = channel_costs('sum')\n",
    "channel_total_cost['percent_cost'] = channel_total_cost['acquisition_cost'] / total_cost * 100\n",
    "channel_total_cost "
   ]
  },
  {
   "cell_type": "markdown",
   "metadata": {},
   "source": [
    "- Больше половины расходов на маркетинг \"ушло\" на TipTop. \n",
    "- FaceBoom \"забрал\" почти треть расходов.\n",
    "- У остальных 8 каналов расходы более чем в 10 раз меньше TipTop. \n",
    "\n",
    "- На маркетинг каналов WahooNetBanner, AdNonSense и OppleCreativeMedia в общем израсходовано примерно 11000.\n",
    "- Расходы на маркетинг RocketSuperAds, LeapBob и lambdaMediaAds составили менее 2000 на каждый канал.\n",
    "- И менее 1000 обошлись каналы MediaTornado и YRabbit."
   ]
  },
  {
   "cell_type": "markdown",
   "metadata": {},
   "source": [
    "#### Визуализация динамики изменения расходов во времени "
   ]
  },
  {
   "cell_type": "code",
   "execution_count": null,
   "metadata": {},
   "outputs": [],
   "source": [
    "# создание новых столбцов для дальнейшей работы \n",
    "profiles['week'] = profiles['first_ts'].dt.isocalendar().week\n",
    "profiles['month'] = profiles['first_ts'].dt.month"
   ]
  },
  {
   "cell_type": "code",
   "execution_count": null,
   "metadata": {},
   "outputs": [],
   "source": [
    "profiles.head()"
   ]
  },
  {
   "cell_type": "code",
   "execution_count": null,
   "metadata": {},
   "outputs": [],
   "source": [
    "\n",
    "fig, ax = plt.subplots(1, 2, figsize=(15,8))\n",
    "fig.suptitle('Динамики изменения расходов во времени по каждому источнику')\n",
    "\n",
    "for i, col in enumerate(['month', 'week']):\n",
    "    (profiles\n",
    "     .pivot_table(index=col, columns='channel', values='acquisition_cost', aggfunc='sum')\n",
    "     .plot(ylim=(0,15000), ax=ax[i], ylabel='Расходы в у.е.'))"
   ]
  },
  {
   "cell_type": "markdown",
   "metadata": {},
   "source": [
    "- На TipTop самые высокие расходы, которые с каждым месяцем увеличиваются начиная с отметки 3500 в мае и достигают примерно 13000 в сентябре. \n",
    "- Тоже высокие траты у FaceBoom - примерно с 3800 в мае до 5800 в июне, далее немного повышается к августу. Потом остается примерно на одном уровне около 6000.\n",
    "- У остальных источников привлечения динамика расходов распределена равномерно по времени и составляет примерно менее 1000 в месяц на протяжении всего периода."
   ]
  },
  {
   "cell_type": "markdown",
   "metadata": {},
   "source": [
    "#### Средняя стоимость привлечение одного пользователя (CAC) "
   ]
  },
  {
   "cell_type": "code",
   "execution_count": null,
   "metadata": {},
   "outputs": [],
   "source": [
    "# cредняя стоимость привлечение одного пользователя (CAC)\n",
    "round(total_cost / profiles['user_id'].nunique(), 2)"
   ]
  },
  {
   "cell_type": "code",
   "execution_count": null,
   "metadata": {
    "scrolled": true
   },
   "outputs": [],
   "source": [
    "# cредняя стоимость привлечение одного пользователя (CAC) из каждого источника\n",
    "channel_costs('mean')"
   ]
  },
  {
   "cell_type": "markdown",
   "metadata": {},
   "source": [
    "- Самый затратный источник - TipTop. Он превышает больше чем в 2 раза cреднюю стоимость привлечение одного пользователя. И выше более в 2 раза чем остальные источники привлечения пользователей.\n",
    "- У FaceBoom и AdNonSense затраты на одного пользователя составили чуть выше 1. \n",
    "- У RocketSuperAds, WahooNetBanner и lambdaMediaAds стоимость привлечения в диапазоне от 0,41 до 0,72\n",
    "- Самые малозатратные источники - OppleCreativeMedia, YRabbit, MediaTornado, LeapBob. У этих каналов  стоимость привлечения одного пользователя составила менее 0,26."
   ]
  },
  {
   "cell_type": "markdown",
   "metadata": {
    "id": "poDjrQVHWVwn"
   },
   "source": [
    "### Оцените окупаемость рекламы\n",
    "\n",
    "Используя графики LTV, ROI и CAC, проанализируйте окупаемость рекламы. Считайте, что на календаре 1 ноября 2019 года, а в бизнес-плане заложено, что пользователи должны окупаться не позднее чем через две недели после привлечения. Необходимость включения в анализ органических пользователей определите самостоятельно.\n",
    "\n",
    "- Проанализируйте окупаемость рекламы c помощью графиков LTV и ROI, а также графики динамики LTV, CAC и ROI.\n",
    "- Проверьте конверсию пользователей и динамику её изменения. То же самое сделайте с удержанием пользователей. Постройте и изучите графики конверсии и удержания.\n",
    "- Проанализируйте окупаемость рекламы с разбивкой по устройствам. Постройте графики LTV и ROI, а также графики динамики LTV, CAC и ROI.\n",
    "- Проанализируйте окупаемость рекламы с разбивкой по странам. Постройте графики LTV и ROI, а также графики динамики LTV, CAC и ROI.\n",
    "- Проанализируйте окупаемость рекламы с разбивкой по рекламным каналам. Постройте графики LTV и ROI, а также графики динамики LTV, CAC и ROI.\n",
    "- Ответьте на такие вопросы:\n",
    "    - Окупается ли реклама, направленная на привлечение пользователей в целом?\n",
    "    - Какие устройства, страны и рекламные каналы могут оказывать негативное влияние на окупаемость рекламы?\n",
    "    - Чем могут быть вызваны проблемы окупаемости?\n",
    "\n",
    "Напишите вывод, опишите возможные причины обнаруженных проблем и промежуточные рекомендации для рекламного отдела."
   ]
  },
  {
   "cell_type": "markdown",
   "metadata": {},
   "source": [
    "#### Окупаемость рекламы c помощью графиков LTV и ROI"
   ]
  },
  {
   "cell_type": "code",
   "execution_count": null,
   "metadata": {},
   "outputs": [],
   "source": [
    "observation_date = datetime(2019, 11, 1).date()  # момент анализа\n",
    "horizon_days = 14  # горизонт анализа "
   ]
  },
  {
   "cell_type": "code",
   "execution_count": null,
   "metadata": {},
   "outputs": [],
   "source": [
    "# подсчет LTV и ROI\n",
    "ltv_raw, ltv_grouped, ltv_history, roi_grouped, roi_history = get_ltv(\n",
    "    profiles, orders, observation_date, horizon_days\n",
    ") "
   ]
  },
  {
   "cell_type": "code",
   "execution_count": null,
   "metadata": {},
   "outputs": [],
   "source": [
    "# построение графиков LTV, ROI, CAC\n",
    "plot_ltv_roi(ltv_grouped, ltv_history, roi_grouped, roi_history, horizon_days)"
   ]
  },
  {
   "cell_type": "markdown",
   "metadata": {},
   "source": [
    "- Реклама не окупается. ROI в конце двух недель около 80%. В мае окупаемость инвестиций имеет самые высокие показатели - выше 100%. С середины июня ROI находится ниже порога окупаемости.\n",
    "- CAC вырос почти в 2 раза с первоначальной стоимости. Возможно дело в увеличении рекламного бюджета.\n",
    "- На LTV влияет сезонный фактор, но этот показатель достаточно стабилен. Значит, дело не в ухудшении качества пользователей."
   ]
  },
  {
   "cell_type": "markdown",
   "metadata": {},
   "source": [
    "#### Конверсия и удержание пользователей"
   ]
  },
  {
   "cell_type": "code",
   "execution_count": null,
   "metadata": {},
   "outputs": [],
   "source": [
    "def visualization_conversion_retention(dimensions=[]):\n",
    "    # рассчет конверсии\n",
    "    conversion_raw, conversion_grouped, conversion_history = get_conversion(\n",
    "    profiles, orders, observation_date, horizon_days, dimensions=dimensions)\n",
    "    # рассчет удержания\n",
    "    retention_raw, retention_grouped, retention_history = get_retention(\n",
    "    profiles, visits, observation_date, horizon_days, dimensions=dimensions)\n",
    "    \n",
    "    # визуализация конверсии и удержания   \n",
    "    plot_conversion(conversion_grouped, conversion_history, horizon_days) \n",
    "    plot_retention(retention_grouped, retention_history, horizon_days) \n"
   ]
  },
  {
   "cell_type": "code",
   "execution_count": null,
   "metadata": {},
   "outputs": [],
   "source": [
    "print('Конверсия и удержание пользователей')\n",
    "visualization_conversion_retention()"
   ]
  },
  {
   "cell_type": "markdown",
   "metadata": {},
   "source": [
    "Судя по графикам, пользователи конвертируются хорошо и постоянно. Удержание также стабильно."
   ]
  },
  {
   "cell_type": "markdown",
   "metadata": {},
   "source": [
    "#### Oкупаемость рекламы с разбивкой по устройствам"
   ]
  },
  {
   "cell_type": "code",
   "execution_count": null,
   "metadata": {},
   "outputs": [],
   "source": [
    "dimensions = ['device']\n",
    "\n",
    "ltv_raw, ltv_grouped, ltv_history, roi_grouped, roi_history = get_ltv(\n",
    "    profiles, orders, observation_date, horizon_days, dimensions=dimensions\n",
    ")"
   ]
  },
  {
   "cell_type": "code",
   "execution_count": null,
   "metadata": {},
   "outputs": [],
   "source": [
    "# визуализация окупаемости с разбивкой по устройствам\n",
    "plot_ltv_roi(\n",
    "    ltv_grouped, ltv_history, roi_grouped, roi_history, horizon_days, window=14\n",
    ") "
   ]
  },
  {
   "cell_type": "markdown",
   "metadata": {},
   "source": [
    "- LTV стабильна и почти одинакова для всех устройств.\n",
    "- Но реклама окупается только для РС, хотя LTV ниже, чем у других устройств. Это связано с низкой стоимостью привлечения.\n",
    "- У iPhone и Mac стоимость привлечения выше, чем у остальных, а ROI самая низкая."
   ]
  },
  {
   "cell_type": "markdown",
   "metadata": {},
   "source": [
    "#### Oкупаемость рекламы с разбивкой по странам"
   ]
  },
  {
   "cell_type": "code",
   "execution_count": null,
   "metadata": {},
   "outputs": [],
   "source": [
    "# визуализация окупаемости с разбивкой по странам\n",
    "dimensions = ['region']\n",
    "\n",
    "ltv_raw, ltv_grouped, ltv_history, roi_grouped, roi_history = get_ltv(\n",
    "    profiles, orders, observation_date, horizon_days, dimensions=dimensions\n",
    ")\n",
    "\n",
    "plot_ltv_roi(\n",
    "    ltv_grouped, ltv_history, roi_grouped, roi_history, horizon_days, window=14\n",
    ") "
   ]
  },
  {
   "cell_type": "markdown",
   "metadata": {},
   "source": [
    "- LTV всё так же подвержен сезонности, но стабилен. \n",
    "- В Европе реклама окупается уже на 4 - 6 неделе. Стоимость привлечения в июне снижается на 1/3 и остается на одном уровне за весь период.\n",
    "- LTV в United States выше, чем в Европе. Но из-за высокой стоимости привлечения клиентов (более чем в 4 раза по сравнению с Европой) реклама в United States не окупается."
   ]
  },
  {
   "cell_type": "markdown",
   "metadata": {},
   "source": [
    "#### Oкупаемость рекламы с разбивкой по рекламным каналам"
   ]
  },
  {
   "cell_type": "code",
   "execution_count": null,
   "metadata": {
    "scrolled": true
   },
   "outputs": [],
   "source": [
    "# визуализация окупаемости с разбивкой по рекламным каналам\n",
    "dimensions = ['channel']\n",
    "\n",
    "ltv_raw, ltv_grouped, ltv_history, roi_grouped, roi_history = get_ltv(\n",
    "    profiles, orders, observation_date, horizon_days, dimensions=dimensions\n",
    ")\n",
    "\n",
    "plot_ltv_roi(\n",
    "    ltv_grouped, ltv_history, roi_grouped, roi_history, horizon_days, window=14\n",
    ") "
   ]
  },
  {
   "cell_type": "markdown",
   "metadata": {},
   "source": [
    "- У TipTop, FaceBoom и AdNonSense реклама не окупается. У этих же каналов самая высокая стоимость привлечения. \n",
    "- У остальных каналов реклама окупается и находится примерно на одном уровне. Чуть ниже ROI только у OppleCreativeMedia и WahooNetBanner.\n",
    "- У TipTop САС растет с каждым месяцем и в конце периода выше более чем в 3 раза остальных каналов.\n",
    "- У остальных источников стоимость привлечения стабильна за весь период. \n",
    "- Лучшие показатели LTV у lambdaMediaAds и TipTop. У канала lambdaMediaAds средняя САС.\n",
    "- Самые низкие показатели LTV у каналов OppleCreativeMedia, LeapBob, MediaTornado, YRabbit. У этих же каналов самая низкая стоимость привлечения.\t"
   ]
  },
  {
   "cell_type": "markdown",
   "metadata": {},
   "source": [
    "#### Конверсия и удержание пользователей с разбивкой по устройствам"
   ]
  },
  {
   "cell_type": "code",
   "execution_count": null,
   "metadata": {},
   "outputs": [],
   "source": [
    "print('Конверсия и удержание пользователей с разбивкой по устройствам')\n",
    "visualization_conversion_retention(['device'])"
   ]
  },
  {
   "cell_type": "markdown",
   "metadata": {},
   "source": [
    "- Хуже всего конвертируются пользователи РС. Mac и iPhone лидируют по конверсии.Немного от них отстает Android. \n",
    "- На графиках удержания всё наоборот: пользователи РС удерживаются лучше, а у Mac и iPhone самые низкие показатели. \n",
    "- В целом показатели не сильно отличаются друг от друга. Аномальных значений нет."
   ]
  },
  {
   "cell_type": "markdown",
   "metadata": {},
   "source": [
    "#### Конверсия и удержание пользователей с разбивкой по странам"
   ]
  },
  {
   "cell_type": "code",
   "execution_count": null,
   "metadata": {},
   "outputs": [],
   "source": [
    "print('Конверсия и удержание пользователей с разбивкой по странам')\n",
    "visualization_conversion_retention(['region'])"
   ]
  },
  {
   "cell_type": "markdown",
   "metadata": {},
   "source": [
    "Конверсия США примерно в 2 раза больше стран Европы. Но удержание заметно ниже остальных стран."
   ]
  },
  {
   "cell_type": "markdown",
   "metadata": {},
   "source": [
    "#### Конверсия и удержание пользователей с разбивкой по каналам привлечения"
   ]
  },
  {
   "cell_type": "code",
   "execution_count": null,
   "metadata": {
    "scrolled": false
   },
   "outputs": [],
   "source": [
    "print('Конверсия и удержание пользователей с разбивкой по каналам привлечения')\n",
    "visualization_conversion_retention(['channel'])"
   ]
  },
  {
   "cell_type": "markdown",
   "metadata": {},
   "source": [
    "- Самая лучшая конвертация у каналов FaceBoom, AdNonSense. Но у них же самое низкое удержание.\n",
    "- У остальных каналов удержание находится примерно на одном уровне\n",
    "- Самый низкий показатель конверсии у OppleCreativeMedia, LeapBob, MediaTornado и YRabbit."
   ]
  },
  {
   "cell_type": "markdown",
   "metadata": {
    "id": "Jn9XBfZCWVwo"
   },
   "source": [
    "### Напишите выводы\n",
    "\n",
    "- Выделите причины неэффективности привлечения пользователей.\n",
    "- Сформулируйте рекомендации для отдела маркетинга."
   ]
  },
  {
   "cell_type": "markdown",
   "metadata": {},
   "source": [
    "#### Общие выводы"
   ]
  },
  {
   "cell_type": "markdown",
   "metadata": {},
   "source": [
    "**Общие метрики**\n",
    "- Пользователи конвертируются хорошо и постоянно. Удержание тоже стабильно. \n",
    "- На LTV влияет сезонный фактор, но этот показатель достаточно стабилен. Значит, дело не в ухудшении качества пользователей.\n",
    "- ROI в конце двух недель около 80%. В мае окупаемость инвестиций имеет самые высокие показатели - выше 100%. С середины июня ROI падает ниже порога окупаемости.\n",
    "- CAC вырос почти в 2 раза с первоначальной стоимости.\n",
    "\n",
    "**Метрики по странам**\n",
    "- Несомненным лидиром по доле платящих пользователей является США, что составляет разницу почти в 2 раза больше чем у стран Европы. А количество платящих более чем в 3 раз больше всей Европы.\n",
    "- В Европе реклама окупается уже на 4 - 6 неделе. \n",
    "- LTV США выше чем у стран Европы, но реклама не окупается из-за высокой стоимости привлечения, которая в 4 раза выше чем у стран Европы. ROI \"дотягивает\" только до 70%.\n",
    "- Конверсия США примерно в 2 раза больше стран Европы. Но удержание заметно ниже остальных стран.\n",
    "\n",
    "**Метрики по устройствам**\n",
    "- Доля платящих пользователей примерно у всех одинаковая.\n",
    "- LTV стабильна и почти одинакова для всех устройств.\n",
    "- Но реклама окупается только для РС, хотя LTV ниже, чем у других устройств. Это связано с низкой стоимостью привлечения.\n",
    "- У iPhone и Mac стоимость привлечения выше, чем у остальных, а ROI самая низкая.\n",
    "- В целом показатели конверсии и удержания не сильно отличаются друг от друга.\n",
    "\n",
    "**Метрики по каналам привлечения**\n",
    "\n",
    "`FaceBoom:`\n",
    "- Лидер по доле платящих клиентов (12.2).\n",
    "- На втором месте по cредней стоимости привлечение одного пользователя (1.11), но почти в 3 раза меньше чем у TipTop.\n",
    "- Израсховано треть бюджета на маркетинг. Начиная с 3800 в мае повышается к августу. Далее остается примерно на одном уровне около 6000.\n",
    "- По LTV занимает среднюю позицию среди каналов.\n",
    "- Самая высокая конверсия, но самый низкий показатель удержания.\n",
    "- Реклама не окупается.\n",
    "\n",
    "`AdNonSense:`\n",
    "- Второе место по доле платящих клиентов (11.34).\n",
    "- Третье место по cредней стоимости привлечение одного пользователя (1.01).\n",
    "- На маркетинг израсходовано менее 4% бюджета. Распределение равномерное на весь период.\n",
    "- По LTV занимает среднюю позицию среди каналов.\n",
    "- Высокая конверсия (2 место), но очень низкий показатель удержания.\n",
    "- Реклама не окупается.\n",
    "\n",
    "`lambdaMediaAds:`\n",
    "- Третье место по доле платящих клиентов (10.47).\n",
    "- Четвертое место по cредней стоимости привлечение одного пользователя (0.72).\n",
    "- На маркетинг израсходовано менее 1.5% бюджета. Распределение равномерное на весь период.\n",
    "- Лидер по LTV.\n",
    "- Высокая конверсия (3 место), высокий показатель удержания.\n",
    "- Реклама окупается, один из высоких показателей ROI.\n",
    "\n",
    "`TipTop:`\n",
    "- По доле платящих клиентов занимает четвертое место (9.6).\n",
    "- Самая высокая cредняя стоимость привлечение одного пользователя (2.8), более в 2 раза больше чем у остальных источников. \n",
    "- Самые высокие расходы, которые с каждым месяцем увеличиваются начиная с отметки 3500 в мае и достигают примерно 13000 в сентябре. На маркетинг израсходовано больше 50% от общего бюджета.\n",
    "- По LTV занимает второе место, уступая lambdaMediaAds.\n",
    "- Высокая конверсия (4 место), хороший показатель удержания.\n",
    "- Реклама не окупается, самый низкий показатель ROI.\n",
    "\n",
    "`Остальные источники:`\n",
    "- Доля платящих клиентов менее 8%.\n",
    "- Средняя стоимость привлечение одного пользователя составляет от 0.2 до 0.6\n",
    "- Стоимость привлечения стабильна за весь период и составляет чуть более 12% общего бюджета на все каналы. \n",
    "- Самые низкие показатели LTV у каналов OppleCreativeMedia, LeapBob, MediaTornado, YRabbit. \t\n",
    "- Реклама окупается и находится примерно на одном уровне. Чуть ниже ROI только у OppleCreativeMedia и WahooNetBanner."
   ]
  },
  {
   "cell_type": "markdown",
   "metadata": {},
   "source": [
    "#### Рекомендации для отдела маркетинга"
   ]
  },
  {
   "cell_type": "markdown",
   "metadata": {
    "id": "Y8A6E79yWVwo"
   },
   "source": [
    "1. Хотя у США высокий показатель LTV и доля привлечения пользователей, но из-за высокой стоимости привлечения клиентов и низкого показателя удержания пользователей реклама не окупается. Рекомендовано снизить САС на United States. \n",
    "\n",
    "\n",
    "2. Переоценён канал TipTop. Реклама не окупается, самый низкий показатель ROI, т.к. у этого источника самая высокая cредняя стоимость привлечение одного пользователя и самые высокие расходы на маркетинг. Рекомендовано перенаправить деньги на более выгодный канал.\n",
    "\n",
    "\n",
    "3. Недооценён канал lambdaMediaAds, у которого высокая доля платящих клиентов и невысокая стоимость привлечение одного пользователя. У этого канала один из высоких показателей ROI, но очень маленькая доля бюджета на маркетинг. Рекомендовано повысить бюджет на рекламу."
   ]
  },
  {
   "cell_type": "code",
   "execution_count": null,
   "metadata": {},
   "outputs": [],
   "source": []
  }
 ],
 "metadata": {
  "ExecuteTimeLog": [
   {
    "duration": 1207,
    "start_time": "2023-03-21T16:26:19.786Z"
   },
   {
    "duration": 3,
    "start_time": "2023-03-21T16:26:20.995Z"
   },
   {
    "duration": 148,
    "start_time": "2023-03-21T16:26:21.000Z"
   },
   {
    "duration": 0,
    "start_time": "2023-03-21T16:26:21.151Z"
   },
   {
    "duration": 0,
    "start_time": "2023-03-21T16:26:21.152Z"
   },
   {
    "duration": 0,
    "start_time": "2023-03-21T16:26:21.153Z"
   },
   {
    "duration": 0,
    "start_time": "2023-03-21T16:26:21.155Z"
   },
   {
    "duration": 0,
    "start_time": "2023-03-21T16:26:21.156Z"
   },
   {
    "duration": 0,
    "start_time": "2023-03-21T16:26:21.157Z"
   },
   {
    "duration": 0,
    "start_time": "2023-03-21T16:26:21.159Z"
   },
   {
    "duration": 0,
    "start_time": "2023-03-21T16:26:21.160Z"
   },
   {
    "duration": 0,
    "start_time": "2023-03-21T16:26:21.161Z"
   },
   {
    "duration": 0,
    "start_time": "2023-03-21T16:26:21.163Z"
   },
   {
    "duration": 0,
    "start_time": "2023-03-21T16:26:21.164Z"
   },
   {
    "duration": 0,
    "start_time": "2023-03-21T16:26:21.165Z"
   },
   {
    "duration": 0,
    "start_time": "2023-03-21T16:26:21.167Z"
   },
   {
    "duration": 0,
    "start_time": "2023-03-21T16:26:21.197Z"
   },
   {
    "duration": 0,
    "start_time": "2023-03-21T16:26:21.199Z"
   },
   {
    "duration": 0,
    "start_time": "2023-03-21T16:26:21.200Z"
   },
   {
    "duration": 0,
    "start_time": "2023-03-21T16:26:21.202Z"
   },
   {
    "duration": 0,
    "start_time": "2023-03-21T16:26:21.203Z"
   },
   {
    "duration": 0,
    "start_time": "2023-03-21T16:26:21.205Z"
   },
   {
    "duration": 0,
    "start_time": "2023-03-21T16:26:21.206Z"
   },
   {
    "duration": 0,
    "start_time": "2023-03-21T16:26:21.207Z"
   },
   {
    "duration": 0,
    "start_time": "2023-03-21T16:26:21.208Z"
   },
   {
    "duration": 0,
    "start_time": "2023-03-21T16:26:21.209Z"
   },
   {
    "duration": 0,
    "start_time": "2023-03-21T16:26:21.210Z"
   },
   {
    "duration": 0,
    "start_time": "2023-03-21T16:26:21.211Z"
   },
   {
    "duration": 0,
    "start_time": "2023-03-21T16:26:21.212Z"
   },
   {
    "duration": 0,
    "start_time": "2023-03-21T16:26:21.213Z"
   },
   {
    "duration": 0,
    "start_time": "2023-03-21T16:26:21.214Z"
   },
   {
    "duration": 0,
    "start_time": "2023-03-21T16:26:21.216Z"
   },
   {
    "duration": 0,
    "start_time": "2023-03-21T16:26:21.217Z"
   },
   {
    "duration": 0,
    "start_time": "2023-03-21T16:26:21.218Z"
   },
   {
    "duration": 0,
    "start_time": "2023-03-21T16:26:21.219Z"
   },
   {
    "duration": 0,
    "start_time": "2023-03-21T16:26:21.221Z"
   },
   {
    "duration": 0,
    "start_time": "2023-03-21T16:26:21.221Z"
   },
   {
    "duration": 0,
    "start_time": "2023-03-21T16:26:21.223Z"
   },
   {
    "duration": 0,
    "start_time": "2023-03-21T16:26:21.224Z"
   },
   {
    "duration": 0,
    "start_time": "2023-03-21T16:26:21.225Z"
   },
   {
    "duration": 0,
    "start_time": "2023-03-21T16:26:21.226Z"
   },
   {
    "duration": 0,
    "start_time": "2023-03-21T16:26:21.227Z"
   },
   {
    "duration": 0,
    "start_time": "2023-03-21T16:26:21.228Z"
   },
   {
    "duration": 0,
    "start_time": "2023-03-21T16:26:21.229Z"
   },
   {
    "duration": 0,
    "start_time": "2023-03-21T16:26:21.231Z"
   },
   {
    "duration": 0,
    "start_time": "2023-03-21T16:26:21.232Z"
   },
   {
    "duration": 0,
    "start_time": "2023-03-21T16:26:21.233Z"
   },
   {
    "duration": 0,
    "start_time": "2023-03-21T16:26:21.234Z"
   },
   {
    "duration": 0,
    "start_time": "2023-03-21T16:26:21.297Z"
   },
   {
    "duration": 1209,
    "start_time": "2023-03-21T16:27:01.693Z"
   },
   {
    "duration": 3,
    "start_time": "2023-03-21T16:27:02.904Z"
   },
   {
    "duration": 1419,
    "start_time": "2023-03-21T16:27:02.908Z"
   },
   {
    "duration": 2,
    "start_time": "2023-03-21T16:27:04.329Z"
   },
   {
    "duration": 21,
    "start_time": "2023-03-21T16:27:04.333Z"
   },
   {
    "duration": 75,
    "start_time": "2023-03-21T16:27:04.355Z"
   },
   {
    "duration": 8,
    "start_time": "2023-03-21T16:27:04.432Z"
   },
   {
    "duration": 29,
    "start_time": "2023-03-21T16:27:04.441Z"
   },
   {
    "duration": 8,
    "start_time": "2023-03-21T16:27:04.472Z"
   },
   {
    "duration": 21,
    "start_time": "2023-03-21T16:27:04.482Z"
   },
   {
    "duration": 8,
    "start_time": "2023-03-21T16:27:04.505Z"
   },
   {
    "duration": 14,
    "start_time": "2023-03-21T16:27:04.514Z"
   },
   {
    "duration": 155,
    "start_time": "2023-03-21T16:27:04.530Z"
   },
   {
    "duration": 9,
    "start_time": "2023-03-21T16:27:04.689Z"
   },
   {
    "duration": 63,
    "start_time": "2023-03-21T16:27:04.700Z"
   },
   {
    "duration": 7,
    "start_time": "2023-03-21T16:27:04.765Z"
   },
   {
    "duration": 23,
    "start_time": "2023-03-21T16:27:04.774Z"
   },
   {
    "duration": 18,
    "start_time": "2023-03-21T16:27:04.799Z"
   },
   {
    "duration": 32,
    "start_time": "2023-03-21T16:27:04.819Z"
   },
   {
    "duration": 24,
    "start_time": "2023-03-21T16:27:04.853Z"
   },
   {
    "duration": 19,
    "start_time": "2023-03-21T16:27:04.879Z"
   },
   {
    "duration": 15,
    "start_time": "2023-03-21T16:27:04.900Z"
   },
   {
    "duration": 23,
    "start_time": "2023-03-21T16:27:04.917Z"
   },
   {
    "duration": 49,
    "start_time": "2023-03-21T16:30:06.229Z"
   },
   {
    "duration": 1122,
    "start_time": "2023-03-21T16:30:08.244Z"
   },
   {
    "duration": 96,
    "start_time": "2023-03-21T16:30:09.367Z"
   },
   {
    "duration": 1152,
    "start_time": "2023-03-29T13:38:55.593Z"
   },
   {
    "duration": 2,
    "start_time": "2023-03-29T13:38:56.747Z"
   },
   {
    "duration": 1461,
    "start_time": "2023-03-29T13:38:56.752Z"
   },
   {
    "duration": 13,
    "start_time": "2023-03-29T13:38:58.215Z"
   },
   {
    "duration": 69,
    "start_time": "2023-03-29T13:38:58.230Z"
   },
   {
    "duration": 7,
    "start_time": "2023-03-29T13:38:58.301Z"
   },
   {
    "duration": 24,
    "start_time": "2023-03-29T13:38:58.310Z"
   },
   {
    "duration": 8,
    "start_time": "2023-03-29T13:38:58.336Z"
   },
   {
    "duration": 12,
    "start_time": "2023-03-29T13:38:58.362Z"
   },
   {
    "duration": 3,
    "start_time": "2023-03-29T13:38:58.378Z"
   },
   {
    "duration": 10,
    "start_time": "2023-03-29T13:38:58.382Z"
   },
   {
    "duration": 157,
    "start_time": "2023-03-29T13:38:58.394Z"
   },
   {
    "duration": 8,
    "start_time": "2023-03-29T13:38:58.553Z"
   },
   {
    "duration": 79,
    "start_time": "2023-03-29T13:38:58.563Z"
   },
   {
    "duration": 23,
    "start_time": "2023-03-29T13:38:58.645Z"
   },
   {
    "duration": 9,
    "start_time": "2023-03-29T13:38:58.669Z"
   },
   {
    "duration": 8,
    "start_time": "2023-03-29T13:38:58.679Z"
   },
   {
    "duration": 10,
    "start_time": "2023-03-29T13:38:58.689Z"
   },
   {
    "duration": 25,
    "start_time": "2023-03-29T13:38:58.701Z"
   },
   {
    "duration": 9,
    "start_time": "2023-03-29T13:38:58.729Z"
   },
   {
    "duration": 22,
    "start_time": "2023-03-29T13:38:58.740Z"
   },
   {
    "duration": 12,
    "start_time": "2023-03-29T13:38:58.764Z"
   },
   {
    "duration": 485,
    "start_time": "2023-03-29T13:38:58.778Z"
   },
   {
    "duration": 59,
    "start_time": "2023-03-29T13:38:59.264Z"
   },
   {
    "duration": 78,
    "start_time": "2023-03-29T13:38:59.326Z"
   },
   {
    "duration": 4,
    "start_time": "2023-03-29T13:38:59.406Z"
   },
   {
    "duration": 65,
    "start_time": "2023-03-29T13:38:59.412Z"
   },
   {
    "duration": 41,
    "start_time": "2023-03-29T13:38:59.481Z"
   },
   {
    "duration": 63,
    "start_time": "2023-03-29T13:38:59.523Z"
   },
   {
    "duration": 235,
    "start_time": "2023-03-29T13:38:59.587Z"
   },
   {
    "duration": 6,
    "start_time": "2023-03-29T13:38:59.824Z"
   },
   {
    "duration": 10,
    "start_time": "2023-03-29T13:38:59.831Z"
   },
   {
    "duration": 35,
    "start_time": "2023-03-29T13:38:59.843Z"
   },
   {
    "duration": 24,
    "start_time": "2023-03-29T13:38:59.879Z"
   },
   {
    "duration": 27,
    "start_time": "2023-03-29T13:38:59.905Z"
   },
   {
    "duration": 39,
    "start_time": "2023-03-29T13:38:59.934Z"
   },
   {
    "duration": 582,
    "start_time": "2023-03-29T13:38:59.975Z"
   },
   {
    "duration": 8,
    "start_time": "2023-03-29T13:39:00.562Z"
   },
   {
    "duration": 40,
    "start_time": "2023-03-29T13:39:00.573Z"
   },
   {
    "duration": 26,
    "start_time": "2023-03-29T13:39:00.615Z"
   },
   {
    "duration": 255,
    "start_time": "2023-03-29T13:39:00.643Z"
   },
   {
    "duration": 1598,
    "start_time": "2023-03-29T13:39:00.900Z"
   },
   {
    "duration": 482,
    "start_time": "2023-03-29T13:39:02.501Z"
   },
   {
    "duration": 680,
    "start_time": "2023-03-29T13:39:02.985Z"
   },
   {
    "duration": 1216,
    "start_time": "2023-03-29T13:39:03.666Z"
   },
   {
    "duration": 295,
    "start_time": "2023-03-29T13:39:04.884Z"
   },
   {
    "duration": 1919,
    "start_time": "2023-03-29T13:39:05.181Z"
   },
   {
    "duration": 2308,
    "start_time": "2023-03-29T13:39:07.102Z"
   },
   {
    "duration": 2659,
    "start_time": "2023-03-29T13:39:09.412Z"
   },
   {
    "duration": 1281,
    "start_time": "2023-03-31T14:48:10.541Z"
   },
   {
    "duration": 3,
    "start_time": "2023-03-31T14:48:11.824Z"
   },
   {
    "duration": 1469,
    "start_time": "2023-03-31T14:48:11.828Z"
   },
   {
    "duration": 13,
    "start_time": "2023-03-31T14:48:13.299Z"
   },
   {
    "duration": 82,
    "start_time": "2023-03-31T14:48:13.314Z"
   },
   {
    "duration": 11,
    "start_time": "2023-03-31T14:48:13.397Z"
   },
   {
    "duration": 50,
    "start_time": "2023-03-31T14:48:13.409Z"
   },
   {
    "duration": 25,
    "start_time": "2023-03-31T14:48:13.461Z"
   },
   {
    "duration": 25,
    "start_time": "2023-03-31T14:48:13.487Z"
   },
   {
    "duration": 16,
    "start_time": "2023-03-31T14:48:13.515Z"
   },
   {
    "duration": 24,
    "start_time": "2023-03-31T14:48:13.532Z"
   },
   {
    "duration": 159,
    "start_time": "2023-03-31T14:48:13.558Z"
   },
   {
    "duration": 5,
    "start_time": "2023-03-31T14:48:13.718Z"
   },
   {
    "duration": 62,
    "start_time": "2023-03-31T14:48:13.724Z"
   },
   {
    "duration": 190,
    "start_time": "2023-03-31T14:48:13.787Z"
   },
   {
    "duration": 12,
    "start_time": "2023-03-31T14:48:13.978Z"
   },
   {
    "duration": 18,
    "start_time": "2023-03-31T14:48:13.991Z"
   },
   {
    "duration": 24,
    "start_time": "2023-03-31T14:48:14.011Z"
   },
   {
    "duration": 12,
    "start_time": "2023-03-31T14:48:14.037Z"
   },
   {
    "duration": 23,
    "start_time": "2023-03-31T14:48:14.051Z"
   },
   {
    "duration": 28,
    "start_time": "2023-03-31T14:48:14.076Z"
   },
   {
    "duration": 18,
    "start_time": "2023-03-31T14:48:14.106Z"
   },
   {
    "duration": 28,
    "start_time": "2023-03-31T14:48:14.125Z"
   },
   {
    "duration": 30,
    "start_time": "2023-03-31T14:48:14.155Z"
   },
   {
    "duration": 19,
    "start_time": "2023-03-31T14:48:14.186Z"
   },
   {
    "duration": 18,
    "start_time": "2023-03-31T14:48:14.207Z"
   },
   {
    "duration": 469,
    "start_time": "2023-03-31T14:48:14.227Z"
   },
   {
    "duration": 59,
    "start_time": "2023-03-31T14:48:14.699Z"
   },
   {
    "duration": 71,
    "start_time": "2023-03-31T14:48:14.760Z"
   },
   {
    "duration": 4,
    "start_time": "2023-03-31T14:48:14.833Z"
   },
   {
    "duration": 53,
    "start_time": "2023-03-31T14:48:14.839Z"
   },
   {
    "duration": 50,
    "start_time": "2023-03-31T14:48:14.894Z"
   },
   {
    "duration": 40,
    "start_time": "2023-03-31T14:48:14.946Z"
   },
   {
    "duration": 246,
    "start_time": "2023-03-31T14:48:14.988Z"
   },
   {
    "duration": 5,
    "start_time": "2023-03-31T14:48:15.235Z"
   },
   {
    "duration": 11,
    "start_time": "2023-03-31T14:48:15.242Z"
   },
   {
    "duration": 29,
    "start_time": "2023-03-31T14:48:15.254Z"
   },
   {
    "duration": 24,
    "start_time": "2023-03-31T14:48:15.285Z"
   },
   {
    "duration": 43,
    "start_time": "2023-03-31T14:48:15.311Z"
   },
   {
    "duration": 13,
    "start_time": "2023-03-31T14:48:15.356Z"
   },
   {
    "duration": 583,
    "start_time": "2023-03-31T14:48:15.371Z"
   },
   {
    "duration": 10,
    "start_time": "2023-03-31T14:48:15.956Z"
   },
   {
    "duration": 26,
    "start_time": "2023-03-31T14:48:15.968Z"
   },
   {
    "duration": 3,
    "start_time": "2023-03-31T14:48:15.996Z"
   },
   {
    "duration": 262,
    "start_time": "2023-03-31T14:48:16.001Z"
   },
   {
    "duration": 1557,
    "start_time": "2023-03-31T14:48:16.264Z"
   },
   {
    "duration": 4,
    "start_time": "2023-03-31T14:48:17.823Z"
   },
   {
    "duration": 2385,
    "start_time": "2023-03-31T14:48:17.833Z"
   },
   {
    "duration": 296,
    "start_time": "2023-03-31T14:48:20.220Z"
   },
   {
    "duration": 1849,
    "start_time": "2023-03-31T14:48:20.518Z"
   },
   {
    "duration": 2219,
    "start_time": "2023-03-31T14:48:22.368Z"
   },
   {
    "duration": 2684,
    "start_time": "2023-03-31T14:48:24.589Z"
   },
   {
    "duration": 2659,
    "start_time": "2023-03-31T14:48:27.275Z"
   },
   {
    "duration": 2571,
    "start_time": "2023-03-31T14:48:29.935Z"
   },
   {
    "duration": 4045,
    "start_time": "2023-03-31T14:48:32.508Z"
   }
  ],
  "colab": {
   "provenance": []
  },
  "kernelspec": {
   "display_name": "Python 3 (ipykernel)",
   "language": "python",
   "name": "python3"
  },
  "language_info": {
   "codemirror_mode": {
    "name": "ipython",
    "version": 3
   },
   "file_extension": ".py",
   "mimetype": "text/x-python",
   "name": "python",
   "nbconvert_exporter": "python",
   "pygments_lexer": "ipython3",
   "version": "3.11.5"
  },
  "toc": {
   "base_numbering": 1,
   "nav_menu": {},
   "number_sections": true,
   "sideBar": true,
   "skip_h1_title": true,
   "title_cell": "Table of Contents",
   "title_sidebar": "Contents",
   "toc_cell": false,
   "toc_position": {
    "height": "calc(100% - 180px)",
    "left": "10px",
    "top": "150px",
    "width": "398.477px"
   },
   "toc_section_display": true,
   "toc_window_display": false
  }
 },
 "nbformat": 4,
 "nbformat_minor": 1
}
