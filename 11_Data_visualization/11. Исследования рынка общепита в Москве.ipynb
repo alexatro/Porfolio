{
 "cells": [
  {
   "cell_type": "markdown",
   "id": "fab38ed6",
   "metadata": {
    "toc": true
   },
   "source": [
    "<h1>Table of Contents<span class=\"tocSkip\"></span></h1>\n",
    "<div class=\"toc\"><ul class=\"toc-item\"><li><ul class=\"toc-item\"><li><span><a href=\"#Описание-проекта\" data-toc-modified-id=\"Описание-проекта-0.1\"><span class=\"toc-item-num\">0.1&nbsp;&nbsp;</span>Описание проекта</a></span></li><li><span><a href=\"#Описание-данных\" data-toc-modified-id=\"Описание-данных-0.2\"><span class=\"toc-item-num\">0.2&nbsp;&nbsp;</span>Описание данных</a></span></li><li><span><a href=\"#Инструкция-по-выполнению-проекта\" data-toc-modified-id=\"Инструкция-по-выполнению-проекта-0.3\"><span class=\"toc-item-num\">0.3&nbsp;&nbsp;</span>Инструкция по выполнению проекта</a></span><ul class=\"toc-item\"><li><span><a href=\"#Шаг-1.-Загрузите-данные-и-изучите-общую-информацию\" data-toc-modified-id=\"Шаг-1.-Загрузите-данные-и-изучите-общую-информацию-0.3.1\"><span class=\"toc-item-num\">0.3.1&nbsp;&nbsp;</span>Шаг 1. Загрузите данные и изучите общую информацию</a></span></li><li><span><a href=\"#Шаг-2.-Выполните-предобработку-данных\" data-toc-modified-id=\"Шаг-2.-Выполните-предобработку-данных-0.3.2\"><span class=\"toc-item-num\">0.3.2&nbsp;&nbsp;</span>Шаг 2. Выполните предобработку данных</a></span></li><li><span><a href=\"#Шаг-3.-Анализ-данных\" data-toc-modified-id=\"Шаг-3.-Анализ-данных-0.3.3\"><span class=\"toc-item-num\">0.3.3&nbsp;&nbsp;</span>Шаг 3. Анализ данных</a></span></li><li><span><a href=\"#Шаг-4.-Детализируем-исследование:-открытие-кофейни\" data-toc-modified-id=\"Шаг-4.-Детализируем-исследование:-открытие-кофейни-0.3.4\"><span class=\"toc-item-num\">0.3.4&nbsp;&nbsp;</span>Шаг 4. Детализируем исследование: открытие кофейни</a></span></li><li><span><a href=\"#Шаг-5.-Подготовка-презентации\" data-toc-modified-id=\"Шаг-5.-Подготовка-презентации-0.3.5\"><span class=\"toc-item-num\">0.3.5&nbsp;&nbsp;</span>Шаг 5. Подготовка презентации</a></span></li></ul></li></ul></li><li><span><a href=\"#Загрузка-данных\" data-toc-modified-id=\"Загрузка-данных-1\"><span class=\"toc-item-num\">1&nbsp;&nbsp;</span>Загрузка данных</a></span></li><li><span><a href=\"#Предобработка-данных\" data-toc-modified-id=\"Предобработка-данных-2\"><span class=\"toc-item-num\">2&nbsp;&nbsp;</span>Предобработка данных</a></span><ul class=\"toc-item\"><li><span><a href=\"#Удаление-дубликатов\" data-toc-modified-id=\"Удаление-дубликатов-2.1\"><span class=\"toc-item-num\">2.1&nbsp;&nbsp;</span>Удаление дубликатов</a></span></li><li><span><a href=\"#Добавление-столбца-street-с-названиями-улиц\" data-toc-modified-id=\"Добавление-столбца-street-с-названиями-улиц-2.2\"><span class=\"toc-item-num\">2.2&nbsp;&nbsp;</span>Добавление столбца street с названиями улиц</a></span></li><li><span><a href=\"#Добавление-столбца-is_24/7\" data-toc-modified-id=\"Добавление-столбца-is_24/7-2.3\"><span class=\"toc-item-num\">2.3&nbsp;&nbsp;</span>Добавление столбца is_24/7</a></span></li></ul></li><li><span><a href=\"#Анализ-данных\" data-toc-modified-id=\"Анализ-данных-3\"><span class=\"toc-item-num\">3&nbsp;&nbsp;</span>Анализ данных</a></span><ul class=\"toc-item\"><li><span><a href=\"#Распределение-заведений-по-категориям\" data-toc-modified-id=\"Распределение-заведений-по-категориям-3.1\"><span class=\"toc-item-num\">3.1&nbsp;&nbsp;</span>Распределение заведений по категориям</a></span></li><li><span><a href=\"#Исследование-количества-посадочных-мест-по-категориям\" data-toc-modified-id=\"Исследование-количества-посадочных-мест-по-категориям-3.2\"><span class=\"toc-item-num\">3.2&nbsp;&nbsp;</span>Исследование количества посадочных мест по категориям</a></span></li><li><span><a href=\"#Cоотношение-сетевых-и-несетевых-заведений\" data-toc-modified-id=\"Cоотношение-сетевых-и-несетевых-заведений-3.3\"><span class=\"toc-item-num\">3.3&nbsp;&nbsp;</span>Cоотношение сетевых и несетевых заведений</a></span></li><li><span><a href=\"#Доля-сетевых-заведений-по-категориям\" data-toc-modified-id=\"Доля-сетевых-заведений-по-категориям-3.4\"><span class=\"toc-item-num\">3.4&nbsp;&nbsp;</span>Доля сетевых заведений по категориям</a></span></li><li><span><a href=\"#Tоп-15-популярных-сетей-в-Москве\" data-toc-modified-id=\"Tоп-15-популярных-сетей-в-Москве-3.5\"><span class=\"toc-item-num\">3.5&nbsp;&nbsp;</span>Tоп-15 популярных сетей в Москве</a></span></li><li><span><a href=\"#Количество-заведений-каждой-категории-по-районам\" data-toc-modified-id=\"Количество-заведений-каждой-категории-по-районам-3.6\"><span class=\"toc-item-num\">3.6&nbsp;&nbsp;</span>Количество заведений каждой категории по районам</a></span></li><li><span><a href=\"#Cредний--рейтинг-по-категориям-заведений\" data-toc-modified-id=\"Cредний--рейтинг-по-категориям-заведений-3.7\"><span class=\"toc-item-num\">3.7&nbsp;&nbsp;</span>Cредний  рейтинг по категориям заведений</a></span></li><li><span><a href=\"#Фоновая-картограммa-со-средним-рейтингом-заведений-каждого-района\" data-toc-modified-id=\"Фоновая-картограммa-со-средним-рейтингом-заведений-каждого-района-3.8\"><span class=\"toc-item-num\">3.8&nbsp;&nbsp;</span>Фоновая картограммa со средним рейтингом заведений каждого района</a></span></li><li><span><a href=\"#Все-заведения-датасета-на-карте\" data-toc-modified-id=\"Все-заведения-датасета-на-карте-3.9\"><span class=\"toc-item-num\">3.9&nbsp;&nbsp;</span>Все заведения датасета на карте</a></span></li><li><span><a href=\"#Tоп-15-улиц-по-количеству-заведений\" data-toc-modified-id=\"Tоп-15-улиц-по-количеству-заведений-3.10\"><span class=\"toc-item-num\">3.10&nbsp;&nbsp;</span>Tоп-15 улиц по количеству заведений</a></span></li><li><span><a href=\"#Улицы-с-одним-объектом-общепита\" data-toc-modified-id=\"Улицы-с-одним-объектом-общепита-3.11\"><span class=\"toc-item-num\">3.11&nbsp;&nbsp;</span>Улицы с одним объектом общепита</a></span></li><li><span><a href=\"#Фоновая-картограмма-медиан-средних-чеков-заведений-для-каждого-района\" data-toc-modified-id=\"Фоновая-картограмма-медиан-средних-чеков-заведений-для-каждого-района-3.12\"><span class=\"toc-item-num\">3.12&nbsp;&nbsp;</span>Фоновая картограмма медиан средних чеков заведений для каждого района</a></span></li><li><span><a href=\"#Другие-взаимосвязи\" data-toc-modified-id=\"Другие-взаимосвязи-3.13\"><span class=\"toc-item-num\">3.13&nbsp;&nbsp;</span>Другие взаимосвязи</a></span></li><li><span><a href=\"#Выводы\" data-toc-modified-id=\"Выводы-3.14\"><span class=\"toc-item-num\">3.14&nbsp;&nbsp;</span>Выводы</a></span></li></ul></li><li><span><a href=\"#Детализируем-исследование:-открытие-кофейни\" data-toc-modified-id=\"Детализируем-исследование:-открытие-кофейни-4\"><span class=\"toc-item-num\">4&nbsp;&nbsp;</span>Детализируем исследование: открытие кофейни</a></span><ul class=\"toc-item\"><li><span><a href=\"#Количество-кофеeн-по-районам\" data-toc-modified-id=\"Количество-кофеeн-по-районам-4.1\"><span class=\"toc-item-num\">4.1&nbsp;&nbsp;</span>Количество кофеeн по районам</a></span></li><li><span><a href=\"#Круглосуточные-кофейни\" data-toc-modified-id=\"Круглосуточные-кофейни-4.2\"><span class=\"toc-item-num\">4.2&nbsp;&nbsp;</span>Круглосуточные кофейни</a></span></li><li><span><a href=\"#Рейтинги-кофеен-по-районам\" data-toc-modified-id=\"Рейтинги-кофеен-по-районам-4.3\"><span class=\"toc-item-num\">4.3&nbsp;&nbsp;</span>Рейтинги кофеен по районам</a></span></li><li><span><a href=\"#Стоимость-чашки-капучино\" data-toc-modified-id=\"Стоимость-чашки-капучино-4.4\"><span class=\"toc-item-num\">4.4&nbsp;&nbsp;</span>Стоимость чашки капучино</a></span></li><li><span><a href=\"#Медианы-средних-чеков-кофеен-по-районам\" data-toc-modified-id=\"Медианы-средних-чеков-кофеен-по-районам-4.5\"><span class=\"toc-item-num\">4.5&nbsp;&nbsp;</span>Медианы средних чеков кофеен по районам</a></span></li><li><span><a href=\"#Доля-сетевых-кофеен-по-округам\" data-toc-modified-id=\"Доля-сетевых-кофеен-по-округам-4.6\"><span class=\"toc-item-num\">4.6&nbsp;&nbsp;</span>Доля сетевых кофеен по округам</a></span></li><li><span><a href=\"#Рекомендации\" data-toc-modified-id=\"Рекомендации-4.7\"><span class=\"toc-item-num\">4.7&nbsp;&nbsp;</span>Рекомендации</a></span></li></ul></li></ul></div>"
   ]
  },
  {
   "cell_type": "markdown",
   "id": "520dc893",
   "metadata": {},
   "source": [
    "# Рынок заведений общественного питания Москвы"
   ]
  },
  {
   "cell_type": "markdown",
   "id": "bd5d0ecb",
   "metadata": {
    "heading_collapsed": true
   },
   "source": [
    "### Описание проекта "
   ]
  },
  {
   "cell_type": "markdown",
   "id": "f83bdab4",
   "metadata": {
    "hidden": true
   },
   "source": [
    "Инвесторы из фонда «Shut Up and Take My Money» решили попробовать себя в новой области и открыть заведение общественного питания в Москве. Заказчики ещё не знают, что это будет за место: кафе, ресторан, пиццерия, паб или бар, — и какими будут расположение, меню и цены.\n",
    "\n",
    "Для начала они просят вас — аналитика — подготовить исследование рынка Москвы, найти интересные особенности и презентовать полученные результаты, которые в будущем помогут в выборе подходящего инвесторам места.\n",
    "\n",
    "Постарайтесь сделать презентацию информативной и лаконичной. Её структура и оформление сильно влияют на восприятие информации читателями вашего исследования. Выбирать инструменты (matplotlib, seaborn и другие) и типы визуализаций вы можете самостоятельно.\n",
    "\n",
    "Вам доступен датасет с заведениями общественного питания Москвы, составленный на основе данных сервисов Яндекс Карты и Яндекс Бизнес на лето 2022 года. Информация, размещённая в сервисе Яндекс Бизнес, могла быть добавлена пользователями или найдена в общедоступных источниках. Она носит исключительно справочный характер."
   ]
  },
  {
   "cell_type": "markdown",
   "id": "f8ede0bb",
   "metadata": {
    "heading_collapsed": true
   },
   "source": [
    "### Описание данных"
   ]
  },
  {
   "cell_type": "markdown",
   "id": "e7f917a7",
   "metadata": {
    "hidden": true
   },
   "source": [
    "**Файл `moscow_places.csv`:**\n",
    "- `name` — название заведения;\n",
    "- `address` — адрес заведения;\n",
    "- `category` — категория заведения, например «кафе», «пиццерия» или «кофейня»;\n",
    "- `hours` — информация о днях и часах работы;\n",
    "- `lat` — широта географической точки, в которой находится заведение;\n",
    "- `lng` — долгота географической точки, в которой находится заведение;\n",
    "- `rating` — рейтинг заведения по оценкам пользователей в Яндекс Картах (высшая оценка — 5.0);\n",
    "- `price` — категория цен в заведении, например «средние», «ниже среднего», «выше среднего» и так далее;\n",
    "- `avg_bill` — строка, которая хранит среднюю стоимость заказа в виде диапазона, например:\n",
    "  - «Средний счёт: 1000–1500 ₽»;\n",
    "  - «Цена чашки капучино: 130–220 ₽»;\n",
    "  - «Цена бокала пива: 400–600 ₽».\n",
    "и так далее;\n",
    "- `middle_avg_bill` — число с оценкой среднего чека, которое указано только для значений из столбца `avg_bill`, начинающихся с подстроки «Средний счёт»:\n",
    "   - Если в строке указан ценовой диапазон из двух значений, в столбец войдёт медиана этих двух значений.\n",
    "   - Если в строке указано одно число — цена без диапазона, то в столбец войдёт это число.\n",
    "   - Если значения нет или оно не начинается с подстроки «Средний счёт», то в столбец ничего не войдёт.\n",
    "- `middle_coffee_cup` — число с оценкой одной чашки капучино, которое указано только для значений из столбца `avg_bill`, начинающихся с подстроки «Цена одной чашки капучино»:\n",
    "   - Если в строке указан ценовой диапазон из двух значений, в столбец войдёт медиана этих двух значений.\n",
    "   - Если в строке указано одно число — цена без диапазона, то в столбец войдёт это число.\n",
    "   - Если значения нет или оно не начинается с подстроки «Цена одной чашки капучино», то в столбец ничего не войдёт.\n",
    "- `chain` — число, выраженное 0 или 1, которое показывает, является ли заведение сетевым (для маленьких сетей могут встречаться ошибки):\n",
    "  - 0 — заведение не является сетевым\n",
    "  - 1 — заведение является сетевым\n",
    "- `district` — административный район, в котором находится заведение, например Центральный административный округ;\n",
    "- `seats` — количество посадочных мест."
   ]
  },
  {
   "cell_type": "markdown",
   "id": "7b9430e0",
   "metadata": {},
   "source": [
    "### Инструкция по выполнению проекта"
   ]
  },
  {
   "cell_type": "markdown",
   "id": "862aa1b4",
   "metadata": {
    "heading_collapsed": true
   },
   "source": [
    "#### Шаг 1. Загрузите данные и изучите общую информацию"
   ]
  },
  {
   "cell_type": "markdown",
   "id": "cf3a9c15",
   "metadata": {
    "hidden": true
   },
   "source": [
    "Загрузите данные о заведениях общественного питания Москвы.\n",
    "Путь к файлу: /datasets/moscow_places.csv.\n",
    "\n",
    "- Изучите общую информацию о датасете. \n",
    "- Сколько заведений представлено? \n",
    "- Что можно сказать о каждом столбце? \n",
    "- Значения какого типа они хранят? "
   ]
  },
  {
   "cell_type": "markdown",
   "id": "1a3e2a28",
   "metadata": {
    "heading_collapsed": true
   },
   "source": [
    "#### Шаг 2. Выполните предобработку данных"
   ]
  },
  {
   "cell_type": "markdown",
   "id": "1062419b",
   "metadata": {
    "hidden": true
   },
   "source": [
    "Изучите, есть ли дубликаты в данных. Поищите пропуски: встречаются ли они, в каких столбцах? Можно ли их обработать или оставить как есть?\n",
    "\n",
    "Выполните предобработку данных:\n",
    "- Создайте столбец street с названиями улиц из столбца с адресом.\n",
    "- Создайте столбец is_24/7 с обозначением, что заведение работает ежедневно и круглосуточно (24/7):\n",
    "   - логическое значение True — если заведение работает ежедневно и круглосуточно;\n",
    "   - логическое значение False — в противоположном случае."
   ]
  },
  {
   "cell_type": "markdown",
   "id": "009ee5ed",
   "metadata": {
    "heading_collapsed": true
   },
   "source": [
    "#### Шаг 3. Анализ данных"
   ]
  },
  {
   "cell_type": "markdown",
   "id": "5fc4a74b",
   "metadata": {
    "hidden": true
   },
   "source": [
    "1. Какие категории заведений представлены в данных? Исследуйте количество объектов общественного питания по категориям: рестораны, кофейни, пиццерии, бары и так далее. Постройте визуализации. Ответьте на вопрос о распределении заведений по категориям.\n",
    "2. Исследуйте количество посадочных мест в местах по категориям: рестораны, кофейни, пиццерии, бары и так далее. Постройте визуализации. Проанализируйте результаты и сделайте выводы.\n",
    "3. Рассмотрите и изобразите соотношение сетевых и несетевых заведений в датасете. Каких заведений больше?\n",
    "4. Какие категории заведений чаще являются сетевыми? Исследуйте данные и ответьте на вопрос графиком.\n",
    "5. Сгруппируйте данные по названиям заведений и найдите топ-15 популярных сетей в Москве. Под популярностью понимается количество заведений этой сети в регионе. Постройте подходящую для такой информации визуализацию. Знакомы ли вам эти сети? Есть ли какой-то признак, который их объединяет? К какой категории заведений они относятся?\n",
    "6. Какие административные районы Москвы присутствуют в датасете? Отобразите общее количество заведений и количество заведений каждой категории по районам. Попробуйте проиллюстрировать эту информацию одним графиком.\n",
    "7. Визуализируйте распределение средних рейтингов по категориям заведений. Сильно ли различаются усреднённые рейтинги в разных типах общепита?\n",
    "8. Постройте фоновую картограмму (хороплет) со средним рейтингом заведений каждого района. Границы районов Москвы, которые встречаются в датасете, хранятся в файле `admin_level_geomap.geojson`.\n",
    "9. Отобразите все заведения датасета на карте с помощью кластеров средствами библиотеки `folium`.\n",
    "10. Найдите топ-15 улиц по количеству заведений. Постройте график распределения количества заведений и их категорий по этим улицам. Попробуйте проиллюстрировать эту информацию одним графиком.\n",
    "11. Найдите улицы, на которых находится только один объект общепита. Что можно сказать об этих заведениях?\n",
    "12. Значения средних чеков заведений хранятся в столбце `middle_avg_bill`. Эти числа показывают примерную стоимость заказа в рублях, которая чаще всего выражена диапазоном. Посчитайте медиану этого столбца для каждого района. Используйте это значение в качестве ценового индикатора района. Постройте фоновую картограмму (хороплет) с полученными значениями для каждого района. Проанализируйте цены в центральном административном округе и других. Как удалённость от центра влияет на цены в заведениях?\n",
    "13. Необязательное задание: проиллюстрируйте другие взаимосвязи, которые вы нашли в данных. Например, по желанию исследуйте часы работы заведений и их зависимость от расположения и категории заведения. Также можно исследовать особенности заведений с плохими рейтингами, средние чеки в таких местах и распределение по категориям заведений.\n",
    "14. Соберите наблюдения по вопросам выше в один общий вывод."
   ]
  },
  {
   "cell_type": "markdown",
   "id": "aa16982d",
   "metadata": {
    "heading_collapsed": true
   },
   "source": [
    "#### Шаг 4. Детализируем исследование: открытие кофейни"
   ]
  },
  {
   "cell_type": "markdown",
   "id": "6c72144b",
   "metadata": {
    "hidden": true
   },
   "source": [
    "Основателям фонда «Shut Up and Take My Money» не даёт покоя успех сериала «Друзья». Их мечта — открыть такую же крутую и доступную, как «Central Perk», кофейню в Москве. Будем считать, что заказчики не боятся конкуренции в этой сфере, ведь кофеен в больших городах уже достаточно. Попробуйте определить, осуществима ли мечта клиентов.\n",
    "\n",
    "Ответьте на следующие вопросы:\n",
    "- Сколько всего кофеен в датасете? В каких районах их больше всего, каковы особенности их расположения?\n",
    "- Есть ли круглосуточные кофейни?\n",
    "- Какие у кофеен рейтинги? Как они распределяются по районам?\n",
    "- На какую стоимость чашки капучино стоит ориентироваться при открытии и почему?\n",
    "\n",
    "По желанию вы можете расширить список вопросов для исследования, добавив собственные.\n",
    "\n",
    "Постройте визуализации. Попробуйте дать рекомендацию для открытия нового заведения. Это творческое задание: здесь нет правильного или неправильного ответа, но ваше решение должно быть чем-то обосновано. Объяснить свою рекомендацию можно текстом с описанием или маркерами на географической карте."
   ]
  },
  {
   "cell_type": "markdown",
   "id": "a62493ec",
   "metadata": {},
   "source": [
    "#### Шаг 5. Подготовка презентации"
   ]
  },
  {
   "cell_type": "markdown",
   "id": "dce9751b",
   "metadata": {},
   "source": [
    "Подготовьте презентацию исследования для инвесторов. Отвечая на вопросы о московском общепите, вы уже построили много диаграмм, и помещать каждую из них в презентацию не нужно. Выберите важные тезисы и наблюдения, которые могут заинтересовать заказчиков. \n",
    "\n",
    "Для создания презентации используйте любой удобный инструмент, но отправить презентацию нужно обязательно в формате PDF. Приложите ссылку на презентацию в markdown-ячейке в формате:\n",
    "\n",
    "`Презентация: <ссылка на облачное хранилище с презентацией>`"
   ]
  },
  {
   "cell_type": "markdown",
   "id": "16abfda9",
   "metadata": {
    "heading_collapsed": true
   },
   "source": [
    "## Загрузка данных"
   ]
  },
  {
   "cell_type": "code",
   "execution_count": null,
   "id": "5e7fba4c-0402-49de-a6dc-97e9c2eeadcf",
   "metadata": {},
   "outputs": [],
   "source": [
    "!pip install "
   ]
  },
  {
   "cell_type": "code",
   "execution_count": 1,
   "id": "c6372b12",
   "metadata": {
    "hidden": true
   },
   "outputs": [
    {
     "ename": "ModuleNotFoundError",
     "evalue": "No module named 'folium'",
     "output_type": "error",
     "traceback": [
      "\u001b[1;31m---------------------------------------------------------------------------\u001b[0m",
      "\u001b[1;31mModuleNotFoundError\u001b[0m                       Traceback (most recent call last)",
      "Cell \u001b[1;32mIn[1], line 7\u001b[0m\n\u001b[0;32m      5\u001b[0m \u001b[38;5;28;01mimport\u001b[39;00m \u001b[38;5;21;01mseaborn\u001b[39;00m \u001b[38;5;28;01mas\u001b[39;00m \u001b[38;5;21;01msns\u001b[39;00m\n\u001b[0;32m      6\u001b[0m \u001b[38;5;28;01mimport\u001b[39;00m \u001b[38;5;21;01mplotly\u001b[39;00m\u001b[38;5;21;01m.\u001b[39;00m\u001b[38;5;21;01mexpress\u001b[39;00m \u001b[38;5;28;01mas\u001b[39;00m \u001b[38;5;21;01mpx\u001b[39;00m\n\u001b[1;32m----> 7\u001b[0m \u001b[38;5;28;01mfrom\u001b[39;00m \u001b[38;5;21;01mfolium\u001b[39;00m \u001b[38;5;28;01mimport\u001b[39;00m Marker, Map, Choropleth\n\u001b[0;32m      8\u001b[0m \u001b[38;5;28;01mimport\u001b[39;00m \u001b[38;5;21;01mjson\u001b[39;00m\n\u001b[0;32m      9\u001b[0m \u001b[38;5;28;01mfrom\u001b[39;00m \u001b[38;5;21;01mfolium\u001b[39;00m\u001b[38;5;21;01m.\u001b[39;00m\u001b[38;5;21;01mplugins\u001b[39;00m \u001b[38;5;28;01mimport\u001b[39;00m MarkerCluster\n",
      "\u001b[1;31mModuleNotFoundError\u001b[0m: No module named 'folium'"
     ]
    }
   ],
   "source": [
    "# импорт библиотек \n",
    "import pandas as pd\n",
    "import numpy as np\n",
    "import matplotlib.pyplot as plt\n",
    "import seaborn as sns\n",
    "import plotly.express as px\n",
    "from folium import Marker, Map, Choropleth\n",
    "import json\n",
    "from folium.plugins import MarkerCluster"
   ]
  },
  {
   "cell_type": "code",
   "execution_count": null,
   "id": "5d27a0fb",
   "metadata": {
    "hidden": true
   },
   "outputs": [],
   "source": [
    "# загрузка датасета\n",
    "try:\n",
    "    places = pd.read_csv('datasets/moscow_places.csv') \n",
    "    \n",
    "except:\n",
    "    places = pd.read_csv('https://code.s3.yandex.net/datasets/moscow_places.csv')"
   ]
  },
  {
   "cell_type": "code",
   "execution_count": null,
   "id": "2d29f5cc",
   "metadata": {
    "hidden": true,
    "scrolled": true
   },
   "outputs": [],
   "source": [
    "# просмотр первых пяти строчек датасета\n",
    "places.head()"
   ]
  },
  {
   "cell_type": "code",
   "execution_count": null,
   "id": "893cd8d0",
   "metadata": {
    "hidden": true
   },
   "outputs": [],
   "source": [
    "# вывод количества категорий заведений\n",
    "places.category.nunique()"
   ]
  },
  {
   "cell_type": "code",
   "execution_count": null,
   "id": "6b193f7c",
   "metadata": {
    "hidden": true
   },
   "outputs": [],
   "source": [
    "# вывод названий категорий заведений\n",
    "places.category.unique()"
   ]
  },
  {
   "cell_type": "code",
   "execution_count": null,
   "id": "bdc44736",
   "metadata": {
    "hidden": true
   },
   "outputs": [],
   "source": [
    "# просмотр информации о датасете\n",
    "places.info()"
   ]
  },
  {
   "cell_type": "markdown",
   "id": "a4d0ad82",
   "metadata": {
    "hidden": true
   },
   "source": [
    "В датасете есть пропуски по режиму работы, в катерии цен, в средней стоимости заказа, в оценке среднего чека, в оценке одной чашке капучино и в количестве посадочных мест. В данном случае эти данные не где взять. А заполнение их средним значением приведет к искажению анализа. Поэтому решено их оставить и провести исследование по имеющимся данным."
   ]
  },
  {
   "cell_type": "markdown",
   "id": "4d35e5c5",
   "metadata": {},
   "source": [
    "## Предобработка данных"
   ]
  },
  {
   "cell_type": "markdown",
   "id": "1d0d16f0",
   "metadata": {},
   "source": [
    "### Удаление дубликатов"
   ]
  },
  {
   "cell_type": "code",
   "execution_count": null,
   "id": "146092ca",
   "metadata": {},
   "outputs": [],
   "source": [
    "# проверка на явные дубликаты\n",
    "places.duplicated().sum()"
   ]
  },
  {
   "cell_type": "code",
   "execution_count": null,
   "id": "5a99d1de",
   "metadata": {},
   "outputs": [],
   "source": [
    "# проверка на дубликаты в столбцах name и address\n",
    "places[['name','address']].duplicated().sum()"
   ]
  },
  {
   "cell_type": "code",
   "execution_count": null,
   "id": "92c407b2",
   "metadata": {
    "scrolled": true
   },
   "outputs": [],
   "source": [
    "# цикл, показывающий уникальные значения в заданных столбцах до и после приведения в нижний регистр\n",
    "for col in ['name','address']:\n",
    "    print(f'Столбец {col}:')\n",
    "    print(f'До преобразования {places[col].nunique()} уникальных значений')\n",
    "    places[col] = places[col].str.lower()\n",
    "    print(f'После преобразования {places[col].nunique()} уникальных значений')\n",
    "    print('-'*50)"
   ]
  },
  {
   "cell_type": "code",
   "execution_count": null,
   "id": "a4e084aa",
   "metadata": {},
   "outputs": [],
   "source": [
    "# проверка на дубликаты после преобразования столбцов name и address\n",
    "places[['name','address']].duplicated().sum()"
   ]
  },
  {
   "cell_type": "code",
   "execution_count": null,
   "id": "45689810",
   "metadata": {},
   "outputs": [],
   "source": [
    "# удаление этих дубликатов, оставляем последний вариант\n",
    "places = places.drop_duplicates(subset=['name','address'], keep='last')\n",
    "places[['name','address']].duplicated().sum()"
   ]
  },
  {
   "cell_type": "markdown",
   "id": "85287e52",
   "metadata": {},
   "source": [
    "### Добавление столбца street с названиями улиц"
   ]
  },
  {
   "cell_type": "code",
   "execution_count": null,
   "id": "1276e26e",
   "metadata": {},
   "outputs": [],
   "source": [
    "# создание столбца с названиями улиц\n",
    "places['street'] = places['address'].str.split(', ').str[1]\n",
    "places[['address','street']].head()"
   ]
  },
  {
   "cell_type": "markdown",
   "id": "68fb6bb6",
   "metadata": {
    "heading_collapsed": true
   },
   "source": [
    "### Добавление столбца is_24/7"
   ]
  },
  {
   "cell_type": "code",
   "execution_count": null,
   "id": "c72efb12",
   "metadata": {
    "hidden": true
   },
   "outputs": [],
   "source": [
    "# вывод уникальных значений и их количество из столбца о днях и времени работы\n",
    "# ищем ежедневно и круглосуточно для создания нового столбца\n",
    "places['hours'].value_counts().head()"
   ]
  },
  {
   "cell_type": "code",
   "execution_count": null,
   "id": "3e78eb18",
   "metadata": {
    "hidden": true
   },
   "outputs": [],
   "source": [
    "# создание столбца is_24/7 обозначающего, что заведение работает ежедневно и круглосуточно\n",
    "places['is_24/7'] = places['hours'].str.contains('ежедневно, круглосуточно')\n",
    "# проверка сколько значений True\n",
    "places['is_24/7'].sum()"
   ]
  },
  {
   "cell_type": "markdown",
   "id": "641695dc",
   "metadata": {},
   "source": [
    "##  Анализ данных"
   ]
  },
  {
   "cell_type": "markdown",
   "id": "0ff4f9f6",
   "metadata": {},
   "source": [
    "### Распределение заведений по категориям"
   ]
  },
  {
   "cell_type": "code",
   "execution_count": null,
   "id": "854e44e7",
   "metadata": {},
   "outputs": [],
   "source": [
    "# функция для группировки по столбцу с применением агрегирующей функции\n",
    "def func_group(df, col, func='count', group='category'):\n",
    "    return (df\n",
    "               .groupby(group, as_index=False).agg({col:func})\n",
    "               .sort_values(col, ascending=False))"
   ]
  },
  {
   "cell_type": "code",
   "execution_count": null,
   "id": "f0713dde",
   "metadata": {},
   "outputs": [],
   "source": [
    "# функцию для отображения значений на гистограмме\n",
    "def show_values(axs, orient=\"v\", space=.01):\n",
    "    def _single(ax):\n",
    "        if orient == \"v\":\n",
    "            for p in ax.patches:\n",
    "                _x = p.get_x() + p.get_width() / 2\n",
    "                _y = p.get_y() + p.get_height() + (p.get_height()*0.01)\n",
    "                value = '{:.1f}'.format(p.get_height())\n",
    "                ax.text(_x, _y, value, ha=\"center\") \n",
    "        elif orient == \"h\":\n",
    "            for p in ax.patches:\n",
    "                _x = p.get_x() + p.get_width() + float(space)\n",
    "                _y = p.get_y() + p.get_height() - (p.get_height()*0.5)\n",
    "                value = '{:.1f}'.format(p.get_width())\n",
    "                ax.text(_x, _y, value, ha=\"left\")\n",
    "\n",
    "    if isinstance(axs, np.ndarray):\n",
    "        for idx, ax in np.ndenumerate(axs):\n",
    "            _single(ax)\n",
    "    else:\n",
    "        _single(axs)"
   ]
  },
  {
   "cell_type": "code",
   "execution_count": null,
   "id": "a200eaf1",
   "metadata": {},
   "outputs": [],
   "source": [
    "# функция для построения простой гистограммы \n",
    "def func_bar(df, x, y='category', title='', xlabel='Количество', step=10):\n",
    "    fig = sns.barplot(data = df, x=x, y=y)\n",
    "    plt.title(title)\n",
    "    plt.xlabel(xlabel)\n",
    "    plt.ylabel('')\n",
    "    plt.xticks(np.arange(0, max(df[x])+1, step))\n",
    "    \n",
    "    # вызов функции для отображения значений на гистограмме\n",
    "    show_values(fig, \"h\", space=0);"
   ]
  },
  {
   "cell_type": "code",
   "execution_count": null,
   "id": "91fbf5b7",
   "metadata": {},
   "outputs": [],
   "source": [
    "# вывоз функции для подсчета количества заведений по категориям\n",
    "category = func_group(places, 'name').rename(columns = {'name':'total'}) \n",
    "\n",
    "# создание стиля  палитры seaborn\n",
    "sns.set()\n",
    "sns.set_palette('husl',8)\n",
    "\n",
    "# построение гистограммы pаспределение заведений по категориям\n",
    "func_bar(category, 'total', title='Распределение заведений по категориям', step=500)"
   ]
  },
  {
   "cell_type": "markdown",
   "id": "b8e7905d",
   "metadata": {},
   "source": [
    "В датасете представлены 8 категорий заведений. \n",
    "По количеству распределения их можно разделить на 3 группы: лидеры, среднее звено и малочисленные.\n",
    "- Лидерами являются кафе(2377), ресторан(2041) и кафейня(1413). Их количество в городе значительно превышает остальные категории заведений.\n",
    "- К среднему звену относятся бар,пар(765), пиццерия(633), быстрое питание(603). По количеству каждое из них в 2-3 раза меньше, чем лидеров в городе.\n",
    "- Малочисленными являются столовая(315) и булочная(255). По количеству каждое из них в 2-3 раза меньше, чем среднее звено в городе. "
   ]
  },
  {
   "cell_type": "markdown",
   "id": "f598309a",
   "metadata": {},
   "source": [
    "### Исследование количества посадочных мест по категориям"
   ]
  },
  {
   "cell_type": "code",
   "execution_count": null,
   "id": "0ea0fbc4",
   "metadata": {},
   "outputs": [],
   "source": [
    "# статистические данные столбца seats   \n",
    "places['seats'].describe()"
   ]
  },
  {
   "cell_type": "markdown",
   "id": "a2c65c0f",
   "metadata": {},
   "source": [
    "В датасете есть категории заведений, где количество посадочных мест превышает 1200. Среднее значение сильно искажает данные из-за выбросов. Поэтому для исследования посадочных мест будем брать медианое значение."
   ]
  },
  {
   "cell_type": "code",
   "execution_count": null,
   "id": "de53b1bb",
   "metadata": {},
   "outputs": [],
   "source": [
    "# построение простой гистограммы с медианным значением\n",
    "func_bar(func_group(places, 'seats', 'median'), 'seats', \n",
    "             title='Медианое значение количества посадочных мест по категориям заведений',\n",
    "             xlabel='Медианое значение количества посадочных мест'\n",
    "            )"
   ]
  },
  {
   "cell_type": "markdown",
   "id": "6a6f36ee",
   "metadata": {},
   "source": [
    "- Лидером по числу посадочных мест является ресторан(86). Немного меньше мест в баре, пабе(83) и в кофейне(80).\n",
    "- Меньше всего их у кафе(60), пиццерии(55) и булочной(50)."
   ]
  },
  {
   "cell_type": "code",
   "execution_count": null,
   "id": "b6be1528",
   "metadata": {},
   "outputs": [],
   "source": [
    "# функция для построения боксплота\n",
    "def func_box(y, x='category', title=''):\n",
    "    fig = px.box(places, x=x, y=y, title=title, color='category')\n",
    "    fig.show()"
   ]
  },
  {
   "cell_type": "code",
   "execution_count": null,
   "id": "954f8f09",
   "metadata": {},
   "outputs": [],
   "source": [
    "# построение боксплотов по медианным значениям для посадочных мест\n",
    "func_box('seats', title='Посадочные места по категориям')"
   ]
  },
  {
   "cell_type": "markdown",
   "id": "0c613437",
   "metadata": {},
   "source": [
    "- По общему графику (boxplot) также видно, что пиццерия, кафе и булочная в среднем имеют от 30 до 120 мест. \n",
    "- А в ресторане, кофейне и баре, пабе в среднем находится от 45 до 150 посадочных мест."
   ]
  },
  {
   "cell_type": "markdown",
   "id": "e36f2317",
   "metadata": {},
   "source": [
    "### Cоотношение сетевых и несетевых заведений"
   ]
  },
  {
   "cell_type": "code",
   "execution_count": null,
   "id": "9466ef0b",
   "metadata": {},
   "outputs": [],
   "source": [
    "# функция для создания датасета с колонками: общее количество, количество сетей, доля сетей\n",
    "def func_percent(df, col, group='category'):\n",
    "    percent_col = func_group(df, col, group=group).rename(columns = {col:'total'}) \n",
    "    percent_col[col] = func_group(df, col, 'sum', group=group)[col]\n",
    "    # подсчет доли от общего количества в %   \n",
    "    percent_col['percent'] = round(percent_col[col] / percent_col['total'] * 100)\n",
    "    return percent_col"
   ]
  },
  {
   "cell_type": "code",
   "execution_count": null,
   "id": "de532971",
   "metadata": {},
   "outputs": [],
   "source": [
    "# создание датасета с долей сетей заведений\n",
    "category_chain = func_percent(places,'chain')"
   ]
  },
  {
   "cell_type": "code",
   "execution_count": null,
   "id": "a42d8877",
   "metadata": {},
   "outputs": [],
   "source": [
    "# построение графика с общим количеством заведений, разделенных на сетевые и несетевые\n",
    "ax = sns.barplot(y='category', x='chain', data=category_chain)\n",
    "ax1 = sns.barplot(y='category', x='total', data=category_chain, alpha=0.6)\n",
    "plt.xticks(np.arange(0, max(category_chain['total']), 250))\n",
    "plt.title('Cоотношение сетевых и несетевых заведений')\n",
    "plt.xlabel('Количество')\n",
    "plt.ylabel('');"
   ]
  },
  {
   "cell_type": "markdown",
   "id": "fec0bf85",
   "metadata": {},
   "source": [
    "### Доля сетевых заведений по категориям "
   ]
  },
  {
   "cell_type": "code",
   "execution_count": null,
   "id": "920e4ebe",
   "metadata": {},
   "outputs": [],
   "source": [
    "# построение гистограммы \n",
    "func_bar(category_chain.sort_values('percent', ascending=False), 'percent', \n",
    "         title='Доля сетевых заведений по категориям',\n",
    "         xlabel='% от количества заведений'\n",
    "        )"
   ]
  },
  {
   "cell_type": "markdown",
   "id": "f9653113",
   "metadata": {},
   "source": [
    "- Чаще всего сетевыми являются булочные, более 60%. А также пиццерии и кофейни - более 50% является сетевыми.\n",
    "- Быстрое питание, ресторан и кафе имеют от 32 до 38% сетей.\n",
    "- Менее 30% сетей имеют бар, паб и  столовые."
   ]
  },
  {
   "cell_type": "markdown",
   "id": "0940b930",
   "metadata": {},
   "source": [
    "### Tоп-15 популярных сетей в Москве"
   ]
  },
  {
   "cell_type": "code",
   "execution_count": null,
   "id": "f324ee1d",
   "metadata": {},
   "outputs": [],
   "source": [
    "# фунция для создания листа с топ_15 названиями\n",
    "def func_top_15(df, col):\n",
    "    top_15 = (df\n",
    "              .groupby(col).agg({col:'count'})\n",
    "              .rename(columns = {col:'total'})\n",
    "              .sort_values('total',ascending=False)\n",
    "              .head(15)\n",
    "              .index.tolist()\n",
    "              )\n",
    "    return top_15"
   ]
  },
  {
   "cell_type": "code",
   "execution_count": null,
   "id": "478745b3",
   "metadata": {},
   "outputs": [],
   "source": [
    "# функция для создания датасета с группировкой по категориям и заданным столбцом\n",
    "# считает количество заведений\n",
    "def func_group_category(col, top_15):\n",
    "    category_total = (places\n",
    "                      .loc[places[col].isin(top_15)]\n",
    "                      .groupby([col,'category'], as_index=False)['address'].count()\n",
    "                      .rename(columns = {'address':'total'})\n",
    "                     )\n",
    "    return category_total"
   ]
  },
  {
   "cell_type": "code",
   "execution_count": null,
   "id": "ceed8685",
   "metadata": {},
   "outputs": [],
   "source": [
    "# функция для построения гистрограммы с легендой, отображающей заведения по категориям\n",
    "def category_px_bar(df, col, title=''):\n",
    "    fig = px.bar(df,\n",
    "             x='total',\n",
    "             y=col,\n",
    "             color='category'\n",
    "            )\n",
    "    fig.update_layout(title=title,\n",
    "                      xaxis_title='Количество',\n",
    "                      yaxis_title='')\n",
    "    fig.show()"
   ]
  },
  {
   "cell_type": "code",
   "execution_count": null,
   "id": "ec41c04d",
   "metadata": {},
   "outputs": [],
   "source": [
    "# функция для построения хитмепа, для отображения числовых значений\n",
    "def category_heatmap(df, index, title=''):\n",
    "    df_category = (df\n",
    "                    .pivot_table(index=index, columns='category', values='address', aggfunc='count')\n",
    "                    .fillna('0')\n",
    "                    .astype('int')  \n",
    "                  )\n",
    "    sns.heatmap(df_category, annot=True, cmap= 'YlGn', fmt='.3g')\n",
    "    plt.title(title)\n",
    "    plt.xlabel('')\n",
    "    plt.ylabel('');"
   ]
  },
  {
   "cell_type": "code",
   "execution_count": null,
   "id": "1f2df2d6",
   "metadata": {},
   "outputs": [],
   "source": [
    "# создание листа с названиями категорй заведений для исключения их из названий заведений\n",
    "not_name = places['category'].tolist()\n",
    "\n",
    "# создание листа с топ-15 названиями заведений \n",
    "top_15_name = func_top_15(places.query('name not in @not_name'), 'name')\n",
    "\n",
    "# создание датасета с топ-15 названиями сгруппированной по категориям\n",
    "# и отображающей число этих заведений\n",
    "top_name = func_group_category('name', top_15_name)\n",
    "top_name.head()"
   ]
  },
  {
   "cell_type": "code",
   "execution_count": null,
   "id": "f937e566",
   "metadata": {},
   "outputs": [],
   "source": [
    "# построение графика, отображающего количество категорий в сети заведения\n",
    "category_px_bar(top_name, 'name', title='Топ-15 популярных сетей в Москве')"
   ]
  },
  {
   "cell_type": "code",
   "execution_count": null,
   "id": "d19dbf94",
   "metadata": {},
   "outputs": [],
   "source": [
    "# построение хитмепа для наглядного отображения числовых значений топ-15\n",
    "category_heatmap(places.query('name in @top_15_name'), 'name', \n",
    "                 title='Топ-15 популярных сетей в Москве')"
   ]
  },
  {
   "cell_type": "markdown",
   "id": "8a69fef7",
   "metadata": {},
   "source": [
    "- Самые популярной сетью является кофейня. К ней относятся Шоколадница (самая популярная сеть), One price coffee, Coffes, Кофепорт и Cofefest.\n",
    "- На втором месте - ресторан. В этой категории лидером являются Яндекс.Лавка. Чуть меньше сетей у Prime и Теремок.\n",
    "- Есть две большие сети в категории пиццерия - Додо пицца и Домино'с пицца.\n",
    "- К самым непопулярным категориям можно отнести столовую, бар, паб и булочную."
   ]
  },
  {
   "cell_type": "markdown",
   "id": "3893b664",
   "metadata": {},
   "source": [
    "### Количество заведений каждой категории по районам"
   ]
  },
  {
   "cell_type": "code",
   "execution_count": null,
   "id": "2b699466",
   "metadata": {},
   "outputs": [],
   "source": [
    "# создание датасета с группровкой по районам и категориям\n",
    "district_category = func_group_category('district', places['district']).sort_values('total')\n",
    "\n",
    "# построение графика \n",
    "category_px_bar(district_category, 'district', \n",
    "                title='Количество заведений каждой категории по районам')"
   ]
  },
  {
   "cell_type": "code",
   "execution_count": null,
   "id": "283e011a",
   "metadata": {},
   "outputs": [],
   "source": [
    "# построение хитмепа\n",
    "category_heatmap(places, 'district', title='Количество заведений каждой категории по районам')"
   ]
  },
  {
   "cell_type": "markdown",
   "id": "1b7b6799",
   "metadata": {},
   "source": [
    "- `Кафе` - самая распространенная категории по округам Москвы, кроме Центрального. \n",
    "- На втором месте - `ресторан`. \n",
    "- На третьем месте - `кофейня`.\n",
    "\n",
    "Самым многочисленным по заведениям является `Центральный округ`:\n",
    "- Здесь находится рекордное количество `ресторанов`, число которых превышает более чем в 3 раза остальные округи Москвы.\n",
    "- Безусловный лидер в катеории `бар,паб`: более чем в 5 раз превышает остальные районы, а некоторые -  в 15 раз.\n",
    "- Также здесь находится огромное количество `кофейн`: в 2-7 раз больше, чем в других округах.\n",
    "- По категории `кафе` Центральный округ превышает в 2- 3 раза остальные округа.\n",
    "    \n",
    "    \n",
    "Самый малочисленный по заведениям - `Северо-Западный округ`."
   ]
  },
  {
   "cell_type": "markdown",
   "id": "9253b343",
   "metadata": {},
   "source": [
    "### Cредний  рейтинг по категориям заведений"
   ]
  },
  {
   "cell_type": "code",
   "execution_count": null,
   "id": "937cddf3",
   "metadata": {},
   "outputs": [],
   "source": [
    "# создание датасета cо средней оценкой рейтинга по категориям\n",
    "rating_median = round(func_group(places, 'rating', 'mean'),1)\n",
    "\n",
    "# построение гистограммы\n",
    "func_bar(rating_median, 'rating', \n",
    "             title='Cредний  рейтинг по категориям заведений',\n",
    "             xlabel='Рейтинг',\n",
    "             step=0.1\n",
    "            )\n",
    "plt.xlim(4, 4.5);"
   ]
  },
  {
   "cell_type": "markdown",
   "id": "75fe33fb",
   "metadata": {},
   "source": [
    "- Средний рейтинг по категориям имеет не сильные отличия друг от друга: от 4,1 до 4,4.\n",
    "- Самый высокий у баров, пабов - 4,4\n",
    "- Самый низкий у кафе и быстрого питания - 4,1"
   ]
  },
  {
   "cell_type": "markdown",
   "id": "35527891",
   "metadata": {},
   "source": [
    "### Фоновая картограммa со средним рейтингом заведений каждого района"
   ]
  },
  {
   "cell_type": "code",
   "execution_count": null,
   "id": "ea5c4bbf",
   "metadata": {},
   "outputs": [],
   "source": [
    "# функция для сознание новой карты Москвы\n",
    "def func_map():\n",
    "    return Map(location=[moscow_lat, moscow_lng], zoom_start=10)"
   ]
  },
  {
   "cell_type": "code",
   "execution_count": null,
   "id": "4f19c50d",
   "metadata": {},
   "outputs": [],
   "source": [
    "# функция для создания хороплет с помощью конструктора Choropleth и добавления его на карту\n",
    "def func_choropleth(df, col, legend=''):\n",
    "    Choropleth(\n",
    "        geo_data=geo_json,\n",
    "        data=df,\n",
    "        columns=['district', col],\n",
    "        key_on='feature.name',\n",
    "        fill_color='YlGn',\n",
    "        fill_opacity=0.8,\n",
    "        legend_name=legend,\n",
    "    ).add_to(m)"
   ]
  },
  {
   "cell_type": "code",
   "execution_count": null,
   "id": "48ca2412",
   "metadata": {
    "scrolled": true
   },
   "outputs": [],
   "source": [
    "# создание датасета с группировкой по округам со средним рейтингом заведений\n",
    "district_rating = func_group(places, 'rating', 'mean', 'district')\n",
    "\n",
    "# считывание файла и сохранение его в переменной\n",
    "try:\n",
    "    with open('datasets/admin_level_geomap.geojson', 'r', encoding='utf-8') as f:\n",
    "        geo_json = json.load(f)\n",
    "    \n",
    "except:\n",
    "    with open('/datasets/admin_level_geomap.geojson', 'r') as f: \n",
    "        geo_json = json.load(f)"
   ]
  },
  {
   "cell_type": "code",
   "execution_count": null,
   "id": "db131f1b",
   "metadata": {},
   "outputs": [],
   "source": [
    "# moscow_lat - широта центра Москвы, moscow_lng - долгота центра Москвы\n",
    "moscow_lat, moscow_lng = 55.751244, 37.618423\n",
    "\n",
    "# создание карты Москвы\n",
    "m = func_map()\n",
    "\n",
    "# создание хороплета с помощью конструктора Choropleth и добавление его на карту\n",
    "func_choropleth(district_rating, 'rating', 'Медианный рейтинг заведений по районам')\n",
    "\n",
    "# вывод карт\n",
    "m"
   ]
  },
  {
   "cell_type": "markdown",
   "id": "6a3fd118",
   "metadata": {},
   "source": [
    "- Средний рейтинг по округам примерно одинаков: от 4,1 до 4,4.\n",
    "- Самый высокий в Центральном округе ~ 4,4\n",
    "- Самый низкий в Юго-Восточном округе - 4,1"
   ]
  },
  {
   "cell_type": "markdown",
   "id": "74287525",
   "metadata": {},
   "source": [
    "### Все заведения датасета на карте"
   ]
  },
  {
   "cell_type": "code",
   "execution_count": null,
   "id": "97f94138",
   "metadata": {
    "scrolled": true
   },
   "outputs": [],
   "source": [
    "# создание новой карты Москвы\n",
    "m = func_map()\n",
    "\n",
    "# создание пустого кластера, добавление его на карту\n",
    "marker_cluster = MarkerCluster().add_to(m)\n",
    "\n",
    "# функция, которая принимает строку датафрейма,\n",
    "# создаёт маркер в текущей точке и добавляет его в кластер marker_cluster\n",
    "def create_clusters(row):\n",
    "    Marker(\n",
    "        [row['lat'], row['lng']],\n",
    "        popup=f\"{row['name']} {row['rating']}\",\n",
    "    ).add_to(marker_cluster)\n",
    "\n",
    "# применене функции create_clusters() к каждой строке датафрейма\n",
    "places.apply(create_clusters, axis=1)\n",
    "\n",
    "# вывод карты\n",
    "m"
   ]
  },
  {
   "cell_type": "markdown",
   "id": "6b5971f6",
   "metadata": {},
   "source": [
    "Концентрация общественного питания сосредоточена в Центральном округе Москвы. По мере удаления от центра число заведений уменьшается. "
   ]
  },
  {
   "cell_type": "markdown",
   "id": "b93059e4",
   "metadata": {},
   "source": [
    "### Tоп-15 улиц по количеству заведений"
   ]
  },
  {
   "cell_type": "code",
   "execution_count": null,
   "id": "d6e3422d",
   "metadata": {},
   "outputs": [],
   "source": [
    "# создание листа с топ-15 улицами по количеству заведений\n",
    "top_15_street = func_top_15(places, 'street')\n",
    "\n",
    "# создание датасета с топ-15 названиями улиц сгруппированной по категориям\n",
    "# и отображающей число этих заведений\n",
    "top_street = func_group_category('street', top_15_street)\n",
    "\n",
    "# # построение графика\n",
    "category_px_bar(top_street, 'street', title='Tоп-15 улиц по количеству заведений')"
   ]
  },
  {
   "cell_type": "code",
   "execution_count": null,
   "id": "5b85385c",
   "metadata": {},
   "outputs": [],
   "source": [
    "category_heatmap(places.query('street in @top_15_street'), 'street', \n",
    "                 title='Tоп-15 улиц по количеству заведений')"
   ]
  },
  {
   "cell_type": "markdown",
   "id": "8a236535",
   "metadata": {},
   "source": [
    "Самая \"богатая\" улица по количеству заведенй общепита - проспект Мира"
   ]
  },
  {
   "cell_type": "markdown",
   "id": "388aeb4d",
   "metadata": {},
   "source": [
    "### Улицы с одним объектом общепита"
   ]
  },
  {
   "cell_type": "code",
   "execution_count": null,
   "id": "bc5981b9",
   "metadata": {},
   "outputs": [],
   "source": [
    "# создание листа с названиями улиц с одним объектом общепита\n",
    "street_1 = (places\n",
    "            .groupby('street').count()\n",
    "            .query('name==1 & address==1')\n",
    "            .index.to_list()\n",
    "           ) \n",
    "\n",
    "func_bar(func_group(places.query('street in @street_1'), 'street'), 'street', \n",
    "             title='Количество улиц с одним объектом общепита',\n",
    "             step=20\n",
    "            )"
   ]
  },
  {
   "cell_type": "code",
   "execution_count": null,
   "id": "7bf88a8c",
   "metadata": {
    "scrolled": true
   },
   "outputs": [],
   "source": [
    "# создаём новую карту Москвы\n",
    "m = func_map()\n",
    "\n",
    "# создаём пустой кластер, добавляем его на карту\n",
    "marker_cluster = MarkerCluster().add_to(m)\n",
    "\n",
    "# применяем функцию create_clusters() к каждой строке датафрейма\n",
    "places.query('street in @street_1').apply(create_clusters, axis=1)\n",
    "\n",
    "# выводим карту\n",
    "m\n"
   ]
  },
  {
   "cell_type": "markdown",
   "id": "5265b823",
   "metadata": {},
   "source": [
    "Улицы с одним объектов общепита в основном находятся в центре. Чем дальше от центра, тем меньше таких улиц. Это обусловлено тем, что в центре много \"маленьких\" улочек и много заведений общественного питания."
   ]
  },
  {
   "cell_type": "markdown",
   "id": "b3b5363b",
   "metadata": {},
   "source": [
    "### Фоновая картограмма медиан средних чеков заведений для каждого района"
   ]
  },
  {
   "cell_type": "code",
   "execution_count": null,
   "id": "6fcf5dfb",
   "metadata": {
    "scrolled": true
   },
   "outputs": [],
   "source": [
    "# создание датасета с группировкой по округам со средним рейтингом заведений\n",
    "district_middle = round(func_group(places, 'middle_avg_bill', 'median', 'district'))\n",
    "\n",
    "# создание новой карты Москвы\n",
    "m = func_map()\n",
    "\n",
    "# создание хороплета с помощью конструктора Choropleth и добавление его на карту\n",
    "func_choropleth(district_middle, 'middle_avg_bill', 'Медианы средних чеков заведений по районам')\n",
    "\n",
    "# вывод карты\n",
    "m"
   ]
  },
  {
   "cell_type": "markdown",
   "id": "421c92a5",
   "metadata": {},
   "source": [
    "- Cамые дорогостоящие заведения находятся в Центральном и Западный округах\n",
    "- Самые низкие средние чеки заведений находятся в Северо-Восточном, Юго-Восточном и в Южном округах."
   ]
  },
  {
   "cell_type": "markdown",
   "id": "cb5c96ef",
   "metadata": {},
   "source": [
    "### Другие взаимосвязи"
   ]
  },
  {
   "cell_type": "code",
   "execution_count": null,
   "id": "f9d48c8f",
   "metadata": {},
   "outputs": [],
   "source": [
    "# построение гистограммы\n",
    "func_bar(func_group(places, 'middle_avg_bill', 'median'), 'middle_avg_bill', \n",
    "             title='Средний чек заведений по категориям',\n",
    "             xlabel='Средний чек',\n",
    "             step=100\n",
    "            )"
   ]
  },
  {
   "cell_type": "code",
   "execution_count": null,
   "id": "356f7f87",
   "metadata": {},
   "outputs": [],
   "source": [
    "func_box('middle_avg_bill', title='Средний чек заведений по категориям')"
   ]
  },
  {
   "cell_type": "markdown",
   "id": "14d24589",
   "metadata": {},
   "source": [
    "- Самыми дорогими заведением являются `бар, паб` и `ресторан`. В среднем чек ресторана выходит от 660 до 1800р. Есть ресторан где средний чек составляет 35000р. Диапазон средних чеков  в баре, пабе - от 900 до 1800р.\n",
    "- Ко второй ценовой категории относятся `кафе` и `пиццерия`. Средний чек здесь примерно от 400 до 1000р.\n",
    "- На третьем месте - `кофейня` и `булочная`. Диапазон средних чеков от 300 до 800р.\n",
    "- И самые низкие по среднему чеку являются `быстрое питание` и `столовая`. Средний чек в быстром питании составляет 300-500р. А в столовой - 300р."
   ]
  },
  {
   "cell_type": "markdown",
   "id": "a71d50d0",
   "metadata": {},
   "source": [
    "### Выводы"
   ]
  },
  {
   "cell_type": "markdown",
   "id": "657f2748",
   "metadata": {},
   "source": [
    "**Категории заведений**\n",
    "\n",
    "В датасете представлены 8 категорий заведений. \n",
    "\n",
    "По количеству распределения их можно разделить на 3 группы: лидеры, среднее звено и малочисленные.\n",
    "- Лидерами являются `кафе`, `ресторан` и `кафейня`. Их количество в городе значительно превышает остальные категории заведений.\n",
    "- К среднему звену относятся `бар,пар`, `пиццерия`, `быстрое питание`. По количеству каждое из них в 2-3 раза меньше, чем лидеров в городе.\n",
    "- Малочисленными являются `столовая` и `булочная`. По количеству каждое из них в 2-3 раза меньше, чем среднее звено в городе. "
   ]
  },
  {
   "cell_type": "markdown",
   "id": "5eea03dd",
   "metadata": {},
   "source": [
    "**Посадочные места**\n",
    "\n",
    "- Лидером по числу посадочных мест является `ресторан`. Немного меньше мест в `баре, пабе` и в `кофейне`. Здесь находится от 45 до 150 посадочных мест\n",
    "- Меньше всего их у `кафе`, `пиццерии` и `булочной`. В среднем он имеют от 30 до 120 мест"
   ]
  },
  {
   "cell_type": "markdown",
   "id": "9970d806",
   "metadata": {},
   "source": [
    "**Сети заведений**\n",
    "\n",
    "1. По доле:\n",
    "    - Чаще всего сетевыми являются `булочные`, более 60%. А также `пиццерии` и `кофейни` - более 50% сетей по городу.\n",
    "    - `Быстрое питание`, `ресторан` и `кафе` имеют от 32 до 38% сетей.\n",
    "    - Менее 30% сетей имеют `бары, пабы` и `столовые`.\n",
    "\n",
    "\n",
    "2. По популярности:\n",
    "    - Самые популярной сетью является `кофейня`. К ней относятся Шоколадница (самая популярная сеть), One price coffee, Coffes, Кофепорт и Cofefest.\n",
    "    - На втором месте - `ресторан`. В этой категории лидером являются Яндекс.Лавка. Чуть меньше сетей у Prime и Теремок.\n",
    "    - Есть две большие сети в категории `пиццерия` - Додо пицца и Домино'с пицца.\n",
    "    - К самым непопулярным категориям можно отнести `столовую`, `бары, пабы` и `булочные`."
   ]
  },
  {
   "cell_type": "markdown",
   "id": "63cbb820",
   "metadata": {},
   "source": [
    "**Административные округи Москвы**\n",
    "\n",
    "1. Концентрация категорий по округам:\n",
    "    - На первом месте - `кафе`(кроме Центрального округа, здесь на первом месте - ресторан). \n",
    "    - На втором месте - `ресторан`(Центральный округ - кафе). \n",
    "    - На третьем месте - `кофейня`.\n",
    "\n",
    "\n",
    "2. Самым многочисленным по заведениям является `Центральный` округ:\n",
    "    - Здесь находится рекордное количество `ресторанов`, число которых превышает более чем в 3 раза остальные округи Москвы.\n",
    "    - Безусловный лидер в катеории `бар,паб`: более чем в 5 раз превышает остальные районы, а некоторые -  в 15 раз.\n",
    "    - Также здесь находится огромное количество `кофейн`: в 2-7 раз больше, чем в других округах.\n",
    "    - По категории `кафе` Центральный округ превышает в 2- 3 раза остальные округа.\n",
    "\n",
    "    \n",
    "3. Самый малочисленный по заведениям - `Северо-Западный` округ."
   ]
  },
  {
   "cell_type": "markdown",
   "id": "859df942",
   "metadata": {},
   "source": [
    "**Рейтинг**\n",
    "\n",
    "Средний рейтинг по категориям имеет не сильные отличия друг от друга: от 4,1 до 4,4.\n",
    "- Самый высокий у баров, пабов - 4,4\n",
    "- Самый низкий у кафе и быстрого питания - 4,1"
   ]
  },
  {
   "cell_type": "markdown",
   "id": "bdf363d1",
   "metadata": {},
   "source": [
    "**Количество заведений**\n",
    "\n",
    "- Концентрация общественного питания сосредоточена в `Центральном` округе Москвы. По мере удаления от центра число заведений уменьшается. \n",
    "- Самая \"богатая\" улица по количеству заведенй общепита - проспект Мира\n",
    "- Улицы с одним объектов общепита в основном находятся в центре. Чем дальше от центра, тем меньше таких улиц. Это обусловлено тем, что в центре много \"маленьких\" улочек и много заведений общественного питания."
   ]
  },
  {
   "cell_type": "markdown",
   "id": "e0f73b12",
   "metadata": {},
   "source": [
    "**Ценовая категория**\n",
    "\n",
    "1. По округу:\n",
    "    - Cамые дорогостоящие заведения находятся в `Центральном` и `Западный` округах\n",
    "    - Самые низкие средние чеки заведений находятся в `Северо-Восточном`, `Юго-Восточном` и в `Южном` округах.\n",
    "\n",
    "\n",
    "2. По категориям:\n",
    "    - Самыми дорогими заведением являются `бар, паб` и `ресторан`. В среднем чек ресторана выходит от 660 до 1800р. Диапазон средних чеков  в баре, пабе - от 900 до 1800р.\n",
    "    - Ко второй ценовой категории относятся `кафе` и `пиццерия`. Средний чек здесь примерно от 400 до 1000р.\n",
    "    - На третьем месте - `кофейня` и `булочная`. Диапазон средних чеков от 300 до 800р.\n",
    "    - И самые низкие по среднему чеку являются `быстрое питание` и `столовая`. Средний чек в быстром питании составляет 300-500р. А в столовой - 300р."
   ]
  },
  {
   "cell_type": "markdown",
   "id": "e7488492",
   "metadata": {},
   "source": [
    "## Детализируем исследование: открытие кофейни"
   ]
  },
  {
   "cell_type": "markdown",
   "id": "0aaadf25",
   "metadata": {},
   "source": [
    "<!--  -->"
   ]
  },
  {
   "cell_type": "markdown",
   "id": "b212cd47",
   "metadata": {},
   "source": [
    "### Количество кофеeн по районам"
   ]
  },
  {
   "cell_type": "code",
   "execution_count": null,
   "id": "7214be8a",
   "metadata": {},
   "outputs": [],
   "source": [
    "# создане датасета с кофейнями\n",
    "coffee_house = places.query('category == \"кофейня\"')   \n",
    "\n",
    "print('Количество кофеен в датасете:', coffee_house.shape[0])"
   ]
  },
  {
   "cell_type": "code",
   "execution_count": null,
   "id": "a9c5dfa1",
   "metadata": {},
   "outputs": [],
   "source": [
    "distinct_coffee = func_group(coffee_house, 'address', group='district') \\\n",
    "                    .rename(columns={'address':'total'})\n",
    "\n",
    "# построение гистограммы\n",
    "func_bar(distinct_coffee, 'total', 'district', title='Распределение кофейн по округам', step=50)"
   ]
  },
  {
   "cell_type": "code",
   "execution_count": null,
   "id": "741c2f4c",
   "metadata": {},
   "outputs": [],
   "source": [
    "# создание новой карты Москвы\n",
    "m = func_map()\n",
    "\n",
    "# создание хороплета с помощью конструктора Choropleth и добавление его на карту\n",
    "func_choropleth(distinct_coffee, 'total', 'Количество кофейн по округам')\n",
    "m"
   ]
  },
  {
   "cell_type": "markdown",
   "id": "2486d0fc",
   "metadata": {},
   "source": [
    "В Центральном округе находится огромное количество кофеен, более 400 - это в 2-7 раз больше, чем в других округах.\n",
    "\n",
    "В других округах количество кофеен лежит в диапазоне от 60 до 200 штук:\n",
    "- В Северном - около 200\n",
    "- В Северо-Восточном и Западном - примерно по 150\n",
    "- В Южном - примерно 130\n",
    "- В Восточном, Юго-Восточном и Юго-Западном - примерно по 100\n",
    "- В Северо-Западном - примерно 60"
   ]
  },
  {
   "cell_type": "markdown",
   "id": "c01c1ac3",
   "metadata": {},
   "source": [
    "### Круглосуточные кофейни"
   ]
  },
  {
   "cell_type": "code",
   "execution_count": null,
   "id": "88036602",
   "metadata": {},
   "outputs": [],
   "source": [
    "print('Kоличество круглосуточных кофеен:', coffee_house['is_24/7'].sum())\n",
    "print(f'Доля круглосуточных кофеен: {round(coffee_house[\"is_24/7\"].sum()/coffee_house.shape[0]*100)}%')"
   ]
  },
  {
   "cell_type": "code",
   "execution_count": null,
   "id": "47d51315",
   "metadata": {},
   "outputs": [],
   "source": [
    "coffee_24 = func_group(coffee_house.loc[coffee_house['is_24/7']==True], 'address', group='district')\\\n",
    "                     .rename(columns={'address':'total'})\n",
    "                     \n",
    "\n",
    "func_bar(coffee_24, 'total', 'district', \n",
    "         title='Распределение круглосуточных кофейн по округам', step=5)"
   ]
  },
  {
   "cell_type": "code",
   "execution_count": null,
   "id": "c546c47d",
   "metadata": {},
   "outputs": [],
   "source": [
    "# создание новой карты Москвы\n",
    "m = func_map()\n",
    "\n",
    "# создание хороплета с помощью конструктора Choropleth и добавление его на карту\n",
    "func_choropleth(coffee_24, 'total', 'Распределение круглосуточных кофейн по округам')\n",
    "m"
   ]
  },
  {
   "cell_type": "markdown",
   "id": "0dc86ff4",
   "metadata": {},
   "source": [
    "В Москве есть круглосуточные кофейни, но доля их значительно мала. \n",
    "- Почти половина этих кофеен расположена в Центральном округе - 26 круглосуточных кофеен. \n",
    "- На втором месте Западный округ - 9 штук.\n",
    "- В Юго-Западном - 7 кофеен.\n",
    "- В остальных районах - не более 5 штук."
   ]
  },
  {
   "cell_type": "markdown",
   "id": "897a4630",
   "metadata": {},
   "source": [
    "### Рейтинги кофеен по районам"
   ]
  },
  {
   "cell_type": "code",
   "execution_count": null,
   "id": "9665539f",
   "metadata": {},
   "outputs": [],
   "source": [
    "rating_coffee_house = func_group(coffee_house, 'rating', 'mean', group='district')\\\n",
    "                        .rename(columns={'rating':'avg_rating'})\n",
    "\n",
    "func_bar(rating_coffee_house, 'avg_rating', 'district', \n",
    "         title='Рейтинги кофейн по районам', \n",
    "         xlabel='Рейтинг',\n",
    "         step=0.1)\n",
    "plt.xlim(4.1, 4.4);"
   ]
  },
  {
   "cell_type": "code",
   "execution_count": null,
   "id": "55e3a325",
   "metadata": {},
   "outputs": [],
   "source": [
    "# создание новой карты Москвы\n",
    "m = func_map()\n",
    "\n",
    "# создание хороплета с помощью конструктора Choropleth и добавление его на карту\n",
    "func_choropleth(rating_coffee_house, 'avg_rating', 'Рейтинги кофейн по районам')\n",
    "m"
   ]
  },
  {
   "cell_type": "markdown",
   "id": "3dcbdd2c",
   "metadata": {},
   "source": [
    "Рейтинги кофеен по округам почти однаковые: примерно от 4,2 до 4,3. \n",
    "- Самый высокий рейтинг в Центральном  Северо-Западном округе.\n",
    "- Самый низкий - в Западном округе"
   ]
  },
  {
   "cell_type": "markdown",
   "id": "f19d241a",
   "metadata": {},
   "source": [
    "### Стоимость чашки капучино"
   ]
  },
  {
   "cell_type": "code",
   "execution_count": null,
   "id": "764edbbe",
   "metadata": {
    "scrolled": true
   },
   "outputs": [],
   "source": [
    "avg_coffee_cup = func_group(coffee_house, 'middle_coffee_cup', 'median', group='district')\n",
    "\n",
    "func_bar(avg_coffee_cup, 'middle_coffee_cup', 'district', \n",
    "         title='Медианная стоимость чашки капучино по районам',\n",
    "         xlabel='Стоимость',\n",
    "         step=20)"
   ]
  },
  {
   "cell_type": "code",
   "execution_count": null,
   "id": "c4f13d23",
   "metadata": {},
   "outputs": [],
   "source": [
    "# создание новой карты Москвы\n",
    "m = func_map()\n",
    "\n",
    "# создание хороплета с помощью конструктора Choropleth и добавление его на карту\n",
    "func_choropleth(avg_coffee_cup, 'middle_coffee_cup', 'Медианная стоимость чашки капучино по районам')\n",
    "m"
   ]
  },
  {
   "cell_type": "markdown",
   "id": "6745c90e",
   "metadata": {},
   "source": [
    "На стоимость чашки капучино следует ориентироваться на медианное значения стоимости по округам. \n",
    "В районах стоимость различается:\n",
    "- Центральный, Западный и Юго-Западный округ примерно 185-190р.\n",
    "- Северный, Северо-Западный и Северо-Восточный округ примерно 160р\n",
    "- Южный и Юго-Восточный - 150р\n",
    "- Восточный округ - 135р"
   ]
  },
  {
   "cell_type": "markdown",
   "id": "87e237d5",
   "metadata": {},
   "source": [
    "### Медианы средних чеков кофеен по районам"
   ]
  },
  {
   "cell_type": "code",
   "execution_count": null,
   "id": "8574c5cf",
   "metadata": {},
   "outputs": [],
   "source": [
    "middle_coffee = round(func_group(coffee_house, 'middle_avg_bill', 'median', 'district'))\n",
    "\n",
    "func_bar(middle_coffee, 'middle_avg_bill', 'district', \n",
    "         title='Медианы средних чеков кофеен по районам',\n",
    "         xlabel='Стоимость',\n",
    "         step=50)"
   ]
  },
  {
   "cell_type": "code",
   "execution_count": null,
   "id": "84b79bcb",
   "metadata": {
    "scrolled": true
   },
   "outputs": [],
   "source": [
    "# создание новой карты Москвы\n",
    "m = func_map()\n",
    "\n",
    "# создание хороплета с помощью конструктора Choropleth и добавление его на карту\n",
    "func_choropleth(middle_coffee, 'middle_avg_bill', 'Медианы средних чеков кофеен по районам')\n",
    "\n",
    "# вывод карты\n",
    "m"
   ]
  },
  {
   "cell_type": "markdown",
   "id": "416affa8",
   "metadata": {},
   "source": [
    "- Самым прибыльным является Западный округ - медиана среднего чека составляет 600р.\n",
    "- На втором месте - Центральный округ. Медиана среднего чека достигает 500р.\n",
    "- На третьем месте - Восточный, Южный и Юго-Западный округ - примерно 400р.\n",
    "- У Северного, Северо-Восточного и Северо-Западного - 325р.\n",
    "- Самый маленький средний чек у Юго-Восточного округа - 250р."
   ]
  },
  {
   "cell_type": "markdown",
   "id": "0c515ad0",
   "metadata": {},
   "source": [
    "### Доля сетевых кофеен по округам"
   ]
  },
  {
   "cell_type": "code",
   "execution_count": null,
   "id": "6144a839",
   "metadata": {
    "scrolled": true
   },
   "outputs": [],
   "source": [
    "chain_coffee = func_percent(coffee_house,'chain', group='district')\\\n",
    "                .sort_values('percent', ascending=False)\n",
    "chain_coffee"
   ]
  },
  {
   "cell_type": "code",
   "execution_count": null,
   "id": "6d5d8ff6",
   "metadata": {
    "scrolled": true
   },
   "outputs": [],
   "source": [
    "# создание новой карты Москвы\n",
    "m = func_map()\n",
    "\n",
    "# создание хороплета с помощью конструктора Choropleth и добавление его на карту\n",
    "func_choropleth(chain_coffee, 'percent', 'Доля сетевых кофеен по округам в %')\n",
    "m"
   ]
  },
  {
   "cell_type": "markdown",
   "id": "dc15ea70",
   "metadata": {},
   "source": [
    "- В Западном округе находится самая большая доля сетей кофеен - 62% от всех кофеен этого района.\n",
    "- Самая маленькая доля сетевых кофеен находится в Юго-Восточном округе - всего 33%.\n",
    "- В остальных округах доля сетей составляет от 49 до 55%."
   ]
  },
  {
   "cell_type": "markdown",
   "id": "fed15ba2",
   "metadata": {},
   "source": [
    "### Рекомендации"
   ]
  },
  {
   "cell_type": "markdown",
   "id": "cb341c8a",
   "metadata": {},
   "source": [
    "В Центральном округе находится огромное количество кофеен, более 400 - это в 2-7 раз больше, чем в других округах. Также же здесь расположилась почти половина круглосуточных кофеен города. Поэтому рекомендовано для открытия кофейни обратить внимание на другие районы Москвы.\n",
    "\n",
    "Далее не будем брать в расчет Центральный округ, рассмотрим остальные районы.\n",
    "\n",
    "Хорошо для открытия кофейни подойдет Западный район:\n",
    "1. Этот округ находится на третьем месте по количеству кофеен - 150 штук.\n",
    "2. На первом месте по количеству круглосутоных кофеен - 9 штук. Возможно здесь выгоднее имеет круглосутоную кофейню, чем в других округах. \n",
    "3. Рейтинги кофеен по округам почти однаковые: примерно от 4,2 до 4,3. Но в Западном округе рейтинг ниже, чем в других районах. Поэтому есть куда расти, т.е. повышать рейтинг.\n",
    "4. Средняя стоимость одной чашки капучино одна из самых высоких по районам - примерно 190р.\n",
    "5. Это самый прибыльный округ по среднему чеку (даже сравнивания с Центральным округом) - 600р. \n",
    "6. Здесь находится самая большая доля сетей кофеен - 62% от всех кофеен этого района. В остальных округах этот процент составляет от 33 до 55%. Возможно сети здесь получают самую лучшую прибыль и поэтому открываются в этом районе.\n"
   ]
  },
  {
   "cell_type": "markdown",
   "id": "dfe7ce1e",
   "metadata": {},
   "source": [
    "Презентация: <https://drive.google.com/file/d/16OcwQiYIrIzYkrs3MGkld1hhKZG7_AfZ/view?usp=sharing>"
   ]
  },
  {
   "cell_type": "code",
   "execution_count": null,
   "id": "4223db66",
   "metadata": {},
   "outputs": [],
   "source": []
  }
 ],
 "metadata": {
  "ExecuteTimeLog": [
   {
    "duration": 1511,
    "start_time": "2023-06-10T19:32:35.609Z"
   },
   {
    "duration": 303,
    "start_time": "2023-06-10T19:32:37.122Z"
   },
   {
    "duration": 17,
    "start_time": "2023-06-10T19:32:37.427Z"
   },
   {
    "duration": 15,
    "start_time": "2023-06-10T19:32:37.446Z"
   },
   {
    "duration": 21,
    "start_time": "2023-06-10T19:32:37.463Z"
   },
   {
    "duration": 15,
    "start_time": "2023-06-10T19:32:37.485Z"
   },
   {
    "duration": 46,
    "start_time": "2023-06-10T19:32:37.503Z"
   },
   {
    "duration": 30,
    "start_time": "2023-06-10T19:32:37.550Z"
   },
   {
    "duration": 47,
    "start_time": "2023-06-10T19:32:37.581Z"
   },
   {
    "duration": 8,
    "start_time": "2023-06-10T19:32:37.631Z"
   },
   {
    "duration": 48,
    "start_time": "2023-06-10T19:32:37.640Z"
   },
   {
    "duration": 11,
    "start_time": "2023-06-10T19:32:37.690Z"
   },
   {
    "duration": 26,
    "start_time": "2023-06-10T19:32:37.702Z"
   },
   {
    "duration": 23,
    "start_time": "2023-06-10T19:32:37.732Z"
   },
   {
    "duration": 39,
    "start_time": "2023-06-10T19:32:37.757Z"
   },
   {
    "duration": 38,
    "start_time": "2023-06-10T19:32:37.798Z"
   },
   {
    "duration": 22,
    "start_time": "2023-06-10T19:32:37.839Z"
   },
   {
    "duration": 36,
    "start_time": "2023-06-10T19:32:37.864Z"
   },
   {
    "duration": 202,
    "start_time": "2023-06-10T19:32:37.902Z"
   },
   {
    "duration": 18,
    "start_time": "2023-06-10T19:32:38.106Z"
   },
   {
    "duration": 181,
    "start_time": "2023-06-10T19:32:38.126Z"
   },
   {
    "duration": 3,
    "start_time": "2023-06-10T19:32:38.309Z"
   },
   {
    "duration": 728,
    "start_time": "2023-06-10T19:32:38.313Z"
   },
   {
    "duration": 4,
    "start_time": "2023-06-10T19:32:39.042Z"
   },
   {
    "duration": 79,
    "start_time": "2023-06-10T19:32:39.048Z"
   },
   {
    "duration": 255,
    "start_time": "2023-06-10T19:32:39.129Z"
   },
   {
    "duration": 183,
    "start_time": "2023-06-10T19:32:39.386Z"
   },
   {
    "duration": 3,
    "start_time": "2023-06-10T19:32:39.571Z"
   },
   {
    "duration": 29,
    "start_time": "2023-06-10T19:32:39.576Z"
   },
   {
    "duration": 27,
    "start_time": "2023-06-10T19:32:39.607Z"
   },
   {
    "duration": 30,
    "start_time": "2023-06-10T19:32:39.636Z"
   },
   {
    "duration": 46,
    "start_time": "2023-06-10T19:32:39.667Z"
   },
   {
    "duration": 73,
    "start_time": "2023-06-10T19:32:39.714Z"
   },
   {
    "duration": 1114,
    "start_time": "2023-06-10T19:32:39.789Z"
   },
   {
    "duration": 104,
    "start_time": "2023-06-10T19:32:40.906Z"
   },
   {
    "duration": 842,
    "start_time": "2023-06-10T19:32:41.024Z"
   },
   {
    "duration": 252,
    "start_time": "2023-06-10T19:32:41.867Z"
   },
   {
    "duration": 7,
    "start_time": "2023-06-10T19:32:42.121Z"
   },
   {
    "duration": 34,
    "start_time": "2023-06-10T19:32:42.130Z"
   },
   {
    "duration": 235,
    "start_time": "2023-06-10T19:32:42.166Z"
   },
   {
    "duration": 0,
    "start_time": "2023-06-10T19:32:42.404Z"
   },
   {
    "duration": 0,
    "start_time": "2023-06-10T19:32:42.405Z"
   },
   {
    "duration": 0,
    "start_time": "2023-06-10T19:32:42.406Z"
   },
   {
    "duration": 0,
    "start_time": "2023-06-10T19:32:42.408Z"
   },
   {
    "duration": 0,
    "start_time": "2023-06-10T19:32:42.424Z"
   },
   {
    "duration": 0,
    "start_time": "2023-06-10T19:32:42.425Z"
   },
   {
    "duration": 0,
    "start_time": "2023-06-10T19:32:42.426Z"
   },
   {
    "duration": 0,
    "start_time": "2023-06-10T19:32:42.428Z"
   },
   {
    "duration": 0,
    "start_time": "2023-06-10T19:32:42.429Z"
   },
   {
    "duration": 0,
    "start_time": "2023-06-10T19:32:42.430Z"
   },
   {
    "duration": 0,
    "start_time": "2023-06-10T19:32:42.432Z"
   },
   {
    "duration": 0,
    "start_time": "2023-06-10T19:32:42.433Z"
   },
   {
    "duration": 0,
    "start_time": "2023-06-10T19:32:42.434Z"
   },
   {
    "duration": 0,
    "start_time": "2023-06-10T19:32:42.435Z"
   },
   {
    "duration": 0,
    "start_time": "2023-06-10T19:32:42.436Z"
   },
   {
    "duration": 0,
    "start_time": "2023-06-10T19:32:42.437Z"
   },
   {
    "duration": 0,
    "start_time": "2023-06-10T19:32:42.439Z"
   },
   {
    "duration": 0,
    "start_time": "2023-06-10T19:32:42.440Z"
   },
   {
    "duration": 0,
    "start_time": "2023-06-10T19:32:42.441Z"
   },
   {
    "duration": 0,
    "start_time": "2023-06-10T19:32:42.442Z"
   },
   {
    "duration": 0,
    "start_time": "2023-06-10T19:32:42.443Z"
   },
   {
    "duration": 0,
    "start_time": "2023-06-10T19:32:42.444Z"
   },
   {
    "duration": 49,
    "start_time": "2023-06-10T20:01:19.013Z"
   },
   {
    "duration": 1719,
    "start_time": "2023-06-10T20:01:25.819Z"
   },
   {
    "duration": 271,
    "start_time": "2023-06-10T20:01:27.541Z"
   },
   {
    "duration": 20,
    "start_time": "2023-06-10T20:01:27.814Z"
   },
   {
    "duration": 7,
    "start_time": "2023-06-10T20:01:27.836Z"
   },
   {
    "duration": 10,
    "start_time": "2023-06-10T20:01:27.846Z"
   },
   {
    "duration": 21,
    "start_time": "2023-06-10T20:01:27.858Z"
   },
   {
    "duration": 16,
    "start_time": "2023-06-10T20:01:27.880Z"
   },
   {
    "duration": 8,
    "start_time": "2023-06-10T20:01:27.898Z"
   },
   {
    "duration": 52,
    "start_time": "2023-06-10T20:01:27.908Z"
   },
   {
    "duration": 9,
    "start_time": "2023-06-10T20:01:27.962Z"
   },
   {
    "duration": 17,
    "start_time": "2023-06-10T20:01:27.972Z"
   },
   {
    "duration": 2,
    "start_time": "2023-06-10T20:01:27.991Z"
   },
   {
    "duration": 21,
    "start_time": "2023-06-10T20:01:27.995Z"
   },
   {
    "duration": 29,
    "start_time": "2023-06-10T20:01:28.018Z"
   },
   {
    "duration": 12,
    "start_time": "2023-06-10T20:01:28.048Z"
   },
   {
    "duration": 7,
    "start_time": "2023-06-10T20:01:28.061Z"
   },
   {
    "duration": 10,
    "start_time": "2023-06-10T20:01:28.069Z"
   },
   {
    "duration": 15,
    "start_time": "2023-06-10T20:01:28.080Z"
   },
   {
    "duration": 251,
    "start_time": "2023-06-10T20:01:28.097Z"
   },
   {
    "duration": 12,
    "start_time": "2023-06-10T20:01:28.350Z"
   },
   {
    "duration": 238,
    "start_time": "2023-06-10T20:01:28.365Z"
   },
   {
    "duration": 3,
    "start_time": "2023-06-10T20:01:28.605Z"
   },
   {
    "duration": 563,
    "start_time": "2023-06-10T20:01:28.610Z"
   },
   {
    "duration": 4,
    "start_time": "2023-06-10T20:01:29.175Z"
   },
   {
    "duration": 77,
    "start_time": "2023-06-10T20:01:29.180Z"
   },
   {
    "duration": 289,
    "start_time": "2023-06-10T20:01:29.258Z"
   },
   {
    "duration": 175,
    "start_time": "2023-06-10T20:01:29.548Z"
   },
   {
    "duration": 4,
    "start_time": "2023-06-10T20:01:29.726Z"
   },
   {
    "duration": 6,
    "start_time": "2023-06-10T20:01:29.741Z"
   },
   {
    "duration": 6,
    "start_time": "2023-06-10T20:01:29.749Z"
   },
   {
    "duration": 5,
    "start_time": "2023-06-10T20:01:29.757Z"
   },
   {
    "duration": 57,
    "start_time": "2023-06-10T20:01:29.764Z"
   },
   {
    "duration": 70,
    "start_time": "2023-06-10T20:01:29.823Z"
   },
   {
    "duration": 1121,
    "start_time": "2023-06-10T20:01:29.895Z"
   },
   {
    "duration": 81,
    "start_time": "2023-06-10T20:01:31.019Z"
   },
   {
    "duration": 818,
    "start_time": "2023-06-10T20:01:31.102Z"
   },
   {
    "duration": 251,
    "start_time": "2023-06-10T20:01:31.922Z"
   },
   {
    "duration": 4,
    "start_time": "2023-06-10T20:01:32.175Z"
   },
   {
    "duration": 36,
    "start_time": "2023-06-10T20:01:32.180Z"
   },
   {
    "duration": 262,
    "start_time": "2023-06-10T20:01:32.218Z"
   },
   {
    "duration": 0,
    "start_time": "2023-06-10T20:01:32.482Z"
   },
   {
    "duration": 0,
    "start_time": "2023-06-10T20:01:32.483Z"
   },
   {
    "duration": 0,
    "start_time": "2023-06-10T20:01:32.484Z"
   },
   {
    "duration": 0,
    "start_time": "2023-06-10T20:01:32.485Z"
   },
   {
    "duration": 0,
    "start_time": "2023-06-10T20:01:32.486Z"
   },
   {
    "duration": 0,
    "start_time": "2023-06-10T20:01:32.487Z"
   },
   {
    "duration": 0,
    "start_time": "2023-06-10T20:01:32.488Z"
   },
   {
    "duration": 0,
    "start_time": "2023-06-10T20:01:32.489Z"
   },
   {
    "duration": 0,
    "start_time": "2023-06-10T20:01:32.490Z"
   },
   {
    "duration": 0,
    "start_time": "2023-06-10T20:01:32.492Z"
   },
   {
    "duration": 0,
    "start_time": "2023-06-10T20:01:32.494Z"
   },
   {
    "duration": 0,
    "start_time": "2023-06-10T20:01:32.495Z"
   },
   {
    "duration": 0,
    "start_time": "2023-06-10T20:01:32.496Z"
   },
   {
    "duration": 0,
    "start_time": "2023-06-10T20:01:32.498Z"
   },
   {
    "duration": 0,
    "start_time": "2023-06-10T20:01:32.499Z"
   },
   {
    "duration": 0,
    "start_time": "2023-06-10T20:01:32.501Z"
   },
   {
    "duration": 0,
    "start_time": "2023-06-10T20:01:32.502Z"
   },
   {
    "duration": 0,
    "start_time": "2023-06-10T20:01:32.503Z"
   },
   {
    "duration": 0,
    "start_time": "2023-06-10T20:01:32.504Z"
   },
   {
    "duration": 0,
    "start_time": "2023-06-10T20:01:32.505Z"
   },
   {
    "duration": 0,
    "start_time": "2023-06-10T20:01:32.542Z"
   },
   {
    "duration": 0,
    "start_time": "2023-06-10T20:01:32.543Z"
   },
   {
    "duration": 13,
    "start_time": "2023-06-10T20:02:26.566Z"
   },
   {
    "duration": 31,
    "start_time": "2023-06-10T20:03:18.105Z"
   },
   {
    "duration": 9,
    "start_time": "2023-06-10T20:04:19.319Z"
   },
   {
    "duration": 6,
    "start_time": "2023-06-10T20:09:08.808Z"
   },
   {
    "duration": 5,
    "start_time": "2023-06-10T20:11:55.433Z"
   },
   {
    "duration": 229,
    "start_time": "2023-06-10T20:12:01.008Z"
   },
   {
    "duration": 193,
    "start_time": "2023-06-10T20:12:29.226Z"
   },
   {
    "duration": 13,
    "start_time": "2023-06-10T20:13:37.768Z"
   },
   {
    "duration": 1691,
    "start_time": "2023-06-10T20:14:59.145Z"
   },
   {
    "duration": 282,
    "start_time": "2023-06-10T20:15:00.839Z"
   },
   {
    "duration": 28,
    "start_time": "2023-06-10T20:15:01.123Z"
   },
   {
    "duration": 8,
    "start_time": "2023-06-10T20:15:01.154Z"
   },
   {
    "duration": 37,
    "start_time": "2023-06-10T20:15:01.163Z"
   },
   {
    "duration": 79,
    "start_time": "2023-06-10T20:15:01.202Z"
   },
   {
    "duration": 46,
    "start_time": "2023-06-10T20:15:01.283Z"
   },
   {
    "duration": 26,
    "start_time": "2023-06-10T20:15:01.331Z"
   },
   {
    "duration": 134,
    "start_time": "2023-06-10T20:15:01.359Z"
   },
   {
    "duration": 199,
    "start_time": "2023-06-10T20:15:01.496Z"
   },
   {
    "duration": 50,
    "start_time": "2023-06-10T20:15:01.697Z"
   },
   {
    "duration": 57,
    "start_time": "2023-06-10T20:15:01.749Z"
   },
   {
    "duration": 23,
    "start_time": "2023-06-10T20:15:01.808Z"
   },
   {
    "duration": 56,
    "start_time": "2023-06-10T20:15:01.834Z"
   },
   {
    "duration": 33,
    "start_time": "2023-06-10T20:15:01.892Z"
   },
   {
    "duration": 64,
    "start_time": "2023-06-10T20:15:01.927Z"
   },
   {
    "duration": 30,
    "start_time": "2023-06-10T20:15:01.994Z"
   },
   {
    "duration": 60,
    "start_time": "2023-06-10T20:15:02.026Z"
   },
   {
    "duration": 223,
    "start_time": "2023-06-10T20:15:02.089Z"
   },
   {
    "duration": 10,
    "start_time": "2023-06-10T20:15:02.313Z"
   },
   {
    "duration": 253,
    "start_time": "2023-06-10T20:15:02.325Z"
   },
   {
    "duration": 3,
    "start_time": "2023-06-10T20:15:02.580Z"
   },
   {
    "duration": 594,
    "start_time": "2023-06-10T20:15:02.585Z"
   },
   {
    "duration": 4,
    "start_time": "2023-06-10T20:15:03.181Z"
   },
   {
    "duration": 66,
    "start_time": "2023-06-10T20:15:03.187Z"
   },
   {
    "duration": 303,
    "start_time": "2023-06-10T20:15:03.255Z"
   },
   {
    "duration": 208,
    "start_time": "2023-06-10T20:15:03.560Z"
   },
   {
    "duration": 4,
    "start_time": "2023-06-10T20:15:03.772Z"
   },
   {
    "duration": 29,
    "start_time": "2023-06-10T20:15:03.778Z"
   },
   {
    "duration": 25,
    "start_time": "2023-06-10T20:15:03.809Z"
   },
   {
    "duration": 34,
    "start_time": "2023-06-10T20:15:03.836Z"
   },
   {
    "duration": 75,
    "start_time": "2023-06-10T20:15:03.872Z"
   },
   {
    "duration": 77,
    "start_time": "2023-06-10T20:15:03.949Z"
   },
   {
    "duration": 1123,
    "start_time": "2023-06-10T20:15:04.027Z"
   },
   {
    "duration": 93,
    "start_time": "2023-06-10T20:15:05.152Z"
   },
   {
    "duration": 835,
    "start_time": "2023-06-10T20:15:05.248Z"
   },
   {
    "duration": 290,
    "start_time": "2023-06-10T20:15:06.085Z"
   },
   {
    "duration": 3,
    "start_time": "2023-06-10T20:15:06.377Z"
   },
   {
    "duration": 6,
    "start_time": "2023-06-10T20:15:06.382Z"
   },
   {
    "duration": 301,
    "start_time": "2023-06-10T20:15:06.390Z"
   },
   {
    "duration": 0,
    "start_time": "2023-06-10T20:15:06.692Z"
   },
   {
    "duration": 0,
    "start_time": "2023-06-10T20:15:06.694Z"
   },
   {
    "duration": 0,
    "start_time": "2023-06-10T20:15:06.695Z"
   },
   {
    "duration": 0,
    "start_time": "2023-06-10T20:15:06.696Z"
   },
   {
    "duration": 0,
    "start_time": "2023-06-10T20:15:06.697Z"
   },
   {
    "duration": 0,
    "start_time": "2023-06-10T20:15:06.698Z"
   },
   {
    "duration": 0,
    "start_time": "2023-06-10T20:15:06.700Z"
   },
   {
    "duration": 0,
    "start_time": "2023-06-10T20:15:06.701Z"
   },
   {
    "duration": 0,
    "start_time": "2023-06-10T20:15:06.702Z"
   },
   {
    "duration": 0,
    "start_time": "2023-06-10T20:15:06.703Z"
   },
   {
    "duration": 0,
    "start_time": "2023-06-10T20:15:06.704Z"
   },
   {
    "duration": 0,
    "start_time": "2023-06-10T20:15:06.705Z"
   },
   {
    "duration": 0,
    "start_time": "2023-06-10T20:15:06.707Z"
   },
   {
    "duration": 0,
    "start_time": "2023-06-10T20:15:06.708Z"
   },
   {
    "duration": 0,
    "start_time": "2023-06-10T20:15:06.709Z"
   },
   {
    "duration": 0,
    "start_time": "2023-06-10T20:15:06.710Z"
   },
   {
    "duration": 0,
    "start_time": "2023-06-10T20:15:06.711Z"
   },
   {
    "duration": 0,
    "start_time": "2023-06-10T20:15:06.742Z"
   },
   {
    "duration": 0,
    "start_time": "2023-06-10T20:15:06.744Z"
   },
   {
    "duration": 0,
    "start_time": "2023-06-10T20:15:06.746Z"
   },
   {
    "duration": 0,
    "start_time": "2023-06-10T20:15:06.748Z"
   },
   {
    "duration": 0,
    "start_time": "2023-06-10T20:15:06.749Z"
   },
   {
    "duration": 95,
    "start_time": "2023-06-10T20:23:02.544Z"
   },
   {
    "duration": 193,
    "start_time": "2023-06-10T20:23:08.796Z"
   },
   {
    "duration": 86,
    "start_time": "2023-06-10T20:23:14.729Z"
   },
   {
    "duration": 1618,
    "start_time": "2023-06-11T07:31:37.151Z"
   },
   {
    "duration": 272,
    "start_time": "2023-06-11T07:31:38.771Z"
   },
   {
    "duration": 18,
    "start_time": "2023-06-11T07:31:39.045Z"
   },
   {
    "duration": 29,
    "start_time": "2023-06-11T07:31:39.064Z"
   },
   {
    "duration": 7,
    "start_time": "2023-06-11T07:31:39.095Z"
   },
   {
    "duration": 19,
    "start_time": "2023-06-11T07:31:39.104Z"
   },
   {
    "duration": 18,
    "start_time": "2023-06-11T07:31:39.125Z"
   },
   {
    "duration": 17,
    "start_time": "2023-06-11T07:31:39.145Z"
   },
   {
    "duration": 32,
    "start_time": "2023-06-11T07:31:39.163Z"
   },
   {
    "duration": 10,
    "start_time": "2023-06-11T07:31:39.196Z"
   },
   {
    "duration": 26,
    "start_time": "2023-06-11T07:31:39.208Z"
   },
   {
    "duration": 22,
    "start_time": "2023-06-11T07:31:39.236Z"
   },
   {
    "duration": 37,
    "start_time": "2023-06-11T07:31:39.260Z"
   },
   {
    "duration": 27,
    "start_time": "2023-06-11T07:31:39.301Z"
   },
   {
    "duration": 13,
    "start_time": "2023-06-11T07:31:39.330Z"
   },
   {
    "duration": 16,
    "start_time": "2023-06-11T07:31:39.344Z"
   },
   {
    "duration": 37,
    "start_time": "2023-06-11T07:31:39.362Z"
   },
   {
    "duration": 28,
    "start_time": "2023-06-11T07:31:39.401Z"
   },
   {
    "duration": 206,
    "start_time": "2023-06-11T07:31:39.431Z"
   },
   {
    "duration": 8,
    "start_time": "2023-06-11T07:31:39.638Z"
   },
   {
    "duration": 217,
    "start_time": "2023-06-11T07:31:39.648Z"
   },
   {
    "duration": 2,
    "start_time": "2023-06-11T07:31:39.867Z"
   },
   {
    "duration": 663,
    "start_time": "2023-06-11T07:31:39.871Z"
   },
   {
    "duration": 4,
    "start_time": "2023-06-11T07:31:40.536Z"
   },
   {
    "duration": 25,
    "start_time": "2023-06-11T07:31:40.541Z"
   },
   {
    "duration": 294,
    "start_time": "2023-06-11T07:31:40.568Z"
   },
   {
    "duration": 226,
    "start_time": "2023-06-11T07:31:40.864Z"
   },
   {
    "duration": 4,
    "start_time": "2023-06-11T07:31:41.091Z"
   },
   {
    "duration": 11,
    "start_time": "2023-06-11T07:31:41.097Z"
   },
   {
    "duration": 33,
    "start_time": "2023-06-11T07:31:41.109Z"
   },
   {
    "duration": 5,
    "start_time": "2023-06-11T07:31:41.144Z"
   },
   {
    "duration": 32,
    "start_time": "2023-06-11T07:31:41.150Z"
   },
   {
    "duration": 71,
    "start_time": "2023-06-11T07:31:41.184Z"
   },
   {
    "duration": 1130,
    "start_time": "2023-06-11T07:31:41.256Z"
   },
   {
    "duration": 98,
    "start_time": "2023-06-11T07:31:42.388Z"
   },
   {
    "duration": 799,
    "start_time": "2023-06-11T07:31:42.489Z"
   },
   {
    "duration": 271,
    "start_time": "2023-06-11T07:31:43.290Z"
   },
   {
    "duration": 3,
    "start_time": "2023-06-11T07:31:43.564Z"
   },
   {
    "duration": 25,
    "start_time": "2023-06-11T07:31:43.569Z"
   },
   {
    "duration": 182,
    "start_time": "2023-06-11T07:31:43.596Z"
   },
   {
    "duration": 86,
    "start_time": "2023-06-11T07:31:43.782Z"
   },
   {
    "duration": 9439,
    "start_time": "2023-06-11T07:31:43.870Z"
   },
   {
    "duration": 144,
    "start_time": "2023-06-11T07:31:53.311Z"
   },
   {
    "duration": 1096,
    "start_time": "2023-06-11T07:31:53.456Z"
   },
   {
    "duration": 586,
    "start_time": "2023-06-11T07:31:54.554Z"
   },
   {
    "duration": 102,
    "start_time": "2023-06-11T07:31:55.141Z"
   },
   {
    "duration": 242,
    "start_time": "2023-06-11T07:31:55.245Z"
   },
   {
    "duration": 130,
    "start_time": "2023-06-11T07:31:55.489Z"
   },
   {
    "duration": 6,
    "start_time": "2023-06-11T07:31:55.624Z"
   },
   {
    "duration": 294,
    "start_time": "2023-06-11T07:31:55.631Z"
   },
   {
    "duration": 84,
    "start_time": "2023-06-11T07:31:55.926Z"
   },
   {
    "duration": 15,
    "start_time": "2023-06-11T07:31:56.012Z"
   },
   {
    "duration": 197,
    "start_time": "2023-06-11T07:31:56.029Z"
   },
   {
    "duration": 0,
    "start_time": "2023-06-11T07:31:56.227Z"
   },
   {
    "duration": 0,
    "start_time": "2023-06-11T07:31:56.229Z"
   },
   {
    "duration": 0,
    "start_time": "2023-06-11T07:31:56.230Z"
   },
   {
    "duration": 0,
    "start_time": "2023-06-11T07:31:56.231Z"
   },
   {
    "duration": 0,
    "start_time": "2023-06-11T07:31:56.232Z"
   },
   {
    "duration": 0,
    "start_time": "2023-06-11T07:31:56.233Z"
   },
   {
    "duration": 0,
    "start_time": "2023-06-11T07:31:56.235Z"
   },
   {
    "duration": 0,
    "start_time": "2023-06-11T07:31:56.236Z"
   },
   {
    "duration": 0,
    "start_time": "2023-06-11T07:31:56.237Z"
   },
   {
    "duration": 13,
    "start_time": "2023-06-11T07:32:22.259Z"
   },
   {
    "duration": 0,
    "start_time": "2023-06-11T07:32:22.275Z"
   },
   {
    "duration": 0,
    "start_time": "2023-06-11T07:32:22.276Z"
   },
   {
    "duration": 0,
    "start_time": "2023-06-11T07:32:22.277Z"
   },
   {
    "duration": 0,
    "start_time": "2023-06-11T07:32:22.278Z"
   },
   {
    "duration": 0,
    "start_time": "2023-06-11T07:32:22.279Z"
   },
   {
    "duration": 0,
    "start_time": "2023-06-11T07:32:22.281Z"
   },
   {
    "duration": 23,
    "start_time": "2023-06-11T07:32:22.282Z"
   },
   {
    "duration": 86,
    "start_time": "2023-06-11T07:32:22.307Z"
   },
   {
    "duration": 312,
    "start_time": "2023-06-11T07:32:30.906Z"
   },
   {
    "duration": 88,
    "start_time": "2023-06-11T07:32:31.893Z"
   },
   {
    "duration": 443,
    "start_time": "2023-06-11T07:32:32.711Z"
   },
   {
    "duration": 89,
    "start_time": "2023-06-11T07:32:33.156Z"
   },
   {
    "duration": 262,
    "start_time": "2023-06-11T07:32:34.265Z"
   },
   {
    "duration": 84,
    "start_time": "2023-06-11T07:32:34.529Z"
   },
   {
    "duration": 19,
    "start_time": "2023-06-11T07:32:35.822Z"
   },
   {
    "duration": 87,
    "start_time": "2023-06-11T07:32:36.154Z"
   }
  ],
  "kernelspec": {
   "display_name": "Python 3 (ipykernel)",
   "language": "python",
   "name": "python3"
  },
  "language_info": {
   "codemirror_mode": {
    "name": "ipython",
    "version": 3
   },
   "file_extension": ".py",
   "mimetype": "text/x-python",
   "name": "python",
   "nbconvert_exporter": "python",
   "pygments_lexer": "ipython3",
   "version": "3.9.18"
  },
  "toc": {
   "base_numbering": 1,
   "nav_menu": {},
   "number_sections": true,
   "sideBar": true,
   "skip_h1_title": true,
   "title_cell": "Содержание",
   "title_sidebar": "Contents",
   "toc_cell": true,
   "toc_position": {
    "height": "calc(100% - 180px)",
    "left": "10px",
    "top": "150px",
    "width": "227.815px"
   },
   "toc_section_display": true,
   "toc_window_display": false
  }
 },
 "nbformat": 4,
 "nbformat_minor": 5
}
